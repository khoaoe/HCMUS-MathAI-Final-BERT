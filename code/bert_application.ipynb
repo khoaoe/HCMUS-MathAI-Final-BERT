{
  "cells": [
    {
      "cell_type": "markdown",
      "metadata": {
        "id": "dUubYiMf8a6q"
      },
      "source": [
        "# Ứng dụng BERT: Từ Lý thuyết đến Thực hành\n",
        "\n",
        "Notebook này trình bày việc áp dụng cài đặt BERT cho bài toán phân tích cảm xúc, thông qua bốn giai đoạn chính:\n",
        "- **Giai đoạn A**: Xác minh Cài đặt BERT \"build-from-scratch\" và chạy thử\n",
        "- **Giai đoạn B**: Fine-tune mô hình BERT đã được huấn luyện trước cho bài toán phân loại cảm xúc\n",
        "- **Giai đoạn C**: Trích xuất các embedding và so sánh với TF-IDF\n",
        "- **Giai đoạn D**: Trực quan hóa các mẫu attention (attention patterns)\n",
        "\n",
        "Notebook được chạy trên [Google Colab](https://colab.research.google.com/drive/1VOJh1axPEoq-bhXwFVajEl-s4PFzH5tL?usp=sharing) (bấm vào để vào truy cập)"
      ]
    },
    {
      "cell_type": "markdown",
      "metadata": {
        "id": "01eperbF8a6t"
      },
      "source": [
        "## Cài đặt và Thư viện"
      ]
    },
    {
      "cell_type": "code",
      "source": [
        "!pip install --upgrade datasets fsspec"
      ],
      "metadata": {
        "collapsed": true,
        "id": "4EDdkyCi87bg",
        "colab": {
          "base_uri": "https://localhost:8080/"
        },
        "outputId": "083f6706-0a54-47d3-fe20-4fe5327661bd"
      },
      "execution_count": 1,
      "outputs": [
        {
          "output_type": "stream",
          "name": "stdout",
          "text": [
            "Requirement already satisfied: datasets in /usr/local/lib/python3.11/dist-packages (2.14.4)\n",
            "Collecting datasets\n",
            "  Downloading datasets-3.6.0-py3-none-any.whl.metadata (19 kB)\n",
            "Requirement already satisfied: fsspec in /usr/local/lib/python3.11/dist-packages (2025.3.2)\n",
            "Collecting fsspec\n",
            "  Downloading fsspec-2025.5.1-py3-none-any.whl.metadata (11 kB)\n",
            "Requirement already satisfied: filelock in /usr/local/lib/python3.11/dist-packages (from datasets) (3.18.0)\n",
            "Requirement already satisfied: numpy>=1.17 in /usr/local/lib/python3.11/dist-packages (from datasets) (2.0.2)\n",
            "Requirement already satisfied: pyarrow>=15.0.0 in /usr/local/lib/python3.11/dist-packages (from datasets) (18.1.0)\n",
            "Requirement already satisfied: dill<0.3.9,>=0.3.0 in /usr/local/lib/python3.11/dist-packages (from datasets) (0.3.7)\n",
            "Requirement already satisfied: pandas in /usr/local/lib/python3.11/dist-packages (from datasets) (2.2.2)\n",
            "Requirement already satisfied: requests>=2.32.2 in /usr/local/lib/python3.11/dist-packages (from datasets) (2.32.3)\n",
            "Requirement already satisfied: tqdm>=4.66.3 in /usr/local/lib/python3.11/dist-packages (from datasets) (4.67.1)\n",
            "Requirement already satisfied: xxhash in /usr/local/lib/python3.11/dist-packages (from datasets) (3.5.0)\n",
            "Requirement already satisfied: multiprocess<0.70.17 in /usr/local/lib/python3.11/dist-packages (from datasets) (0.70.15)\n",
            "  Downloading fsspec-2025.3.0-py3-none-any.whl.metadata (11 kB)\n",
            "Requirement already satisfied: huggingface-hub>=0.24.0 in /usr/local/lib/python3.11/dist-packages (from datasets) (0.32.4)\n",
            "Requirement already satisfied: packaging in /usr/local/lib/python3.11/dist-packages (from datasets) (24.2)\n",
            "Requirement already satisfied: pyyaml>=5.1 in /usr/local/lib/python3.11/dist-packages (from datasets) (6.0.2)\n",
            "Requirement already satisfied: aiohttp!=4.0.0a0,!=4.0.0a1 in /usr/local/lib/python3.11/dist-packages (from fsspec[http]<=2025.3.0,>=2023.1.0->datasets) (3.11.15)\n",
            "Requirement already satisfied: typing-extensions>=3.7.4.3 in /usr/local/lib/python3.11/dist-packages (from huggingface-hub>=0.24.0->datasets) (4.14.0)\n",
            "Requirement already satisfied: hf-xet<2.0.0,>=1.1.2 in /usr/local/lib/python3.11/dist-packages (from huggingface-hub>=0.24.0->datasets) (1.1.2)\n",
            "Requirement already satisfied: charset-normalizer<4,>=2 in /usr/local/lib/python3.11/dist-packages (from requests>=2.32.2->datasets) (3.4.2)\n",
            "Requirement already satisfied: idna<4,>=2.5 in /usr/local/lib/python3.11/dist-packages (from requests>=2.32.2->datasets) (3.10)\n",
            "Requirement already satisfied: urllib3<3,>=1.21.1 in /usr/local/lib/python3.11/dist-packages (from requests>=2.32.2->datasets) (2.4.0)\n",
            "Requirement already satisfied: certifi>=2017.4.17 in /usr/local/lib/python3.11/dist-packages (from requests>=2.32.2->datasets) (2025.4.26)\n",
            "Requirement already satisfied: python-dateutil>=2.8.2 in /usr/local/lib/python3.11/dist-packages (from pandas->datasets) (2.9.0.post0)\n",
            "Requirement already satisfied: pytz>=2020.1 in /usr/local/lib/python3.11/dist-packages (from pandas->datasets) (2025.2)\n",
            "Requirement already satisfied: tzdata>=2022.7 in /usr/local/lib/python3.11/dist-packages (from pandas->datasets) (2025.2)\n",
            "Requirement already satisfied: aiohappyeyeballs>=2.3.0 in /usr/local/lib/python3.11/dist-packages (from aiohttp!=4.0.0a0,!=4.0.0a1->fsspec[http]<=2025.3.0,>=2023.1.0->datasets) (2.6.1)\n",
            "Requirement already satisfied: aiosignal>=1.1.2 in /usr/local/lib/python3.11/dist-packages (from aiohttp!=4.0.0a0,!=4.0.0a1->fsspec[http]<=2025.3.0,>=2023.1.0->datasets) (1.3.2)\n",
            "Requirement already satisfied: attrs>=17.3.0 in /usr/local/lib/python3.11/dist-packages (from aiohttp!=4.0.0a0,!=4.0.0a1->fsspec[http]<=2025.3.0,>=2023.1.0->datasets) (25.3.0)\n",
            "Requirement already satisfied: frozenlist>=1.1.1 in /usr/local/lib/python3.11/dist-packages (from aiohttp!=4.0.0a0,!=4.0.0a1->fsspec[http]<=2025.3.0,>=2023.1.0->datasets) (1.6.0)\n",
            "Requirement already satisfied: multidict<7.0,>=4.5 in /usr/local/lib/python3.11/dist-packages (from aiohttp!=4.0.0a0,!=4.0.0a1->fsspec[http]<=2025.3.0,>=2023.1.0->datasets) (6.4.4)\n",
            "Requirement already satisfied: propcache>=0.2.0 in /usr/local/lib/python3.11/dist-packages (from aiohttp!=4.0.0a0,!=4.0.0a1->fsspec[http]<=2025.3.0,>=2023.1.0->datasets) (0.3.1)\n",
            "Requirement already satisfied: yarl<2.0,>=1.17.0 in /usr/local/lib/python3.11/dist-packages (from aiohttp!=4.0.0a0,!=4.0.0a1->fsspec[http]<=2025.3.0,>=2023.1.0->datasets) (1.20.0)\n",
            "Requirement already satisfied: six>=1.5 in /usr/local/lib/python3.11/dist-packages (from python-dateutil>=2.8.2->pandas->datasets) (1.17.0)\n",
            "Downloading datasets-3.6.0-py3-none-any.whl (491 kB)\n",
            "\u001b[2K   \u001b[90m━━━━━━━━━━━━━━━━━━━━━━━━━━━━━━━━━━━━━━━━\u001b[0m \u001b[32m491.5/491.5 kB\u001b[0m \u001b[31m17.7 MB/s\u001b[0m eta \u001b[36m0:00:00\u001b[0m\n",
            "\u001b[?25hDownloading fsspec-2025.3.0-py3-none-any.whl (193 kB)\n",
            "\u001b[2K   \u001b[90m━━━━━━━━━━━━━━━━━━━━━━━━━━━━━━━━━━━━━━━━\u001b[0m \u001b[32m193.6/193.6 kB\u001b[0m \u001b[31m19.8 MB/s\u001b[0m eta \u001b[36m0:00:00\u001b[0m\n",
            "\u001b[?25hInstalling collected packages: fsspec, datasets\n",
            "  Attempting uninstall: fsspec\n",
            "    Found existing installation: fsspec 2025.3.2\n",
            "    Uninstalling fsspec-2025.3.2:\n",
            "      Successfully uninstalled fsspec-2025.3.2\n",
            "  Attempting uninstall: datasets\n",
            "    Found existing installation: datasets 2.14.4\n",
            "    Uninstalling datasets-2.14.4:\n",
            "      Successfully uninstalled datasets-2.14.4\n",
            "\u001b[31mERROR: pip's dependency resolver does not currently take into account all the packages that are installed. This behaviour is the source of the following dependency conflicts.\n",
            "gcsfs 2025.3.2 requires fsspec==2025.3.2, but you have fsspec 2025.3.0 which is incompatible.\n",
            "torch 2.6.0+cu124 requires nvidia-cublas-cu12==12.4.5.8; platform_system == \"Linux\" and platform_machine == \"x86_64\", but you have nvidia-cublas-cu12 12.5.3.2 which is incompatible.\n",
            "torch 2.6.0+cu124 requires nvidia-cuda-cupti-cu12==12.4.127; platform_system == \"Linux\" and platform_machine == \"x86_64\", but you have nvidia-cuda-cupti-cu12 12.5.82 which is incompatible.\n",
            "torch 2.6.0+cu124 requires nvidia-cuda-nvrtc-cu12==12.4.127; platform_system == \"Linux\" and platform_machine == \"x86_64\", but you have nvidia-cuda-nvrtc-cu12 12.5.82 which is incompatible.\n",
            "torch 2.6.0+cu124 requires nvidia-cuda-runtime-cu12==12.4.127; platform_system == \"Linux\" and platform_machine == \"x86_64\", but you have nvidia-cuda-runtime-cu12 12.5.82 which is incompatible.\n",
            "torch 2.6.0+cu124 requires nvidia-cudnn-cu12==9.1.0.70; platform_system == \"Linux\" and platform_machine == \"x86_64\", but you have nvidia-cudnn-cu12 9.3.0.75 which is incompatible.\n",
            "torch 2.6.0+cu124 requires nvidia-cufft-cu12==11.2.1.3; platform_system == \"Linux\" and platform_machine == \"x86_64\", but you have nvidia-cufft-cu12 11.2.3.61 which is incompatible.\n",
            "torch 2.6.0+cu124 requires nvidia-curand-cu12==10.3.5.147; platform_system == \"Linux\" and platform_machine == \"x86_64\", but you have nvidia-curand-cu12 10.3.6.82 which is incompatible.\n",
            "torch 2.6.0+cu124 requires nvidia-cusolver-cu12==11.6.1.9; platform_system == \"Linux\" and platform_machine == \"x86_64\", but you have nvidia-cusolver-cu12 11.6.3.83 which is incompatible.\n",
            "torch 2.6.0+cu124 requires nvidia-cusparse-cu12==12.3.1.170; platform_system == \"Linux\" and platform_machine == \"x86_64\", but you have nvidia-cusparse-cu12 12.5.1.3 which is incompatible.\n",
            "torch 2.6.0+cu124 requires nvidia-nvjitlink-cu12==12.4.127; platform_system == \"Linux\" and platform_machine == \"x86_64\", but you have nvidia-nvjitlink-cu12 12.5.82 which is incompatible.\u001b[0m\u001b[31m\n",
            "\u001b[0mSuccessfully installed datasets-3.6.0 fsspec-2025.3.0\n"
          ]
        }
      ]
    },
    {
      "cell_type": "code",
      "execution_count": 2,
      "metadata": {
        "id": "-kIhTCE28a6t",
        "colab": {
          "base_uri": "https://localhost:8080/"
        },
        "outputId": "e2be43ca-b12e-4523-eff6-e5ca3db22499"
      },
      "outputs": [
        {
          "output_type": "stream",
          "name": "stdout",
          "text": [
            "Sử dụng thiết bị: cuda\n"
          ]
        }
      ],
      "source": [
        "# Các thư viện chuẩn\n",
        "import torch\n",
        "import torch.nn as nn\n",
        "from torch.utils.data import DataLoader, Dataset\n",
        "import numpy as np\n",
        "import matplotlib.pyplot as plt\n",
        "import seaborn as sns\n",
        "from tqdm import tqdm\n",
        "import time\n",
        "import os\n",
        "\n",
        "# Thư viện Transformers cho các mô hình pre-trained\n",
        "from transformers import (\n",
        "    BertTokenizer,\n",
        "    BertModel,\n",
        "    BertForSequenceClassification,\n",
        "    Trainer,\n",
        "    TrainingArguments,\n",
        "    set_seed\n",
        ")\n",
        "\n",
        "# Để xử lý tập dữ liệu\n",
        "from datasets import load_dataset\n",
        "\n",
        "# Để so sánh với các mô hình ML truyền thống\n",
        "from sklearn.model_selection import train_test_split\n",
        "from sklearn.metrics import accuracy_score, classification_report, confusion_matrix\n",
        "from sklearn.linear_model import LogisticRegression\n",
        "from sklearn.feature_extraction.text import TfidfVectorizer\n",
        "\n",
        "# \"build-from-scratch\" BERT\n",
        "from bert import (\n",
        "    BertConfig,\n",
        "    BertModel as CustomBertModel,\n",
        "    BertForPreTraining,\n",
        "    BertForSequenceClassification as CustomBertForSequenceClassification,\n",
        "    BertDataset,\n",
        "    BertTrainer,\n",
        "    test_attention_mechanism,\n",
        "    test_bert_model,\n",
        "    quick_demo\n",
        ")\n",
        "\n",
        "# Đặt seed ngẫu nhiên để đảm bảo kết quả có thể lặp lại\n",
        "set_seed(42)\n",
        "torch.manual_seed(42)\n",
        "np.random.seed(42)\n",
        "\n",
        "# Cấu hình thiết bị (CPU/GPU)\n",
        "device = torch.device('cuda' if torch.cuda.is_available() else 'cpu')\n",
        "print(f\"Sử dụng thiết bị: {device}\")"
      ]
    },
    {
      "cell_type": "markdown",
      "metadata": {
        "id": "shK67NLV8a6v"
      },
      "source": [
        "## Giai đoạn A: Xác minh Cài đặt BERT \"build-from-scratch\" và chạy thử\n",
        "\n",
        "### A.1 Kiểm tra các Thành phần Cơ bản"
      ]
    },
    {
      "cell_type": "code",
      "execution_count": 3,
      "metadata": {
        "id": "AugbvjYD8a6v",
        "colab": {
          "base_uri": "https://localhost:8080/"
        },
        "outputId": "0d479d53-f925-459b-c7ae-969c516ef43b"
      },
      "outputs": [
        {
          "output_type": "stream",
          "name": "stdout",
          "text": [
            "Đang kiểm tra Cơ chế Attention...\n",
            "Kiểm tra cơ chế Attention...\n",
            "Kích thước đầu vào: torch.Size([2, 5, 64])\n",
            "Kích thước đầu ra: torch.Size([2, 5, 64])\n",
            "✓ Kiểm tra cơ chế attention thành công!\n",
            "\n",
            "==================================================\n",
            "\n",
            "Đang kiểm tra Mô hình BERT \"build-from-scratch\"...\n",
            "Kiểm tra mô hình BERT...\n",
            "Loss: 7.5778\n",
            "Kích thước logits MLM: torch.Size([4, 20, 1000])\n",
            "Kích thước logits NSP: torch.Size([4, 2])\n",
            "✓ Kiểm tra mô hình BERT thành công!\n"
          ]
        }
      ],
      "source": [
        "# Kiểm tra cơ chế attention\n",
        "print(\"Đang kiểm tra Cơ chế Attention...\")\n",
        "test_attention_mechanism()\n",
        "\n",
        "print(\"\\n\" + \"=\"*50 + \"\\n\")\n",
        "\n",
        "# Kiểm tra mô hình BERT\n",
        "print(\"Đang kiểm tra Mô hình BERT \\\"build-from-scratch\\\"...\")\n",
        "test_bert_model()"
      ]
    },
    {
      "cell_type": "markdown",
      "source": [
        "### A.2 Mô phỏng huấn luyện mô hình BERT \"build-from-scratch\" và Test Dự đoán [MASK]"
      ],
      "metadata": {
        "id": "YFeUCz_dVBv_"
      }
    },
    {
      "cell_type": "code",
      "source": [
        "device_tmp =  'cpu' # để test nhanh\n",
        "input_sentence = \"BERT is a [MASK].\"\n",
        "\n",
        "quick_demo(device=device_tmp, input_sentence=input_sentence)"
      ],
      "metadata": {
        "colab": {
          "base_uri": "https://localhost:8080/",
          "height": 1000
        },
        "id": "f5J1Gw_pVRy7",
        "outputId": "d9b9644b-6e5e-40d9-c76e-12d0b22561bc"
      },
      "execution_count": 24,
      "outputs": [
        {
          "output_type": "stream",
          "name": "stdout",
          "text": [
            "==================================================\n",
            "Bắt đầu minh họa huấn luyện nhỏ...\n",
            "==================================================\n",
            "\n",
            "Sử dụng thiết bị: cpu\n",
            "\n",
            "1. Khởi tạo Tokenizer...\n",
            "\n",
            "\n",
            "\n",
            "2. Tạo dữ liệu giả...\n",
            "Tổng số câu mẫu: 10\n",
            "\n",
            "\n",
            "\n",
            "3. Tạo Dataset và DataLoader...\n",
            "Tổng số mẫu trong Dataset: 100\n",
            "Số lượng batch trong DataLoader: 50\n",
            "\n",
            "\n",
            "\n",
            "4. Khởi tạo mô hình BERT...\n",
            "Cấu hình mô hình: BertConfig(vocab_size=30522, hidden_size=256, num_hidden_layers=4, num_attention_heads=4, intermediate_size=1024, hidden_dropout_prob=0.1, attention_probs_dropout_prob=0.1, max_position_embeddings=64, type_vocab_size=2, initializer_range=0.02, layer_norm_eps=1e-12)\n",
            "Kích thước mô hình: 11150140 parameters\n",
            "\n",
            "\n",
            "\n",
            "5. Khởi tạo Trainer...\n",
            "Thiết bị huấn luyện: cpu\n",
            "\n",
            "\n",
            "\n",
            "6. Bắt đầu huấn luyện mô hình...\n",
            "Bắt đầu huấn luyện 3 epochs trên thiết bị: cpu\n",
            "==================================================\n",
            "Epoch 1/3\n",
            "==================================================\n"
          ]
        },
        {
          "output_type": "stream",
          "name": "stderr",
          "text": [
            "\rĐang huấn luyện:   0%|          | 0/50 [00:00<?, ?it/s]/content/bert.py:977: FutureWarning: `torch.cuda.amp.autocast(args...)` is deprecated. Please use `torch.amp.autocast('cuda', args...)` instead.\n",
            "  with torch.cuda.amp.autocast(enabled=self.scaler is not None):\n",
            "Đang huấn luyện: 100%|██████████| 50/50 [00:11<00:00,  4.51it/s, loss=10.5672, lr=2.50e-05]\n"
          ]
        },
        {
          "output_type": "stream",
          "name": "stdout",
          "text": [
            "\n",
            "Kết quả huấn luyện: Loss=10.9900, MLM Loss=10.3578, NSP Loss=0.6322\n",
            "==================================================\n",
            "Epoch 2/3\n",
            "==================================================\n"
          ]
        },
        {
          "output_type": "stream",
          "name": "stderr",
          "text": [
            "Đang huấn luyện: 100%|██████████| 50/50 [00:11<00:00,  4.48it/s, loss=10.1519, lr=5.00e-05]\n"
          ]
        },
        {
          "output_type": "stream",
          "name": "stdout",
          "text": [
            "\n",
            "Kết quả huấn luyện: Loss=10.6869, MLM Loss=10.1240, NSP Loss=0.5629\n",
            "==================================================\n",
            "Epoch 3/3\n",
            "==================================================\n"
          ]
        },
        {
          "output_type": "stream",
          "name": "stderr",
          "text": [
            "Đang huấn luyện: 100%|██████████| 50/50 [00:11<00:00,  4.42it/s, loss=9.6086, lr=4.37e-05]\n"
          ]
        },
        {
          "output_type": "stream",
          "name": "stdout",
          "text": [
            "\n",
            "Kết quả huấn luyện: Loss=10.0855, MLM Loss=9.4704, NSP Loss=0.6151\n",
            "Huấn luyện hoàn thành!\n",
            "\n",
            "\n",
            "\n",
            "7. Vẽ biểu đồ lịch sử huấn luyện...\n"
          ]
        },
        {
          "output_type": "display_data",
          "data": {
            "text/plain": [
              "<Figure size 1200x400 with 2 Axes>"
            ],
            "image/png": "[encoded data removed]"
          },
          "metadata": {}
        },
        {
          "output_type": "stream",
          "name": "stdout",
          "text": [
            "\n",
            "\n",
            "\n",
            "8. Testing...\n",
            "Câu mẫu cần dự đoán: BERT is a [MASK].\n",
            "\n",
            "Top 5 dự đoán cho [MASK]:\n",
            "- it: score=1.5640\n",
            "- model: score=1.4587\n",
            "- the: score=1.2445\n",
            "- architecture: score=1.2313\n",
            "- is: score=1.1065\n",
            "\n",
            "Visualize trọng số attention...\n"
          ]
        },
        {
          "output_type": "display_data",
          "data": {
            "text/plain": [
              "<Figure size 1000x800 with 2 Axes>"
            ],
            "image/png": "[encoded data removed]"
          },
          "metadata": {}
        },
        {
          "output_type": "stream",
          "name": "stdout",
          "text": [
            "\n",
            "\n",
            "\n",
            "✓ Ví dụ huấn luyện nhỏ hoàn thành.\n"
          ]
        }
      ]
    },
    {
      "cell_type": "markdown",
      "metadata": {
        "id": "XMWB-zvC8a6w"
      },
      "source": [
        "### A.3 Mô phỏng Pre-training trên Quy mô Nhỏ"
      ]
    },
    {
      "cell_type": "code",
      "execution_count": 5,
      "metadata": {
        "id": "dTyHQQsz8a6w",
        "colab": {
          "base_uri": "https://localhost:8080/"
        },
        "outputId": "53f575a4-fbd5-430b-9d7e-584fdf2132cd"
      },
      "outputs": [
        {
          "output_type": "stream",
          "name": "stdout",
          "text": [
            "Mô hình BERT tùy chỉnh được khởi tạo với:\n",
            "  Kích thước layer ẩn: 128\n",
            "  Số layer ẩn: 2\n",
            "  Số attention head: 4\n",
            "  Tổng số tham số: 4,383,548\n"
          ]
        }
      ],
      "source": [
        "# Tạo một cấu hình BERT tùy chỉnh nhỏ\n",
        "small_config = BertConfig(\n",
        "    vocab_size=30522,  # Kích thước từ vựng chuẩn của BERT\n",
        "    hidden_size=128,   # Kích thước nhỏ hơn để minh họa\n",
        "    num_hidden_layers=2,\n",
        "    num_attention_heads=4,\n",
        "    intermediate_size=512,\n",
        "    max_position_embeddings=128\n",
        ")\n",
        "\n",
        "# Khởi tạo mô hình\n",
        "custom_model = BertForPreTraining(small_config)\n",
        "custom_model = custom_model.to(device)\n",
        "\n",
        "print(f\"Mô hình BERT tùy chỉnh được khởi tạo với:\")\n",
        "print(f\"  Kích thước layer ẩn: {small_config.hidden_size}\")\n",
        "print(f\"  Số layer ẩn: {small_config.num_hidden_layers}\")\n",
        "print(f\"  Số attention head: {small_config.num_attention_heads}\")\n",
        "print(f\"  Tổng số tham số: {sum(p.numel() for p in custom_model.parameters()):,}\")"
      ]
    },
    {
      "cell_type": "code",
      "execution_count": 6,
      "metadata": {
        "id": "RlKCKdPg8a6w",
        "colab": {
          "base_uri": "https://localhost:8080/"
        },
        "outputId": "83a1b019-20a7-4b12-c46c-39ab22a0f529"
      },
      "outputs": [
        {
          "output_type": "stream",
          "name": "stdout",
          "text": [
            "\n",
            "Đang chạy 1 epoch mô phỏng pre-training...\n"
          ]
        },
        {
          "output_type": "stream",
          "name": "stderr",
          "text": [
            "\rĐang huấn luyện:   0%|          | 0/25 [00:00<?, ?it/s]/content/bert.py:977: FutureWarning: `torch.cuda.amp.autocast(args...)` is deprecated. Please use `torch.amp.autocast('cuda', args...)` instead.\n",
            "  with torch.cuda.amp.autocast(enabled=self.scaler is not None):\n",
            "Đang huấn luyện: 100%|██████████| 25/25 [00:01<00:00, 20.49it/s, loss=10.1063, lr=9.38e-05]\n"
          ]
        },
        {
          "output_type": "stream",
          "name": "stdout",
          "text": [
            "\n",
            "Mô phỏng pre-training hoàn thành trong 1.23 giây\n",
            "Loss trung bình: 10.7109\n",
            "Loss MLM: 10.3150\n",
            "Loss NSP: 0.3959\n"
          ]
        }
      ],
      "source": [
        "# Mô phỏng pre-training với một tập dữ liệu nhỏ\n",
        "sample_texts = [\n",
        "    \"BERT uses bidirectional context to understand language.\",\n",
        "    \"Machine learning models can learn from data.\",\n",
        "    \"Natural language processing is fascinating.\",\n",
        "    \"Transformers revolutionized NLP research.\",\n",
        "    \"Attention mechanisms capture dependencies.\"\n",
        "]\n",
        "\n",
        "# Tạo tokenizer và dataset\n",
        "tokenizer = BertTokenizer.from_pretrained(\"bert-base-uncased\")\n",
        "dataset = BertDataset(\n",
        "    texts=sample_texts,\n",
        "    tokenizer=tokenizer,\n",
        "    max_length=32,\n",
        "    mlm_probability=0.15\n",
        ")\n",
        "\n",
        "# Tạo dataloader\n",
        "dataloader = DataLoader(dataset, batch_size=2, shuffle=True)\n",
        "\n",
        "# Tạo trainer\n",
        "trainer = BertTrainer(\n",
        "    model=custom_model,\n",
        "    train_dataloader=dataloader,\n",
        "    learning_rate=1e-4,\n",
        "    warmup_steps=10,\n",
        "    device=device\n",
        ")\n",
        "\n",
        "# Huấn luyện trong một epoch\n",
        "print(\"\\nĐang chạy 1 epoch mô phỏng pre-training...\")\n",
        "start_time = time.time()\n",
        "metrics = trainer.train_epoch()\n",
        "end_time = time.time()\n",
        "\n",
        "print(f\"\\nMô phỏng pre-training hoàn thành trong {end_time - start_time:.2f} giây\")\n",
        "print(f\"Loss trung bình: {metrics['loss']:.4f}\")\n",
        "print(f\"Loss MLM: {metrics['mlm_loss']:.4f}\")\n",
        "print(f\"Loss NSP: {metrics['nsp_loss']:.4f}\")"
      ]
    },
    {
      "cell_type": "markdown",
      "metadata": {
        "id": "hamixp538a6w"
      },
      "source": [
        "## Giai đoạn B: Tinh chỉnh (Fine-tune) BERT đã được huấn luyện trước cho Phân loại Cảm xúc\n",
        "\n",
        "### B.1 Tải và Chuẩn bị Tập dữ liệu IMDb"
      ]
    },
    {
      "cell_type": "code",
      "source": [
        "!rm -rf ~/.cache/huggingface/datasets"
      ],
      "metadata": {
        "id": "w2KCaSgL-Vvj"
      },
      "execution_count": 7,
      "outputs": []
    },
    {
      "cell_type": "code",
      "execution_count": 8,
      "metadata": {
        "id": "XE5BM7rc8a6x",
        "colab": {
          "base_uri": "https://localhost:8080/",
          "height": 362,
          "referenced_widgets": [
            "3c77edc84d864c349983ccf41f6bd495",
            "8c4487e8f3094aeb9f0d3712b150ed74",
            "081bbebacf25454f87dd8d16692d0611",
            "c311aaa1a2364e518be5edc7207e1073",
            "60cd480005d4400fb9563ba9b1e5c1f3",
            "cbe8064d8a5c433dbfc0540f44427a09",
            "adc9443518de4ff4a14155711c75c84a",
            "608b7147fae345df8f0dffe144b7129d",
            "ed707e0ef81b4fd081ed5dc78c8b710d",
            "ab2a3742d5184389bf266faf831d2418",
            "a92c71b631584b8fbad0f2806f0e01a5",
            "e80a9bd1765f4cf1b9b9f062393ed344",
            "6066870ee8de48aca385c4974183ba20",
            "b4f26ceadcc14ee9a11cd7a715af4d85",
            "87f1389301d74c68b63e7f53c05e702c",
            "1d3f887e6dba46ec8a5a8c6b7bc90845",
            "bdd5311f6ee245b89ea0e5e61d8501e4",
            "1636c357c76f4fabbee588ad7bc31f25",
            "0e44e71c945341d18e3b0142abfe520c",
            "2c9bd67bfa4947919335bddb3d327baa",
            "129ba07c95534523a765102edbcd7760",
            "381c4072ae2542eb896a1531d8e49061",
            "52defb8296cd486a9b789ee8c25d7150",
            "27e36c409a36426bb04a8cd5a61674ed",
            "bcd832a8ae3f49a7bc3800b54627f524",
            "6291bebe9a394467927a160aa054f952",
            "81699b0ef1ca451daf8fc50155c42a26",
            "735173609d8c49c08b7d417d82c1ec11",
            "837ba8aabbf545588f9b93e77689f7a4",
            "cb929b941c834608aa7f1bbd54960e9a",
            "b6b06d235e204d609f13b0593cd499d9",
            "ca6fb48fa6814752ba235b770b9121d0",
            "04076d22b6884c2c95d2c269fcd0e831",
            "2b3139b664b3493b9611a22ff341d270",
            "9f9cf1badeec45e297d0de85eb59ec7d",
            "dffb26ee9a2c44d096d9bf5c4fd041f7",
            "39f0070823454e5c9de378a97b73a2e8",
            "7d880d2d0cfa4690b7848534a9b4f80f",
            "6441b077593f438b8f7d3c148e1748d7",
            "f8f656fc61f4435cb2fd5eabe75db5c4",
            "bccaac37de834b2c8eb562ab36881e3f",
            "5950cf8f582d432f9968ea732f09991e",
            "50847d1263de41859f1335c82516265a",
            "8ba83b65287544c4a6ec4a13456d74d7",
            "bb3f5979076f4c61b462ae262669b72a",
            "0cb7b9c1ad4942dc86e7e397da459118",
            "c03df7a564e14ab483264c34e753330b",
            "cae5bf0f23cf4fc88678deb74dc01d95",
            "877f72f16cb547439908a0f1f9dfd13e",
            "fd720ff22d47462699ff34b56c965a3a",
            "194a10f10421477491f76b17adc26c9b",
            "6fc2577ed6d144e1b661f58c13e529d7",
            "592bd57b49e345dda2c1e1ff2b28a205",
            "168b7d84ca1442b0ba1b0e6ef48108a3",
            "0aab72ee27044a7188284d36674734b9",
            "4823417cce1742ef85b04524c45335f6",
            "0a0453762d734d9c90ca882ad591857c",
            "290559cf14214fd99d5c719c6d53af9f",
            "411c8f970de74ed3a8e9a18f41df8211",
            "28cecd6b8b2540f49d430efcee062350",
            "9e4f0381dc3d4096ae54afbd48705654",
            "98eb9239180445889c5535daa03593e8",
            "b684f68a64da46cbab3123501a3b802a",
            "8e529446bf4f4bf5aa757d94a864adef",
            "203bb1e56c134481a9461e69fd935779",
            "e196a3549add4b87a81bbd92034a41f8",
            "7e8a971b6fd2409780a642506a24c9c0",
            "a394124ffcc544e8936144509b3fdccc",
            "318732a2bf0e4eb1a2da8c977e7494ab",
            "656e06ff69314a8aa66630c6f7765c19",
            "9dd14037ee0f46a19780bd4d71c2d8e6",
            "7bf04b550a5946779eb8defbd0db24b8",
            "156c69f0fad54f5e85bb41ba7b072f96",
            "59d3aba3fb7a4e288bc04319a94cb086",
            "56a5794e19bf4db99efe81cd29cac6ea",
            "f77ada80a1204b4eaf676a507479411e",
            "938f9b7e46324859ac6e073f27e24649"
          ]
        },
        "outputId": "0b64cc61-4f4e-4e4a-9011-f533f5d3433e"
      },
      "outputs": [
        {
          "output_type": "stream",
          "name": "stdout",
          "text": [
            "Đang tải tập dữ liệu IMDb...\n"
          ]
        },
        {
          "output_type": "display_data",
          "data": {
            "text/plain": [
              "README.md:   0%|          | 0.00/7.81k [00:00<?, ?B/s]"
            ],
            "application/vnd.jupyter.widget-view+json": {
              "version_major": 2,
              "version_minor": 0,
              "model_id": "3c77edc84d864c349983ccf41f6bd495"
            }
          },
          "metadata": {}
        },
        {
          "output_type": "display_data",
          "data": {
            "text/plain": [
              "train-00000-of-00001.parquet:   0%|          | 0.00/21.0M [00:00<?, ?B/s]"
            ],
            "application/vnd.jupyter.widget-view+json": {
              "version_major": 2,
              "version_minor": 0,
              "model_id": "e80a9bd1765f4cf1b9b9f062393ed344"
            }
          },
          "metadata": {}
        },
        {
          "output_type": "display_data",
          "data": {
            "text/plain": [
              "test-00000-of-00001.parquet:   0%|          | 0.00/20.5M [00:00<?, ?B/s]"
            ],
            "application/vnd.jupyter.widget-view+json": {
              "version_major": 2,
              "version_minor": 0,
              "model_id": "52defb8296cd486a9b789ee8c25d7150"
            }
          },
          "metadata": {}
        },
        {
          "output_type": "display_data",
          "data": {
            "text/plain": [
              "unsupervised-00000-of-00001.parquet:   0%|          | 0.00/42.0M [00:00<?, ?B/s]"
            ],
            "application/vnd.jupyter.widget-view+json": {
              "version_major": 2,
              "version_minor": 0,
              "model_id": "2b3139b664b3493b9611a22ff341d270"
            }
          },
          "metadata": {}
        },
        {
          "output_type": "display_data",
          "data": {
            "text/plain": [
              "Generating train split:   0%|          | 0/25000 [00:00<?, ? examples/s]"
            ],
            "application/vnd.jupyter.widget-view+json": {
              "version_major": 2,
              "version_minor": 0,
              "model_id": "bb3f5979076f4c61b462ae262669b72a"
            }
          },
          "metadata": {}
        },
        {
          "output_type": "display_data",
          "data": {
            "text/plain": [
              "Generating test split:   0%|          | 0/25000 [00:00<?, ? examples/s]"
            ],
            "application/vnd.jupyter.widget-view+json": {
              "version_major": 2,
              "version_minor": 0,
              "model_id": "4823417cce1742ef85b04524c45335f6"
            }
          },
          "metadata": {}
        },
        {
          "output_type": "display_data",
          "data": {
            "text/plain": [
              "Generating unsupervised split:   0%|          | 0/50000 [00:00<?, ? examples/s]"
            ],
            "application/vnd.jupyter.widget-view+json": {
              "version_major": 2,
              "version_minor": 0,
              "model_id": "7e8a971b6fd2409780a642506a24c9c0"
            }
          },
          "metadata": {}
        },
        {
          "output_type": "stream",
          "name": "stdout",
          "text": [
            "Số mẫu huấn luyện: 200\n",
            "Số mẫu kiểm tra: 100\n",
            "\n",
            "Ví dụ:\n",
            "Văn bản: There is no relation at all between Fortier and Profiler but the fact that both are police series ab...\n",
            "Nhãn: Tích cực\n"
          ]
        }
      ],
      "source": [
        "# Tải tập dữ liệu IMDb\n",
        "print(\"Đang tải tập dữ liệu IMDb...\")\n",
        "dataset = load_dataset(\"imdb\")\n",
        "\n",
        "\n",
        "# Tạo các tập con nhỏ để huấn luyện nhanh\n",
        "small_train_dataset = dataset[\"train\"].shuffle(seed=42).select(range(200))\n",
        "small_test_dataset = dataset[\"test\"].shuffle(seed=42).select(range(100))\n",
        "\n",
        "print(f\"Số mẫu huấn luyện: {len(small_train_dataset)}\")\n",
        "print(f\"Số mẫu kiểm tra: {len(small_test_dataset)}\")\n",
        "print(f\"\\nVí dụ:\")\n",
        "print(f\"Văn bản: {small_train_dataset[0]['text'][:100]}...\")\n",
        "print(f\"Nhãn: {'Tích cực' if small_train_dataset[0]['label'] == 1 else 'Tiêu cực'}\")"
      ]
    },
    {
      "cell_type": "markdown",
      "metadata": {
        "id": "L6Bx2gkI8a6x"
      },
      "source": [
        "### B.2 Tokenization và Tiền xử lý"
      ]
    },
    {
      "cell_type": "code",
      "execution_count": 9,
      "metadata": {
        "id": "elmWTJng8a6x",
        "colab": {
          "base_uri": "https://localhost:8080/",
          "height": 116,
          "referenced_widgets": [
            "ea792192dd5643938068db145b74f40b",
            "bcd3a8fc0caf410cb44a73d6ee23df46",
            "5c222e9351294a6f8e379f8654ee9e2c",
            "a6ff852e18e142688e7995c17ca95771",
            "21930b1bc749409791a77c6540f37c49",
            "d5e9b7ffbee44afda1504e24701a2e06",
            "232f50e14b2440fcab4986ea0e3670d6",
            "43413d0e45be4cedb58da16322d73f48",
            "9bec27d722b24c82b3d68f3e9e49a208",
            "7e840bb6bf7a49da8aa88c5479539dd0",
            "144efb5228b545178499265ab9ee5124",
            "ce9d9fb953654e8e86f6d2dbee3f1d38",
            "af799ec1336a4a7782f81a133e95fbc2",
            "1e3591e3872047a898e02f0cf8526b5d",
            "7234fc19228b479696663687260134d2",
            "0f35beed8c9e43ebb54fbf962d51b1cc",
            "d2601eb1641c48b4a9dcd6300279c6b0",
            "8cff0cf0e8d7462f8a6bd31cec86b7a4",
            "741a84d71e8d489b8014c0da7951db39",
            "870e12f8567d4c6ebb0191d401975635",
            "36eb63448acb442b95756c4c00e6ae9c",
            "2274a961a91b4ea9b18c1e46dd0cd281"
          ]
        },
        "outputId": "63e582b4-86b2-41f2-fab7-1ec7d487632d"
      },
      "outputs": [
        {
          "output_type": "stream",
          "name": "stdout",
          "text": [
            "Đang tokenize các tập dữ liệu...\n"
          ]
        },
        {
          "output_type": "display_data",
          "data": {
            "text/plain": [
              "Map:   0%|          | 0/200 [00:00<?, ? examples/s]"
            ],
            "application/vnd.jupyter.widget-view+json": {
              "version_major": 2,
              "version_minor": 0,
              "model_id": "ea792192dd5643938068db145b74f40b"
            }
          },
          "metadata": {}
        },
        {
          "output_type": "display_data",
          "data": {
            "text/plain": [
              "Map:   0%|          | 0/100 [00:00<?, ? examples/s]"
            ],
            "application/vnd.jupyter.widget-view+json": {
              "version_major": 2,
              "version_minor": 0,
              "model_id": "ce9d9fb953654e8e86f6d2dbee3f1d38"
            }
          },
          "metadata": {}
        },
        {
          "output_type": "stream",
          "name": "stdout",
          "text": [
            "Tiền xử lý hoàn thành!\n"
          ]
        }
      ],
      "source": [
        "# Khởi tạo tokenizer\n",
        "tokenizer = BertTokenizer.from_pretrained(\"bert-base-uncased\")\n",
        "\n",
        "# Hàm tiền xử lý\n",
        "def preprocess_function(examples):\n",
        "    return tokenizer(\n",
        "        examples[\"text\"],\n",
        "        truncation=True,\n",
        "        padding=\"max_length\",\n",
        "        max_length=128\n",
        "    )\n",
        "\n",
        "# Áp dụng tiền xử lý\n",
        "print(\"Đang tokenize các tập dữ liệu...\")\n",
        "small_train_dataset = small_train_dataset.map(preprocess_function, batched=True)\n",
        "small_test_dataset = small_test_dataset.map(preprocess_function, batched=True)\n",
        "\n",
        "# Đổi tên cột 'label' thành 'labels' để tương thích với Trainer\n",
        "small_train_dataset = small_train_dataset.rename_column(\"label\", \"labels\")\n",
        "small_test_dataset = small_test_dataset.rename_column(\"label\", \"labels\")\n",
        "\n",
        "# Đặt định dạng cho PyTorch\n",
        "small_train_dataset.set_format(\"torch\", columns=[\"input_ids\", \"attention_mask\", \"labels\", \"text\"])\n",
        "small_test_dataset.set_format(\"torch\", columns=[\"input_ids\", \"attention_mask\", \"labels\"])\n",
        "\n",
        "print(\"Tiền xử lý hoàn thành!\")"
      ]
    },
    {
      "cell_type": "markdown",
      "metadata": {
        "id": "QGCFdy-m8a6x"
      },
      "source": [
        "### B.3 Tải Mô hình BERT đã được Huấn luyện trước"
      ]
    },
    {
      "cell_type": "code",
      "execution_count": 10,
      "metadata": {
        "id": "7evtFazw8a6x",
        "colab": {
          "base_uri": "https://localhost:8080/",
          "height": 136,
          "referenced_widgets": [
            "11a93c04b876469dafda922cf6cf02de",
            "7cb399a6033142428d755ad7d9035467",
            "954bf406d7ca4b0991cf869d371d4d96",
            "b7bded8261af4d55a1ab9095d7e3c5c5",
            "172f3d8bac8c4081b0602057d79a5072",
            "ccbae0ab66354dfb88224c01b8dd9b91",
            "6ab6cf6e5e53433ba27c8893f121b37a",
            "666b7aee1c3f4a5d8721c52ee02c7c1f",
            "49b10a2802394a53962a3f5845aadd79",
            "4647e954b79547f59cbdecf687c12757",
            "e7c2bc13e08441659f09e7a30615daa3"
          ]
        },
        "outputId": "454cb12d-6956-418a-8182-a6f983a58d73"
      },
      "outputs": [
        {
          "output_type": "stream",
          "name": "stdout",
          "text": [
            "Đang tải mô hình BERT pre-trained...\n"
          ]
        },
        {
          "output_type": "display_data",
          "data": {
            "text/plain": [
              "model.safetensors:   0%|          | 0.00/440M [00:00<?, ?B/s]"
            ],
            "application/vnd.jupyter.widget-view+json": {
              "version_major": 2,
              "version_minor": 0,
              "model_id": "11a93c04b876469dafda922cf6cf02de"
            }
          },
          "metadata": {}
        },
        {
          "output_type": "stream",
          "name": "stderr",
          "text": [
            "Some weights of BertForSequenceClassification were not initialized from the model checkpoint at bert-base-uncased and are newly initialized: ['classifier.bias', 'classifier.weight']\n",
            "You should probably TRAIN this model on a down-stream task to be able to use it for predictions and inference.\n"
          ]
        },
        {
          "output_type": "stream",
          "name": "stdout",
          "text": [
            "Tải mô hình thành công!\n",
            "Tổng số tham số: 109,483,778\n"
          ]
        }
      ],
      "source": [
        "# Tải mô hình BERT đã được huấn luyện trước cho phân loại chuỗi\n",
        "print(\"Đang tải mô hình BERT pre-trained...\")\n",
        "model = BertForSequenceClassification.from_pretrained(\n",
        "    \"bert-base-uncased\",\n",
        "    num_labels=2\n",
        ")\n",
        "\n",
        "# Chuyển mô hình sang thiết bị\n",
        "model = model.to(device)\n",
        "\n",
        "print(f\"Tải mô hình thành công!\")\n",
        "print(f\"Tổng số tham số: {sum(p.numel() for p in model.parameters()):,}\")"
      ]
    },
    {
      "cell_type": "markdown",
      "metadata": {
        "id": "0a_Q9YxR8a6y"
      },
      "source": [
        "### B.4 Cấu hình các Tham số Huấn luyện"
      ]
    },
    {
      "cell_type": "code",
      "execution_count": 11,
      "metadata": {
        "id": "vVUf9d9K8a6y"
      },
      "outputs": [],
      "source": [
        "# Định nghĩa các tham số huấn luyện\n",
        "training_args = TrainingArguments(\n",
        "    output_dir=\"./results\",\n",
        "    num_train_epochs=2,\n",
        "    per_device_train_batch_size=8,\n",
        "    per_device_eval_batch_size=8,\n",
        "    eval_strategy=\"epoch\",\n",
        "    logging_dir=\"./logs\",\n",
        "    logging_steps=10,\n",
        "    save_strategy=\"no\",  # Không lưu checkpoint trong demo này\n",
        "    load_best_model_at_end=False,\n",
        "    metric_for_best_model=\"accuracy\",\n",
        "    report_to=\"none\",  # Tắt wandb/tensorboard\n",
        "    fp16=torch.cuda.is_available(),  # Sử dụng mixed precision nếu có GPU\n",
        ")\n",
        "\n",
        "# Định nghĩa hàm tính toán metrics\n",
        "def compute_metrics(eval_pred):\n",
        "    predictions, labels = eval_pred\n",
        "    predictions = np.argmax(predictions, axis=1)\n",
        "    return {\"accuracy\": accuracy_score(labels, predictions)}"
      ]
    },
    {
      "cell_type": "markdown",
      "metadata": {
        "id": "pNRSBrFK8a6y"
      },
      "source": [
        "### B.5 Khởi tạo Trainer và Huấn luyện"
      ]
    },
    {
      "cell_type": "code",
      "execution_count": 12,
      "metadata": {
        "id": "GpsYGWMi8a6y",
        "colab": {
          "base_uri": "https://localhost:8080/",
          "height": 242
        },
        "outputId": "5f2fd7df-c3b5-49f8-dcdb-0e8fbc3926eb"
      },
      "outputs": [
        {
          "output_type": "stream",
          "name": "stderr",
          "text": [
            "<ipython-input-12-1d1a577fa320>:2: FutureWarning: `tokenizer` is deprecated and will be removed in version 5.0.0 for `Trainer.__init__`. Use `processing_class` instead.\n",
            "  trainer = Trainer(\n"
          ]
        },
        {
          "output_type": "stream",
          "name": "stdout",
          "text": [
            "Bắt đầu huấn luyện...\n"
          ]
        },
        {
          "output_type": "display_data",
          "data": {
            "text/plain": [
              "<IPython.core.display.HTML object>"
            ],
            "text/html": [
              "\n",
              "    <div>\n",
              "      \n",
              "      <progress value='50' max='50' style='width:300px; height:20px; vertical-align: middle;'></progress>\n",
              "      [50/50 00:05, Epoch 2/2]\n",
              "    </div>\n",
              "    <table border=\"1\" class=\"dataframe\">\n",
              "  <thead>\n",
              " <tr style=\"text-align: left;\">\n",
              "      <th>Epoch</th>\n",
              "      <th>Training Loss</th>\n",
              "      <th>Validation Loss</th>\n",
              "      <th>Accuracy</th>\n",
              "    </tr>\n",
              "  </thead>\n",
              "  <tbody>\n",
              "    <tr>\n",
              "      <td>1</td>\n",
              "      <td>0.661800</td>\n",
              "      <td>0.613972</td>\n",
              "      <td>0.780000</td>\n",
              "    </tr>\n",
              "    <tr>\n",
              "      <td>2</td>\n",
              "      <td>0.471500</td>\n",
              "      <td>0.486805</td>\n",
              "      <td>0.790000</td>\n",
              "    </tr>\n",
              "  </tbody>\n",
              "</table><p>"
            ]
          },
          "metadata": {}
        },
        {
          "output_type": "stream",
          "name": "stdout",
          "text": [
            "\n",
            "Huấn luyện hoàn thành!\n",
            "Loss huấn luyện: 0.5633\n"
          ]
        }
      ],
      "source": [
        "# Khởi tạo trainer\n",
        "trainer = Trainer(\n",
        "    model=model,\n",
        "    args=training_args,\n",
        "    train_dataset=small_train_dataset,\n",
        "    eval_dataset=small_test_dataset,\n",
        "    tokenizer=tokenizer,\n",
        "    compute_metrics=compute_metrics\n",
        ")\n",
        "\n",
        "# Huấn luyện mô hình\n",
        "print(\"Bắt đầu huấn luyện...\")\n",
        "train_result = trainer.train()\n",
        "\n",
        "# In kết quả huấn luyện\n",
        "print(\"\\nHuấn luyện hoàn thành!\")\n",
        "print(f\"Loss huấn luyện: {train_result.training_loss:.4f}\")"
      ]
    },
    {
      "cell_type": "markdown",
      "metadata": {
        "id": "fiVTTxsQ8a6y"
      },
      "source": [
        "### B.6 Đánh giá Hiệu suất Mô hình"
      ]
    },
    {
      "cell_type": "code",
      "execution_count": 13,
      "metadata": {
        "id": "blsL4Xv58a6y",
        "colab": {
          "base_uri": "https://localhost:8080/",
          "height": 193
        },
        "outputId": "04a918b3-f77d-46cf-c877-ec31f8ed09dd"
      },
      "outputs": [
        {
          "output_type": "stream",
          "name": "stdout",
          "text": [
            "Đang đánh giá mô hình...\n"
          ]
        },
        {
          "output_type": "display_data",
          "data": {
            "text/plain": [
              "<IPython.core.display.HTML object>"
            ],
            "text/html": [
              "\n",
              "    <div>\n",
              "      \n",
              "      <progress value='13' max='13' style='width:300px; height:20px; vertical-align: middle;'></progress>\n",
              "      [13/13 00:00]\n",
              "    </div>\n",
              "    "
            ]
          },
          "metadata": {}
        },
        {
          "output_type": "stream",
          "name": "stdout",
          "text": [
            "\n",
            "Kết quả Đánh giá:\n",
            "  eval_loss: 0.4868\n",
            "  eval_accuracy: 0.7900\n",
            "  eval_runtime: 0.2079\n",
            "  eval_samples_per_second: 481.0400\n",
            "  eval_steps_per_second: 62.5350\n",
            "  epoch: 2.0000\n"
          ]
        }
      ],
      "source": [
        "# Đánh giá trên tập kiểm tra\n",
        "print(\"Đang đánh giá mô hình...\")\n",
        "eval_result = trainer.evaluate()\n",
        "\n",
        "print(\"\\nKết quả Đánh giá:\")\n",
        "for key, value in eval_result.items():\n",
        "    print(f\"  {key}: {value:.4f}\")\n",
        "\n",
        "# Lưu kết quả để báo cáo\n",
        "bert_accuracy = eval_result['eval_accuracy']"
      ]
    },
    {
      "cell_type": "markdown",
      "metadata": {
        "id": "0dNqNont8a6y"
      },
      "source": [
        "### B.7 Kiểm tra Mô hình với các Ví dụ"
      ]
    },
    {
      "cell_type": "code",
      "execution_count": 14,
      "metadata": {
        "id": "Q2oJk59o8a6y",
        "colab": {
          "base_uri": "https://localhost:8080/"
        },
        "outputId": "a607be43-bbbc-4958-f951-05c7566f005f"
      },
      "outputs": [
        {
          "output_type": "stream",
          "name": "stdout",
          "text": [
            "Kiểm tra mô hình với các input tùy chỉnh:\n",
            "\n",
            "Văn bản: This movie was absolutely fantastic! I loved every minute of it.\n",
            "Dự đoán: Tích cực (độ tin cậy: 72.84%)\n",
            "\n",
            "Văn bản: Terrible film. Complete waste of time and money.\n",
            "Dự đoán: Tiêu cực (độ tin cậy: 85.62%)\n",
            "\n",
            "Văn bản: Not bad, but could have been better. Average at best.\n",
            "Dự đoán: Tiêu cực (độ tin cậy: 81.82%)\n",
            "\n"
          ]
        }
      ],
      "source": [
        "# Kiểm tra với các input tùy chỉnh\n",
        "test_texts = [\n",
        "    \"This movie was absolutely fantastic! I loved every minute of it.\",\n",
        "    \"Terrible film. Complete waste of time and money.\",\n",
        "    \"Not bad, but could have been better. Average at best.\"\n",
        "]\n",
        "\n",
        "print(\"Kiểm tra mô hình với các input tùy chỉnh:\\n\")\n",
        "\n",
        "for text in test_texts:\n",
        "    # Tokenize\n",
        "    inputs = tokenizer(\n",
        "        text,\n",
        "        return_tensors=\"pt\",\n",
        "        truncation=True,\n",
        "        padding=\"max_length\",\n",
        "        max_length=128\n",
        "    ).to(device)\n",
        "\n",
        "    # Dự đoán\n",
        "    with torch.no_grad():\n",
        "        outputs = model(**inputs)\n",
        "        predictions = torch.nn.functional.softmax(outputs.logits, dim=-1)\n",
        "        predicted_class = torch.argmax(predictions, dim=-1)\n",
        "\n",
        "    sentiment = \"Tích cực\" if predicted_class.item() == 1 else \"Tiêu cực\"\n",
        "    confidence = predictions[0][predicted_class].item()\n",
        "\n",
        "    print(f\"Văn bản: {text}\")\n",
        "    print(f\"Dự đoán: {sentiment} (độ tin cậy: {confidence:.2%})\")\n",
        "    print()"
      ]
    },
    {
      "cell_type": "markdown",
      "metadata": {
        "id": "fL_lyQfe8a6z"
      },
      "source": [
        "## Giai đoạn C: Trích xuất Embeddings và So sánh với TF-IDF\n",
        "\n",
        "### C.1 Trích xuất BERT Embeddings"
      ]
    },
    {
      "cell_type": "code",
      "execution_count": 15,
      "metadata": {
        "id": "PujchBI58a6z",
        "colab": {
          "base_uri": "https://localhost:8080/"
        },
        "outputId": "c59a214c-3843-4c2f-d911-0584ddc2872e"
      },
      "outputs": [
        {
          "output_type": "stream",
          "name": "stdout",
          "text": [
            "rích xuất BERT embeddings...\n"
          ]
        },
        {
          "output_type": "stream",
          "name": "stderr",
          "text": [
            "Đang trích xuất embeddings: 100%|██████████| 500/500 [00:06<00:00, 79.87it/s]"
          ]
        },
        {
          "output_type": "stream",
          "name": "stdout",
          "text": [
            "\n",
            "Hình dạng của BERT embeddings: (500, 768)\n",
            "Hình dạng của nhãn: (500,)\n",
            "Phân bố nhãn trong các mẫu được trích xuất: {np.int64(0): np.int64(254), np.int64(1): np.int64(246)}\n"
          ]
        },
        {
          "output_type": "stream",
          "name": "stderr",
          "text": [
            "\n"
          ]
        }
      ],
      "source": [
        "# Tải mô hình BERT để trích xuất embeddings\n",
        "bert_encoder = BertModel.from_pretrained(\"bert-base-uncased\")\n",
        "bert_encoder = bert_encoder.to(device)\n",
        "bert_encoder.eval()\n",
        "\n",
        "def get_cls_embedding(text, model, tokenizer, device):\n",
        "    \"\"\"Trích xuất embedding của token [CLS] từ BERT\"\"\"\n",
        "    inputs = tokenizer(\n",
        "        text,\n",
        "        return_tensors=\"pt\",\n",
        "        truncation=True,\n",
        "        padding=\"max_length\",\n",
        "        max_length=128\n",
        "    ).to(device)\n",
        "\n",
        "    with torch.no_grad():\n",
        "        outputs = model(**inputs)\n",
        "        # Lấy embedding của token [CLS] (token đầu tiên)\n",
        "        cls_embedding = outputs.last_hidden_state[:, 0, :].squeeze()\n",
        "\n",
        "    return cls_embedding.cpu().numpy()\n",
        "\n",
        "print(\"rích xuất BERT embeddings...\")\n",
        "# Xáo trộn tập dữ liệu và sau đó chọn 500 mẫu\n",
        "shuffled_subset = dataset['train'].shuffle(seed=42).select(range(500))\n",
        "texts = [item['text'] for item in shuffled_subset]\n",
        "labels = [item['label'] for item in shuffled_subset]\n",
        "\n",
        "\n",
        "embeddings = []\n",
        "# Lặp qua tất cả 500 văn bản để trích xuất embeddings\n",
        "for text in tqdm(texts, desc=\"Đang trích xuất embeddings\"):\n",
        "    embedding = get_cls_embedding(text, bert_encoder, tokenizer, device)\n",
        "    embeddings.append(embedding)\n",
        "\n",
        "X_bert = np.vstack(embeddings)\n",
        "y = np.array(labels)\n",
        "\n",
        "print(f\"\\nHình dạng của BERT embeddings: {X_bert.shape}\")\n",
        "print(f\"Hình dạng của nhãn: {y.shape}\")\n",
        "# Thêm kiểm tra để xem sự phân bố của các nhãn\n",
        "unique_labels, counts = np.unique(y, return_counts=True)\n",
        "print(f\"Phân bố nhãn trong các mẫu được trích xuất: {dict(zip(unique_labels, counts))}\")"
      ]
    },
    {
      "cell_type": "markdown",
      "metadata": {
        "id": "E61Vj42w8a6z"
      },
      "source": [
        "### C.2 Huấn luyện Bộ phân loại với BERT Embeddings"
      ]
    },
    {
      "cell_type": "code",
      "execution_count": 16,
      "metadata": {
        "id": "YfEPINnl8a60",
        "colab": {
          "base_uri": "https://localhost:8080/"
        },
        "outputId": "155eb782-b940-4775-ee70-cec3bef02091"
      },
      "outputs": [
        {
          "output_type": "stream",
          "name": "stdout",
          "text": [
            "Đang huấn luyện Logistic Regression trên BERT embeddings...\n",
            "\n",
            "Độ chính xác của BERT Embeddings + LR: 0.7600\n",
            "\n",
            "Báo cáo Phân loại:\n",
            "              precision    recall  f1-score   support\n",
            "\n",
            "    Tiêu cực       0.76      0.76      0.76        76\n",
            "    Tích cực       0.76      0.76      0.76        74\n",
            "\n",
            "    accuracy                           0.76       150\n",
            "   macro avg       0.76      0.76      0.76       150\n",
            "weighted avg       0.76      0.76      0.76       150\n",
            "\n"
          ]
        }
      ],
      "source": [
        "# Chia dữ liệu, phân tầng (stratify) để duy trì cùng một phân bố lớp trong tập huấn luyện/kiểm tra\n",
        "X_train_bert, X_test_bert, y_train, y_test = train_test_split(\n",
        "    X_bert, y, test_size=0.3, random_state=42, stratify=y\n",
        ")\n",
        "\n",
        "# Huấn luyện Logistic Regression trên BERT embeddings\n",
        "print(\"Đang huấn luyện Logistic Regression trên BERT embeddings...\")\n",
        "clf_bert = LogisticRegression(max_iter=1000, random_state=42)\n",
        "clf_bert.fit(X_train_bert, y_train)\n",
        "\n",
        "# Dự đoán và đánh giá\n",
        "y_pred_bert = clf_bert.predict(X_test_bert)\n",
        "bert_embedding_accuracy = accuracy_score(y_test, y_pred_bert)\n",
        "\n",
        "print(f\"\\nĐộ chính xác của BERT Embeddings + LR: {bert_embedding_accuracy:.4f}\")\n",
        "print(\"\\nBáo cáo Phân loại:\")\n",
        "print(classification_report(y_test, y_pred_bert, target_names=['Tiêu cực', 'Tích cực']))"
      ]
    },
    {
      "cell_type": "markdown",
      "metadata": {
        "id": "5BetxzF98a60"
      },
      "source": [
        "### C.3 So sánh với TF-IDF"
      ]
    },
    {
      "cell_type": "code",
      "execution_count": 17,
      "metadata": {
        "id": "zvziw6BR8a60",
        "colab": {
          "base_uri": "https://localhost:8080/"
        },
        "outputId": "22990bbd-5c07-4899-bb5d-fb08223640a5"
      },
      "outputs": [
        {
          "output_type": "stream",
          "name": "stdout",
          "text": [
            "Đang tạo các đặc trưng TF-IDF...\n",
            "Đang huấn luyện Logistic Regression trên các đặc trưng TF-IDF...\n",
            "\n",
            "Độ chính xác của TF-IDF + LR: 0.7467\n",
            "\n",
            "Báo cáo Phân loại:\n",
            "              precision    recall  f1-score   support\n",
            "\n",
            "    Tiêu cực       0.75      0.75      0.75        76\n",
            "    Tích cực       0.74      0.74      0.74        74\n",
            "\n",
            "    accuracy                           0.75       150\n",
            "   macro avg       0.75      0.75      0.75       150\n",
            "weighted avg       0.75      0.75      0.75       150\n",
            "\n"
          ]
        }
      ],
      "source": [
        "# Tạo các đặc trưng TF-IDF sử dụng cùng 500 văn bản để so sánh\n",
        "print(\"Đang tạo các đặc trưng TF-IDF...\")\n",
        "tfidf = TfidfVectorizer(max_features=1000, stop_words='english')\n",
        "# Sử dụng tất cả 500 văn bản đã được dùng cho BERT embeddings\n",
        "X_tfidf = tfidf.fit_transform(texts)\n",
        "\n",
        "# Chia dữ liệu TF-IDF. Việc thực hiện một lần chia mới, độc lập là rất quan trọng.\n",
        "# sử dụng cùng 'y' (nhãn cho 500 mẫu) và cùng các tham số chia.\n",
        "X_train_tfidf, X_test_tfidf, y_train_tfidf, y_test_tfidf = train_test_split(\n",
        "    X_tfidf, y, test_size=0.3, random_state=42, stratify=y\n",
        ")\n",
        "\n",
        "# Huấn luyện Logistic Regression trên các đặc trưng TF-IDF\n",
        "print(\"Đang huấn luyện Logistic Regression trên các đặc trưng TF-IDF...\")\n",
        "clf_tfidf = LogisticRegression(max_iter=1000, random_state=42)\n",
        "# Sử dụng nhãn huấn luyện chính xác từ lần chia mới\n",
        "clf_tfidf.fit(X_train_tfidf, y_train_tfidf)\n",
        "\n",
        "# Dự đoán và đánh giá\n",
        "y_pred_tfidf = clf_tfidf.predict(X_test_tfidf)\n",
        "# Sử dụng nhãn kiểm tra chính xác từ lần chia mới\n",
        "tfidf_accuracy = accuracy_score(y_test_tfidf, y_pred_tfidf)\n",
        "\n",
        "print(f\"\\nĐộ chính xác của TF-IDF + LR: {tfidf_accuracy:.4f}\")\n",
        "print(\"\\nBáo cáo Phân loại:\")\n",
        "print(classification_report(y_test_tfidf, y_pred_tfidf, target_names=['Tiêu cực', 'Tích cực']))"
      ]
    },
    {
      "cell_type": "markdown",
      "metadata": {
        "id": "qhN6548H8a60"
      },
      "source": [
        "### C.4 Tóm tắt So sánh"
      ]
    },
    {
      "cell_type": "code",
      "execution_count": 18,
      "metadata": {
        "id": "tHnuk3Kb8a60",
        "colab": {
          "base_uri": "https://localhost:8080/",
          "height": 798
        },
        "outputId": "67b9bb09-d159-4bf4-a424-b874fee0d024"
      },
      "outputs": [
        {
          "output_type": "display_data",
          "data": {
            "text/plain": [
              "<Figure size 1000x600 with 1 Axes>"
            ],
            "image/png": "[encoded data removed]"
          },
          "metadata": {}
        },
        {
          "output_type": "stream",
          "name": "stdout",
          "text": [
            "\n",
            "So sánh Hiệu suất:\n",
            "----------------------------------------\n",
            "Phương pháp               Độ chính xác\n",
            "----------------------------------------\n",
            "BERT Fine-tuned               0.7900\n",
            "BERT Embeddings + LR          0.7600\n",
            "TF-IDF + LR                   0.7467\n",
            "----------------------------------------\n",
            "\n",
            "BERT embeddings cho thấy sự cải thiện 1.8% so với TF-IDF\n"
          ]
        }
      ],
      "source": [
        "# Tạo biểu đồ so sánh\n",
        "methods = ['BERT Fine-tuned', 'BERT Embeddings + LR', 'TF-IDF + LR']\n",
        "accuracies = [bert_accuracy, bert_embedding_accuracy, tfidf_accuracy]\n",
        "\n",
        "plt.figure(figsize=(10, 6))\n",
        "bars = plt.bar(methods, accuracies, color=['#1f77b4', '#ff7f0e', '#2ca02c'])\n",
        "plt.ylim(0, 1)\n",
        "plt.ylabel('Độ chính xác', fontsize=12)\n",
        "plt.title('So sánh Hiệu suất Phân loại Cảm xúc', fontsize=14)\n",
        "\n",
        "# Thêm nhãn giá trị trên các cột\n",
        "for bar, acc in zip(bars, accuracies):\n",
        "    plt.text(bar.get_x() + bar.get_width()/2, bar.get_height() + 0.01,\n",
        "             f'{acc:.3f}', ha='center', va='bottom')\n",
        "\n",
        "plt.tight_layout()\n",
        "plt.show()\n",
        "\n",
        "# In bảng so sánh\n",
        "print(\"\\nSo sánh Hiệu suất:\")\n",
        "print(\"-\" * 40)\n",
        "print(f\"{'Phương pháp':<25} {'Độ chính xác':>10}\")\n",
        "print(\"-\" * 40)\n",
        "for method, acc in zip(methods, accuracies):\n",
        "    print(f\"{method:<25} {acc:>10.4f}\")\n",
        "print(\"-\" * 40)\n",
        "\n",
        "# Phân tích\n",
        "improvement_bert_vs_tfidf = ((bert_embedding_accuracy - tfidf_accuracy) / tfidf_accuracy) * 100\n",
        "print(f\"\\nBERT embeddings cho thấy sự cải thiện {improvement_bert_vs_tfidf:.1f}% so với TF-IDF\")"
      ]
    },
    {
      "cell_type": "markdown",
      "metadata": {
        "id": "uhHrI0pc8a60"
      },
      "source": [
        "## Giai đoạn D: Trực quan hóa các Mẫu Attention\n",
        "\n",
        "### D.1 Trích xuất và Trực quan hóa Attention"
      ]
    },
    {
      "cell_type": "code",
      "execution_count": 19,
      "metadata": {
        "id": "YT_dN_CF8a60"
      },
      "outputs": [],
      "source": [
        "def visualize_attention(model, tokenizer, text, layer_idx=11, head_idx=0):\n",
        "    \"\"\"Trực quan hóa trọng số attention cho một văn bản cụ thể\"\"\"\n",
        "    # Tokenize đầu vào\n",
        "    inputs = tokenizer(\n",
        "        text,\n",
        "        return_tensors=\"pt\",\n",
        "        truncation=True,\n",
        "        padding=\"max_length\",\n",
        "        max_length=64\n",
        "    ).to(device)\n",
        "\n",
        "    # Lấy đầu ra của mô hình với attention\n",
        "    with torch.no_grad():\n",
        "        outputs = model.bert(**inputs, output_attentions=True)\n",
        "\n",
        "    # Trích xuất trọng số attention\n",
        "    attention = outputs.attentions[layer_idx][0, head_idx].cpu().numpy()\n",
        "    tokens = tokenizer.convert_ids_to_tokens(inputs[\"input_ids\"][0])\n",
        "\n",
        "    # Lọc bỏ các token padding\n",
        "    num_tokens = (inputs[\"attention_mask\"][0] == 1).sum()\n",
        "    attention = attention[:num_tokens, :num_tokens]\n",
        "    tokens = tokens[:num_tokens]\n",
        "\n",
        "    # Tạo biểu đồ trực quan\n",
        "    plt.figure(figsize=(10, 8))\n",
        "    sns.heatmap(\n",
        "        attention,\n",
        "        xticklabels=tokens,\n",
        "        yticklabels=tokens,\n",
        "        cmap='Blues',\n",
        "        cbar_kws={'label': 'Trọng số Attention'}\n",
        "    )\n",
        "    plt.title(f'Trọng số Attention - Tầng {layer_idx}, Head {head_idx}\\nVăn bản: \"{text}\"')\n",
        "    plt.xlabel('Keys (Tokens)', fontsize=12)\n",
        "    plt.ylabel('Queries (Tokens)', fontsize=12)\n",
        "    plt.xticks(rotation=45, ha='right')\n",
        "    plt.tight_layout()\n",
        "    plt.show()\n",
        "\n",
        "    return attention, tokens"
      ]
    },
    {
      "cell_type": "code",
      "execution_count": 20,
      "metadata": {
        "id": "1MFgBB578a60",
        "colab": {
          "base_uri": "https://localhost:8080/",
          "height": 1000
        },
        "outputId": "aa7ce3b3-6e68-4977-e747-fb28d754bdc4"
      },
      "outputs": [
        {
          "output_type": "stream",
          "name": "stderr",
          "text": [
            "BertSdpaSelfAttention is used but `torch.nn.functional.scaled_dot_product_attention` does not support non-absolute `position_embedding_type` or `output_attentions=True` or `head_mask`. Falling back to the manual attention implementation, but specifying the manual implementation will be required from Transformers version v5.0.0 onwards. This warning can be removed using the argument `attn_implementation=\"eager\"` when loading the model.\n"
          ]
        },
        {
          "output_type": "stream",
          "name": "stdout",
          "text": [
            "\n",
            "Đang trực quan hóa attention cho: 'I absolutely love this amazing movie!'\n"
          ]
        },
        {
          "output_type": "display_data",
          "data": {
            "text/plain": [
              "<Figure size 1000x800 with 2 Axes>"
            ],
            "image/png": "[encoded data removed]"
          },
          "metadata": {}
        },
        {
          "output_type": "stream",
          "name": "stdout",
          "text": [
            "Top 5 token mà [CLS] chú ý đến nhiều nhất:\n",
            "  - movie: 0.199\n",
            "  - !: 0.185\n",
            "  - i: 0.131\n",
            "  - this: 0.119\n",
            "  - [CLS]: 0.110\n",
            "\n",
            "Đang trực quan hóa attention cho: 'This film is terrible and boring.'\n"
          ]
        },
        {
          "output_type": "display_data",
          "data": {
            "text/plain": [
              "<Figure size 1000x800 with 2 Axes>"
            ],
            "image/png": "[encoded data removed]"
          },
          "metadata": {}
        },
        {
          "output_type": "stream",
          "name": "stdout",
          "text": [
            "Top 5 token mà [CLS] chú ý đến nhiều nhất:\n",
            "  - this: 0.246\n",
            "  - boring: 0.141\n",
            "  - terrible: 0.124\n",
            "  - [CLS]: 0.121\n",
            "  - and: 0.119\n"
          ]
        }
      ],
      "source": [
        "# Trực quan hóa attention cho các ví dụ về cảm xúc\n",
        "sentiment_examples = [\n",
        "    \"I absolutely love this amazing movie!\",\n",
        "    \"This film is terrible and boring.\"\n",
        "]\n",
        "\n",
        "for text in sentiment_examples:\n",
        "    print(f\"\\nĐang trực quan hóa attention cho: '{text}'\")\n",
        "    attention, tokens = visualize_attention(model, tokenizer, text, layer_idx=11, head_idx=2)\n",
        "\n",
        "    # Phân tích attention của token [CLS]\n",
        "    cls_attention = attention[0, :]\n",
        "    top_indices = np.argsort(cls_attention)[-5:]\n",
        "\n",
        "    print(\"Top 5 token mà [CLS] chú ý đến nhiều nhất:\")\n",
        "    for idx in reversed(top_indices):\n",
        "        if idx < len(tokens):\n",
        "            print(f\"  - {tokens[idx]}: {cls_attention[idx]:.3f}\")"
      ]
    },
    {
      "cell_type": "markdown",
      "metadata": {
        "id": "ITpwpgUV8a61"
      },
      "source": [
        "### D.2 Phân tích Attention Tổng hợp"
      ]
    },
    {
      "cell_type": "code",
      "execution_count": 21,
      "metadata": {
        "id": "NX36G2AN8a61",
        "colab": {
          "base_uri": "https://localhost:8080/",
          "height": 524
        },
        "outputId": "f59adaf0-013e-41df-dfb6-8db97fa3275c"
      },
      "outputs": [
        {
          "output_type": "stream",
          "name": "stdout",
          "text": [
            "Đang phân tích các mẫu attention...\n"
          ]
        },
        {
          "output_type": "display_data",
          "data": {
            "text/plain": [
              "<Figure size 1200x500 with 2 Axes>"
            ],
            "image/png": "[encoded data removed]"
          },
          "metadata": {}
        }
      ],
      "source": [
        "def get_average_attention_to_cls(model, tokenizer, texts, layer_idx=11):\n",
        "    \"\"\"Lấy trọng số attention trung bình đến token CLS trên nhiều văn bản\"\"\"\n",
        "    all_attentions = []\n",
        "\n",
        "    for text in texts:\n",
        "        inputs = tokenizer(\n",
        "            text,\n",
        "            return_tensors=\"pt\",\n",
        "            truncation=True,\n",
        "            padding=\"max_length\",\n",
        "            max_length=64\n",
        "        ).to(device)\n",
        "\n",
        "        with torch.no_grad():\n",
        "            outputs = model.bert(**inputs, output_attentions=True)\n",
        "\n",
        "        # Lấy trung bình attention trên tất cả các head\n",
        "        attention = outputs.attentions[layer_idx][0].mean(dim=0).cpu().numpy()\n",
        "        # Lấy attention đến token CLS (cột 0)\n",
        "        cls_attention = attention[:, 0]\n",
        "        all_attentions.append(cls_attention)\n",
        "\n",
        "    return np.mean(all_attentions, axis=0)\n",
        "\n",
        "# Phân tích các mẫu attention cho các ví dụ tích cực và tiêu cực\n",
        "positive_texts = [item['text'] for item in small_train_dataset if item['labels'] == 1][:10]\n",
        "negative_texts = [item['text'] for item in small_train_dataset if item['labels'] == 0][:10]\n",
        "\n",
        "print(\"Đang phân tích các mẫu attention...\")\n",
        "pos_attention = get_average_attention_to_cls(model, tokenizer, positive_texts)\n",
        "neg_attention = get_average_attention_to_cls(model, tokenizer, negative_texts)\n",
        "\n",
        "# Trực quan hóa so sánh\n",
        "plt.figure(figsize=(12, 5))\n",
        "positions = np.arange(20)\n",
        "\n",
        "plt.subplot(1, 2, 1)\n",
        "plt.bar(positions, pos_attention[:20], color='green', alpha=0.7)\n",
        "plt.title('Attention Trung bình đến [CLS] - Cảm xúc Tích cực')\n",
        "plt.xlabel('Vị trí Token')\n",
        "plt.ylabel('Trọng số Attention')\n",
        "\n",
        "plt.subplot(1, 2, 2)\n",
        "plt.bar(positions, neg_attention[:20], color='red', alpha=0.7)\n",
        "plt.title('Attention Trung bình đến [CLS] - Cảm xúc Tiêu cực')\n",
        "plt.xlabel('Vị trí Token')\n",
        "plt.ylabel('Trọng số Attention')\n",
        "\n",
        "plt.tight_layout()\n",
        "plt.show()"
      ]
    },
    {
      "cell_type": "markdown",
      "metadata": {
        "id": "1Gb0WaIS8a61"
      },
      "source": [
        "## Tóm tắt và Kết luận"
      ]
    },
    {
      "cell_type": "code",
      "execution_count": 22,
      "metadata": {
        "id": "B4okBAan8a61",
        "colab": {
          "base_uri": "https://localhost:8080/"
        },
        "outputId": "071b0f7d-34ca-4ec2-9bff-077986aaa856"
      },
      "outputs": [
        {
          "output_type": "stream",
          "name": "stdout",
          "text": [
            "============================================================\n",
            "TÓM TẮT ỨNG DỤNG BERT\n",
            "============================================================\n",
            "\n",
            "1. Xác minh Cài đặt BERT:\n",
            "   ✓ Kiểm tra cơ chế attention: PASSED\n",
            "   ✓ Kiểm tra mô hình BERT: PASSED\n",
            "   ✓ Mô phỏng pre-training hoàn thành thành công\n",
            "\n",
            "2. Kết quả Fine-tuning:\n",
            "   ✓ Độ chính xác của BERT sau fine-tuning: 0.7900\n",
            "   ✓ Mô hình phân loại cảm xúc thành công\n",
            "\n",
            "3. So sánh Embedding:\n",
            "   ✓ BERT embeddings + LR: 0.7600\n",
            "   ✓ TF-IDF + LR: 0.7467\n",
            "   ✓ BERT embeddings vượt trội hơn TF-IDF 1.8%\n",
            "\n",
            "4. Phân tích Attention:\n",
            "   ✓ Trực quan hóa thành công các mẫu attention\n",
            "   ✓ Xác định các token chính cho việc phân loại cảm xúc\n",
            "\n",
            "5. Các Điểm Chính:\n",
            "   - Ngữ cảnh hai chiều của BERT cung cấp các biểu diễn vượt trội\n",
            "   - Fine-tuning đạt hiệu suất tốt nhất ngay cả với dữ liệu hạn chế\n",
            "   - Các cơ chế attention tập trung vào các từ mang cảm xúc\n",
            "   - Các embedding được huấn luyện trước vượt trội đáng kể so với các đặc trưng truyền thống\n",
            "\n",
            "============================================================\n"
          ]
        }
      ],
      "source": [
        "print(\"=\" * 60)\n",
        "print(\"TÓM TẮT ỨNG DỤNG BERT\")\n",
        "print(\"=\" * 60)\n",
        "\n",
        "print(\"\\n1. Xác minh Cài đặt BERT:\")\n",
        "print(\"   ✓ Kiểm tra cơ chế attention: PASSED\")\n",
        "print(\"   ✓ Kiểm tra mô hình BERT: PASSED\")\n",
        "print(\"   ✓ Mô phỏng pre-training hoàn thành thành công\")\n",
        "\n",
        "print(\"\\n2. Kết quả Fine-tuning:\")\n",
        "print(f\"   ✓ Độ chính xác của BERT sau fine-tuning: {bert_accuracy:.4f}\")\n",
        "print(\"   ✓ Mô hình phân loại cảm xúc thành công\")\n",
        "\n",
        "print(\"\\n3. So sánh Embedding:\")\n",
        "print(f\"   ✓ BERT embeddings + LR: {bert_embedding_accuracy:.4f}\")\n",
        "print(f\"   ✓ TF-IDF + LR: {tfidf_accuracy:.4f}\")\n",
        "print(f\"   ✓ BERT embeddings vượt trội hơn TF-IDF {improvement_bert_vs_tfidf:.1f}%\")\n",
        "\n",
        "print(\"\\n4. Phân tích Attention:\")\n",
        "print(\"   ✓ Trực quan hóa thành công các mẫu attention\")\n",
        "print(\"   ✓ Xác định các token chính cho việc phân loại cảm xúc\")\n",
        "\n",
        "print(\"\\n5. Các Điểm Chính:\")\n",
        "print(\"   - Ngữ cảnh hai chiều của BERT cung cấp các biểu diễn vượt trội\")\n",
        "print(\"   - Fine-tuning đạt hiệu suất tốt nhất ngay cả với dữ liệu hạn chế\")\n",
        "print(\"   - Các cơ chế attention tập trung vào các từ mang cảm xúc\")\n",
        "print(\"   - Các embedding được huấn luyện trước vượt trội đáng kể so với các đặc trưng truyền thống\")\n",
        "\n",
        "print(\"\\n\" + \"=\" * 60)"
      ]
    },
    {
      "cell_type": "markdown",
      "metadata": {
        "id": "c6-_rVZb8a61"
      },
      "source": [
        "## Lưu Kết quả để Báo cáo"
      ]
    },
    {
      "cell_type": "code",
      "execution_count": 23,
      "metadata": {
        "id": "MaLxZRzC8a62",
        "colab": {
          "base_uri": "https://localhost:8080/"
        },
        "outputId": "dad409db-c8a2-48f7-e569-653095ecbaf0"
      },
      "outputs": [
        {
          "output_type": "stream",
          "name": "stdout",
          "text": [
            "Kết quả đã được lưu vào bert_application_results.json\n",
            "\n",
            "Thực thi notebook hoàn thành thành công!\n"
          ]
        }
      ],
      "source": [
        "# Lưu các kết quả chính\n",
        "results = {\n",
        "    'custom_bert_test': 'Passed',\n",
        "    'pretraining_loss': metrics['loss'],\n",
        "    'bert_finetuned_accuracy': bert_accuracy,\n",
        "    'bert_embedding_accuracy': bert_embedding_accuracy,\n",
        "    'tfidf_accuracy': tfidf_accuracy,\n",
        "    'improvement_percentage': improvement_bert_vs_tfidf\n",
        "}\n",
        "\n",
        "# Lưu vào file\n",
        "import json\n",
        "with open('bert_application_results.json', 'w') as f:\n",
        "    json.dump(results, f, indent=2)\n",
        "\n",
        "print(\"Kết quả đã được lưu vào bert_application_results.json\")\n",
        "print(\"\\nThực thi notebook hoàn thành thành công!\")"
      ]
    }
  ],
  "metadata": {
    "kernelspec": {
      "display_name": "Python 3",
      "name": "python3"
    },
    "language_info": {
      "codemirror_mode": {
        "name": "ipython",
        "version": 3
      },
      "file_extension": ".py",
      "mimetype": "text/x-python",
      "name": "python",
      "nbconvert_exporter": "python",
      "pygments_lexer": "ipython3",
      "version": "3.12.3"
    },
    "colab": {
      "provenance": [],
      "gpuType": "T4"
    },
    "accelerator": "GPU",
    "widgets": {
      "application/vnd.jupyter.widget-state+json": {
        "3c77edc84d864c349983ccf41f6bd495": {
          "model_module": "@jupyter-widgets/controls",
          "model_name": "HBoxModel",
          "model_module_version": "1.5.0",
          "state": {
            "_dom_classes": [],
            "_model_module": "@jupyter-widgets/controls",
            "_model_module_version": "1.5.0",
            "_model_name": "HBoxModel",
            "_view_count": null,
            "_view_module": "@jupyter-widgets/controls",
            "_view_module_version": "1.5.0",
            "_view_name": "HBoxView",
            "box_style": "",
            "children": [
              "IPY_MODEL_8c4487e8f3094aeb9f0d3712b150ed74",
              "IPY_MODEL_081bbebacf25454f87dd8d16692d0611",
              "IPY_MODEL_c311aaa1a2364e518be5edc7207e1073"
            ],
            "layout": "IPY_MODEL_60cd480005d4400fb9563ba9b1e5c1f3"
          }
        },
        "8c4487e8f3094aeb9f0d3712b150ed74": {
          "model_module": "@jupyter-widgets/controls",
          "model_name": "HTMLModel",
          "model_module_version": "1.5.0",
          "state": {
            "_dom_classes": [],
            "_model_module": "@jupyter-widgets/controls",
            "_model_module_version": "1.5.0",
            "_model_name": "HTMLModel",
            "_view_count": null,
            "_view_module": "@jupyter-widgets/controls",
            "_view_module_version": "1.5.0",
            "_view_name": "HTMLView",
            "description": "",
            "description_tooltip": null,
            "layout": "IPY_MODEL_cbe8064d8a5c433dbfc0540f44427a09",
            "placeholder": "​",
            "style": "IPY_MODEL_adc9443518de4ff4a14155711c75c84a",
            "value": "README.md: 100%"
          }
        },
        "081bbebacf25454f87dd8d16692d0611": {
          "model_module": "@jupyter-widgets/controls",
          "model_name": "FloatProgressModel",
          "model_module_version": "1.5.0",
          "state": {
            "_dom_classes": [],
            "_model_module": "@jupyter-widgets/controls",
            "_model_module_version": "1.5.0",
            "_model_name": "FloatProgressModel",
            "_view_count": null,
            "_view_module": "@jupyter-widgets/controls",
            "_view_module_version": "1.5.0",
            "_view_name": "ProgressView",
            "bar_style": "success",
            "description": "",
            "description_tooltip": null,
            "layout": "IPY_MODEL_608b7147fae345df8f0dffe144b7129d",
            "max": 7809,
            "min": 0,
            "orientation": "horizontal",
            "style": "IPY_MODEL_ed707e0ef81b4fd081ed5dc78c8b710d",
            "value": 7809
          }
        },
        "c311aaa1a2364e518be5edc7207e1073": {
          "model_module": "@jupyter-widgets/controls",
          "model_name": "HTMLModel",
          "model_module_version": "1.5.0",
          "state": {
            "_dom_classes": [],
            "_model_module": "@jupyter-widgets/controls",
            "_model_module_version": "1.5.0",
            "_model_name": "HTMLModel",
            "_view_count": null,
            "_view_module": "@jupyter-widgets/controls",
            "_view_module_version": "1.5.0",
            "_view_name": "HTMLView",
            "description": "",
            "description_tooltip": null,
            "layout": "IPY_MODEL_ab2a3742d5184389bf266faf831d2418",
            "placeholder": "​",
            "style": "IPY_MODEL_a92c71b631584b8fbad0f2806f0e01a5",
            "value": " 7.81k/7.81k [00:00&lt;00:00, 567kB/s]"
          }
        },
        "60cd480005d4400fb9563ba9b1e5c1f3": {
          "model_module": "@jupyter-widgets/base",
          "model_name": "LayoutModel",
          "model_module_version": "1.2.0",
          "state": {
            "_model_module": "@jupyter-widgets/base",
            "_model_module_version": "1.2.0",
            "_model_name": "LayoutModel",
            "_view_count": null,
            "_view_module": "@jupyter-widgets/base",
            "_view_module_version": "1.2.0",
            "_view_name": "LayoutView",
            "align_content": null,
            "align_items": null,
            "align_self": null,
            "border": null,
            "bottom": null,
            "display": null,
            "flex": null,
            "flex_flow": null,
            "grid_area": null,
            "grid_auto_columns": null,
            "grid_auto_flow": null,
            "grid_auto_rows": null,
            "grid_column": null,
            "grid_gap": null,
            "grid_row": null,
            "grid_template_areas": null,
            "grid_template_columns": null,
            "grid_template_rows": null,
            "height": null,
            "justify_content": null,
            "justify_items": null,
            "left": null,
            "margin": null,
            "max_height": null,
            "max_width": null,
            "min_height": null,
            "min_width": null,
            "object_fit": null,
            "object_position": null,
            "order": null,
            "overflow": null,
            "overflow_x": null,
            "overflow_y": null,
            "padding": null,
            "right": null,
            "top": null,
            "visibility": null,
            "width": null
          }
        },
        "cbe8064d8a5c433dbfc0540f44427a09": {
          "model_module": "@jupyter-widgets/base",
          "model_name": "LayoutModel",
          "model_module_version": "1.2.0",
          "state": {
            "_model_module": "@jupyter-widgets/base",
            "_model_module_version": "1.2.0",
            "_model_name": "LayoutModel",
            "_view_count": null,
            "_view_module": "@jupyter-widgets/base",
            "_view_module_version": "1.2.0",
            "_view_name": "LayoutView",
            "align_content": null,
            "align_items": null,
            "align_self": null,
            "border": null,
            "bottom": null,
            "display": null,
            "flex": null,
            "flex_flow": null,
            "grid_area": null,
            "grid_auto_columns": null,
            "grid_auto_flow": null,
            "grid_auto_rows": null,
            "grid_column": null,
            "grid_gap": null,
            "grid_row": null,
            "grid_template_areas": null,
            "grid_template_columns": null,
            "grid_template_rows": null,
            "height": null,
            "justify_content": null,
            "justify_items": null,
            "left": null,
            "margin": null,
            "max_height": null,
            "max_width": null,
            "min_height": null,
            "min_width": null,
            "object_fit": null,
            "object_position": null,
            "order": null,
            "overflow": null,
            "overflow_x": null,
            "overflow_y": null,
            "padding": null,
            "right": null,
            "top": null,
            "visibility": null,
            "width": null
          }
        },
        "adc9443518de4ff4a14155711c75c84a": {
          "model_module": "@jupyter-widgets/controls",
          "model_name": "DescriptionStyleModel",
          "model_module_version": "1.5.0",
          "state": {
            "_model_module": "@jupyter-widgets/controls",
            "_model_module_version": "1.5.0",
            "_model_name": "DescriptionStyleModel",
            "_view_count": null,
            "_view_module": "@jupyter-widgets/base",
            "_view_module_version": "1.2.0",
            "_view_name": "StyleView",
            "description_width": ""
          }
        },
        "608b7147fae345df8f0dffe144b7129d": {
          "model_module": "@jupyter-widgets/base",
          "model_name": "LayoutModel",
          "model_module_version": "1.2.0",
          "state": {
            "_model_module": "@jupyter-widgets/base",
            "_model_module_version": "1.2.0",
            "_model_name": "LayoutModel",
            "_view_count": null,
            "_view_module": "@jupyter-widgets/base",
            "_view_module_version": "1.2.0",
            "_view_name": "LayoutView",
            "align_content": null,
            "align_items": null,
            "align_self": null,
            "border": null,
            "bottom": null,
            "display": null,
            "flex": null,
            "flex_flow": null,
            "grid_area": null,
            "grid_auto_columns": null,
            "grid_auto_flow": null,
            "grid_auto_rows": null,
            "grid_column": null,
            "grid_gap": null,
            "grid_row": null,
            "grid_template_areas": null,
            "grid_template_columns": null,
            "grid_template_rows": null,
            "height": null,
            "justify_content": null,
            "justify_items": null,
            "left": null,
            "margin": null,
            "max_height": null,
            "max_width": null,
            "min_height": null,
            "min_width": null,
            "object_fit": null,
            "object_position": null,
            "order": null,
            "overflow": null,
            "overflow_x": null,
            "overflow_y": null,
            "padding": null,
            "right": null,
            "top": null,
            "visibility": null,
            "width": null
          }
        },
        "ed707e0ef81b4fd081ed5dc78c8b710d": {
          "model_module": "@jupyter-widgets/controls",
          "model_name": "ProgressStyleModel",
          "model_module_version": "1.5.0",
          "state": {
            "_model_module": "@jupyter-widgets/controls",
            "_model_module_version": "1.5.0",
            "_model_name": "ProgressStyleModel",
            "_view_count": null,
            "_view_module": "@jupyter-widgets/base",
            "_view_module_version": "1.2.0",
            "_view_name": "StyleView",
            "bar_color": null,
            "description_width": ""
          }
        },
        "ab2a3742d5184389bf266faf831d2418": {
          "model_module": "@jupyter-widgets/base",
          "model_name": "LayoutModel",
          "model_module_version": "1.2.0",
          "state": {
            "_model_module": "@jupyter-widgets/base",
            "_model_module_version": "1.2.0",
            "_model_name": "LayoutModel",
            "_view_count": null,
            "_view_module": "@jupyter-widgets/base",
            "_view_module_version": "1.2.0",
            "_view_name": "LayoutView",
            "align_content": null,
            "align_items": null,
            "align_self": null,
            "border": null,
            "bottom": null,
            "display": null,
            "flex": null,
            "flex_flow": null,
            "grid_area": null,
            "grid_auto_columns": null,
            "grid_auto_flow": null,
            "grid_auto_rows": null,
            "grid_column": null,
            "grid_gap": null,
            "grid_row": null,
            "grid_template_areas": null,
            "grid_template_columns": null,
            "grid_template_rows": null,
            "height": null,
            "justify_content": null,
            "justify_items": null,
            "left": null,
            "margin": null,
            "max_height": null,
            "max_width": null,
            "min_height": null,
            "min_width": null,
            "object_fit": null,
            "object_position": null,
            "order": null,
            "overflow": null,
            "overflow_x": null,
            "overflow_y": null,
            "padding": null,
            "right": null,
            "top": null,
            "visibility": null,
            "width": null
          }
        },
        "a92c71b631584b8fbad0f2806f0e01a5": {
          "model_module": "@jupyter-widgets/controls",
          "model_name": "DescriptionStyleModel",
          "model_module_version": "1.5.0",
          "state": {
            "_model_module": "@jupyter-widgets/controls",
            "_model_module_version": "1.5.0",
            "_model_name": "DescriptionStyleModel",
            "_view_count": null,
            "_view_module": "@jupyter-widgets/base",
            "_view_module_version": "1.2.0",
            "_view_name": "StyleView",
            "description_width": ""
          }
        },
        "e80a9bd1765f4cf1b9b9f062393ed344": {
          "model_module": "@jupyter-widgets/controls",
          "model_name": "HBoxModel",
          "model_module_version": "1.5.0",
          "state": {
            "_dom_classes": [],
            "_model_module": "@jupyter-widgets/controls",
            "_model_module_version": "1.5.0",
            "_model_name": "HBoxModel",
            "_view_count": null,
            "_view_module": "@jupyter-widgets/controls",
            "_view_module_version": "1.5.0",
            "_view_name": "HBoxView",
            "box_style": "",
            "children": [
              "IPY_MODEL_6066870ee8de48aca385c4974183ba20",
              "IPY_MODEL_b4f26ceadcc14ee9a11cd7a715af4d85",
              "IPY_MODEL_87f1389301d74c68b63e7f53c05e702c"
            ],
            "layout": "IPY_MODEL_1d3f887e6dba46ec8a5a8c6b7bc90845"
          }
        },
        "6066870ee8de48aca385c4974183ba20": {
          "model_module": "@jupyter-widgets/controls",
          "model_name": "HTMLModel",
          "model_module_version": "1.5.0",
          "state": {
            "_dom_classes": [],
            "_model_module": "@jupyter-widgets/controls",
            "_model_module_version": "1.5.0",
            "_model_name": "HTMLModel",
            "_view_count": null,
            "_view_module": "@jupyter-widgets/controls",
            "_view_module_version": "1.5.0",
            "_view_name": "HTMLView",
            "description": "",
            "description_tooltip": null,
            "layout": "IPY_MODEL_bdd5311f6ee245b89ea0e5e61d8501e4",
            "placeholder": "​",
            "style": "IPY_MODEL_1636c357c76f4fabbee588ad7bc31f25",
            "value": "train-00000-of-00001.parquet: 100%"
          }
        },
        "b4f26ceadcc14ee9a11cd7a715af4d85": {
          "model_module": "@jupyter-widgets/controls",
          "model_name": "FloatProgressModel",
          "model_module_version": "1.5.0",
          "state": {
            "_dom_classes": [],
            "_model_module": "@jupyter-widgets/controls",
            "_model_module_version": "1.5.0",
            "_model_name": "FloatProgressModel",
            "_view_count": null,
            "_view_module": "@jupyter-widgets/controls",
            "_view_module_version": "1.5.0",
            "_view_name": "ProgressView",
            "bar_style": "success",
            "description": "",
            "description_tooltip": null,
            "layout": "IPY_MODEL_0e44e71c945341d18e3b0142abfe520c",
            "max": 20979968,
            "min": 0,
            "orientation": "horizontal",
            "style": "IPY_MODEL_2c9bd67bfa4947919335bddb3d327baa",
            "value": 20979968
          }
        },
        "87f1389301d74c68b63e7f53c05e702c": {
          "model_module": "@jupyter-widgets/controls",
          "model_name": "HTMLModel",
          "model_module_version": "1.5.0",
          "state": {
            "_dom_classes": [],
            "_model_module": "@jupyter-widgets/controls",
            "_model_module_version": "1.5.0",
            "_model_name": "HTMLModel",
            "_view_count": null,
            "_view_module": "@jupyter-widgets/controls",
            "_view_module_version": "1.5.0",
            "_view_name": "HTMLView",
            "description": "",
            "description_tooltip": null,
            "layout": "IPY_MODEL_129ba07c95534523a765102edbcd7760",
            "placeholder": "​",
            "style": "IPY_MODEL_381c4072ae2542eb896a1531d8e49061",
            "value": " 21.0M/21.0M [00:00&lt;00:00, 156MB/s]"
          }
        },
        "1d3f887e6dba46ec8a5a8c6b7bc90845": {
          "model_module": "@jupyter-widgets/base",
          "model_name": "LayoutModel",
          "model_module_version": "1.2.0",
          "state": {
            "_model_module": "@jupyter-widgets/base",
            "_model_module_version": "1.2.0",
            "_model_name": "LayoutModel",
            "_view_count": null,
            "_view_module": "@jupyter-widgets/base",
            "_view_module_version": "1.2.0",
            "_view_name": "LayoutView",
            "align_content": null,
            "align_items": null,
            "align_self": null,
            "border": null,
            "bottom": null,
            "display": null,
            "flex": null,
            "flex_flow": null,
            "grid_area": null,
            "grid_auto_columns": null,
            "grid_auto_flow": null,
            "grid_auto_rows": null,
            "grid_column": null,
            "grid_gap": null,
            "grid_row": null,
            "grid_template_areas": null,
            "grid_template_columns": null,
            "grid_template_rows": null,
            "height": null,
            "justify_content": null,
            "justify_items": null,
            "left": null,
            "margin": null,
            "max_height": null,
            "max_width": null,
            "min_height": null,
            "min_width": null,
            "object_fit": null,
            "object_position": null,
            "order": null,
            "overflow": null,
            "overflow_x": null,
            "overflow_y": null,
            "padding": null,
            "right": null,
            "top": null,
            "visibility": null,
            "width": null
          }
        },
        "bdd5311f6ee245b89ea0e5e61d8501e4": {
          "model_module": "@jupyter-widgets/base",
          "model_name": "LayoutModel",
          "model_module_version": "1.2.0",
          "state": {
            "_model_module": "@jupyter-widgets/base",
            "_model_module_version": "1.2.0",
            "_model_name": "LayoutModel",
            "_view_count": null,
            "_view_module": "@jupyter-widgets/base",
            "_view_module_version": "1.2.0",
            "_view_name": "LayoutView",
            "align_content": null,
            "align_items": null,
            "align_self": null,
            "border": null,
            "bottom": null,
            "display": null,
            "flex": null,
            "flex_flow": null,
            "grid_area": null,
            "grid_auto_columns": null,
            "grid_auto_flow": null,
            "grid_auto_rows": null,
            "grid_column": null,
            "grid_gap": null,
            "grid_row": null,
            "grid_template_areas": null,
            "grid_template_columns": null,
            "grid_template_rows": null,
            "height": null,
            "justify_content": null,
            "justify_items": null,
            "left": null,
            "margin": null,
            "max_height": null,
            "max_width": null,
            "min_height": null,
            "min_width": null,
            "object_fit": null,
            "object_position": null,
            "order": null,
            "overflow": null,
            "overflow_x": null,
            "overflow_y": null,
            "padding": null,
            "right": null,
            "top": null,
            "visibility": null,
            "width": null
          }
        },
        "1636c357c76f4fabbee588ad7bc31f25": {
          "model_module": "@jupyter-widgets/controls",
          "model_name": "DescriptionStyleModel",
          "model_module_version": "1.5.0",
          "state": {
            "_model_module": "@jupyter-widgets/controls",
            "_model_module_version": "1.5.0",
            "_model_name": "DescriptionStyleModel",
            "_view_count": null,
            "_view_module": "@jupyter-widgets/base",
            "_view_module_version": "1.2.0",
            "_view_name": "StyleView",
            "description_width": ""
          }
        },
        "0e44e71c945341d18e3b0142abfe520c": {
          "model_module": "@jupyter-widgets/base",
          "model_name": "LayoutModel",
          "model_module_version": "1.2.0",
          "state": {
            "_model_module": "@jupyter-widgets/base",
            "_model_module_version": "1.2.0",
            "_model_name": "LayoutModel",
            "_view_count": null,
            "_view_module": "@jupyter-widgets/base",
            "_view_module_version": "1.2.0",
            "_view_name": "LayoutView",
            "align_content": null,
            "align_items": null,
            "align_self": null,
            "border": null,
            "bottom": null,
            "display": null,
            "flex": null,
            "flex_flow": null,
            "grid_area": null,
            "grid_auto_columns": null,
            "grid_auto_flow": null,
            "grid_auto_rows": null,
            "grid_column": null,
            "grid_gap": null,
            "grid_row": null,
            "grid_template_areas": null,
            "grid_template_columns": null,
            "grid_template_rows": null,
            "height": null,
            "justify_content": null,
            "justify_items": null,
            "left": null,
            "margin": null,
            "max_height": null,
            "max_width": null,
            "min_height": null,
            "min_width": null,
            "object_fit": null,
            "object_position": null,
            "order": null,
            "overflow": null,
            "overflow_x": null,
            "overflow_y": null,
            "padding": null,
            "right": null,
            "top": null,
            "visibility": null,
            "width": null
          }
        },
        "2c9bd67bfa4947919335bddb3d327baa": {
          "model_module": "@jupyter-widgets/controls",
          "model_name": "ProgressStyleModel",
          "model_module_version": "1.5.0",
          "state": {
            "_model_module": "@jupyter-widgets/controls",
            "_model_module_version": "1.5.0",
            "_model_name": "ProgressStyleModel",
            "_view_count": null,
            "_view_module": "@jupyter-widgets/base",
            "_view_module_version": "1.2.0",
            "_view_name": "StyleView",
            "bar_color": null,
            "description_width": ""
          }
        },
        "129ba07c95534523a765102edbcd7760": {
          "model_module": "@jupyter-widgets/base",
          "model_name": "LayoutModel",
          "model_module_version": "1.2.0",
          "state": {
            "_model_module": "@jupyter-widgets/base",
            "_model_module_version": "1.2.0",
            "_model_name": "LayoutModel",
            "_view_count": null,
            "_view_module": "@jupyter-widgets/base",
            "_view_module_version": "1.2.0",
            "_view_name": "LayoutView",
            "align_content": null,
            "align_items": null,
            "align_self": null,
            "border": null,
            "bottom": null,
            "display": null,
            "flex": null,
            "flex_flow": null,
            "grid_area": null,
            "grid_auto_columns": null,
            "grid_auto_flow": null,
            "grid_auto_rows": null,
            "grid_column": null,
            "grid_gap": null,
            "grid_row": null,
            "grid_template_areas": null,
            "grid_template_columns": null,
            "grid_template_rows": null,
            "height": null,
            "justify_content": null,
            "justify_items": null,
            "left": null,
            "margin": null,
            "max_height": null,
            "max_width": null,
            "min_height": null,
            "min_width": null,
            "object_fit": null,
            "object_position": null,
            "order": null,
            "overflow": null,
            "overflow_x": null,
            "overflow_y": null,
            "padding": null,
            "right": null,
            "top": null,
            "visibility": null,
            "width": null
          }
        },
        "381c4072ae2542eb896a1531d8e49061": {
          "model_module": "@jupyter-widgets/controls",
          "model_name": "DescriptionStyleModel",
          "model_module_version": "1.5.0",
          "state": {
            "_model_module": "@jupyter-widgets/controls",
            "_model_module_version": "1.5.0",
            "_model_name": "DescriptionStyleModel",
            "_view_count": null,
            "_view_module": "@jupyter-widgets/base",
            "_view_module_version": "1.2.0",
            "_view_name": "StyleView",
            "description_width": ""
          }
        },
        "52defb8296cd486a9b789ee8c25d7150": {
          "model_module": "@jupyter-widgets/controls",
          "model_name": "HBoxModel",
          "model_module_version": "1.5.0",
          "state": {
            "_dom_classes": [],
            "_model_module": "@jupyter-widgets/controls",
            "_model_module_version": "1.5.0",
            "_model_name": "HBoxModel",
            "_view_count": null,
            "_view_module": "@jupyter-widgets/controls",
            "_view_module_version": "1.5.0",
            "_view_name": "HBoxView",
            "box_style": "",
            "children": [
              "IPY_MODEL_27e36c409a36426bb04a8cd5a61674ed",
              "IPY_MODEL_bcd832a8ae3f49a7bc3800b54627f524",
              "IPY_MODEL_6291bebe9a394467927a160aa054f952"
            ],
            "layout": "IPY_MODEL_81699b0ef1ca451daf8fc50155c42a26"
          }
        },
        "27e36c409a36426bb04a8cd5a61674ed": {
          "model_module": "@jupyter-widgets/controls",
          "model_name": "HTMLModel",
          "model_module_version": "1.5.0",
          "state": {
            "_dom_classes": [],
            "_model_module": "@jupyter-widgets/controls",
            "_model_module_version": "1.5.0",
            "_model_name": "HTMLModel",
            "_view_count": null,
            "_view_module": "@jupyter-widgets/controls",
            "_view_module_version": "1.5.0",
            "_view_name": "HTMLView",
            "description": "",
            "description_tooltip": null,
            "layout": "IPY_MODEL_735173609d8c49c08b7d417d82c1ec11",
            "placeholder": "​",
            "style": "IPY_MODEL_837ba8aabbf545588f9b93e77689f7a4",
            "value": "test-00000-of-00001.parquet: 100%"
          }
        },
        "bcd832a8ae3f49a7bc3800b54627f524": {
          "model_module": "@jupyter-widgets/controls",
          "model_name": "FloatProgressModel",
          "model_module_version": "1.5.0",
          "state": {
            "_dom_classes": [],
            "_model_module": "@jupyter-widgets/controls",
            "_model_module_version": "1.5.0",
            "_model_name": "FloatProgressModel",
            "_view_count": null,
            "_view_module": "@jupyter-widgets/controls",
            "_view_module_version": "1.5.0",
            "_view_name": "ProgressView",
            "bar_style": "success",
            "description": "",
            "description_tooltip": null,
            "layout": "IPY_MODEL_cb929b941c834608aa7f1bbd54960e9a",
            "max": 20470363,
            "min": 0,
            "orientation": "horizontal",
            "style": "IPY_MODEL_b6b06d235e204d609f13b0593cd499d9",
            "value": 20470363
          }
        },
        "6291bebe9a394467927a160aa054f952": {
          "model_module": "@jupyter-widgets/controls",
          "model_name": "HTMLModel",
          "model_module_version": "1.5.0",
          "state": {
            "_dom_classes": [],
            "_model_module": "@jupyter-widgets/controls",
            "_model_module_version": "1.5.0",
            "_model_name": "HTMLModel",
            "_view_count": null,
            "_view_module": "@jupyter-widgets/controls",
            "_view_module_version": "1.5.0",
            "_view_name": "HTMLView",
            "description": "",
            "description_tooltip": null,
            "layout": "IPY_MODEL_ca6fb48fa6814752ba235b770b9121d0",
            "placeholder": "​",
            "style": "IPY_MODEL_04076d22b6884c2c95d2c269fcd0e831",
            "value": " 20.5M/20.5M [00:00&lt;00:00, 250MB/s]"
          }
        },
        "81699b0ef1ca451daf8fc50155c42a26": {
          "model_module": "@jupyter-widgets/base",
          "model_name": "LayoutModel",
          "model_module_version": "1.2.0",
          "state": {
            "_model_module": "@jupyter-widgets/base",
            "_model_module_version": "1.2.0",
            "_model_name": "LayoutModel",
            "_view_count": null,
            "_view_module": "@jupyter-widgets/base",
            "_view_module_version": "1.2.0",
            "_view_name": "LayoutView",
            "align_content": null,
            "align_items": null,
            "align_self": null,
            "border": null,
            "bottom": null,
            "display": null,
            "flex": null,
            "flex_flow": null,
            "grid_area": null,
            "grid_auto_columns": null,
            "grid_auto_flow": null,
            "grid_auto_rows": null,
            "grid_column": null,
            "grid_gap": null,
            "grid_row": null,
            "grid_template_areas": null,
            "grid_template_columns": null,
            "grid_template_rows": null,
            "height": null,
            "justify_content": null,
            "justify_items": null,
            "left": null,
            "margin": null,
            "max_height": null,
            "max_width": null,
            "min_height": null,
            "min_width": null,
            "object_fit": null,
            "object_position": null,
            "order": null,
            "overflow": null,
            "overflow_x": null,
            "overflow_y": null,
            "padding": null,
            "right": null,
            "top": null,
            "visibility": null,
            "width": null
          }
        },
        "735173609d8c49c08b7d417d82c1ec11": {
          "model_module": "@jupyter-widgets/base",
          "model_name": "LayoutModel",
          "model_module_version": "1.2.0",
          "state": {
            "_model_module": "@jupyter-widgets/base",
            "_model_module_version": "1.2.0",
            "_model_name": "LayoutModel",
            "_view_count": null,
            "_view_module": "@jupyter-widgets/base",
            "_view_module_version": "1.2.0",
            "_view_name": "LayoutView",
            "align_content": null,
            "align_items": null,
            "align_self": null,
            "border": null,
            "bottom": null,
            "display": null,
            "flex": null,
            "flex_flow": null,
            "grid_area": null,
            "grid_auto_columns": null,
            "grid_auto_flow": null,
            "grid_auto_rows": null,
            "grid_column": null,
            "grid_gap": null,
            "grid_row": null,
            "grid_template_areas": null,
            "grid_template_columns": null,
            "grid_template_rows": null,
            "height": null,
            "justify_content": null,
            "justify_items": null,
            "left": null,
            "margin": null,
            "max_height": null,
            "max_width": null,
            "min_height": null,
            "min_width": null,
            "object_fit": null,
            "object_position": null,
            "order": null,
            "overflow": null,
            "overflow_x": null,
            "overflow_y": null,
            "padding": null,
            "right": null,
            "top": null,
            "visibility": null,
            "width": null
          }
        },
        "837ba8aabbf545588f9b93e77689f7a4": {
          "model_module": "@jupyter-widgets/controls",
          "model_name": "DescriptionStyleModel",
          "model_module_version": "1.5.0",
          "state": {
            "_model_module": "@jupyter-widgets/controls",
            "_model_module_version": "1.5.0",
            "_model_name": "DescriptionStyleModel",
            "_view_count": null,
            "_view_module": "@jupyter-widgets/base",
            "_view_module_version": "1.2.0",
            "_view_name": "StyleView",
            "description_width": ""
          }
        },
        "cb929b941c834608aa7f1bbd54960e9a": {
          "model_module": "@jupyter-widgets/base",
          "model_name": "LayoutModel",
          "model_module_version": "1.2.0",
          "state": {
            "_model_module": "@jupyter-widgets/base",
            "_model_module_version": "1.2.0",
            "_model_name": "LayoutModel",
            "_view_count": null,
            "_view_module": "@jupyter-widgets/base",
            "_view_module_version": "1.2.0",
            "_view_name": "LayoutView",
            "align_content": null,
            "align_items": null,
            "align_self": null,
            "border": null,
            "bottom": null,
            "display": null,
            "flex": null,
            "flex_flow": null,
            "grid_area": null,
            "grid_auto_columns": null,
            "grid_auto_flow": null,
            "grid_auto_rows": null,
            "grid_column": null,
            "grid_gap": null,
            "grid_row": null,
            "grid_template_areas": null,
            "grid_template_columns": null,
            "grid_template_rows": null,
            "height": null,
            "justify_content": null,
            "justify_items": null,
            "left": null,
            "margin": null,
            "max_height": null,
            "max_width": null,
            "min_height": null,
            "min_width": null,
            "object_fit": null,
            "object_position": null,
            "order": null,
            "overflow": null,
            "overflow_x": null,
            "overflow_y": null,
            "padding": null,
            "right": null,
            "top": null,
            "visibility": null,
            "width": null
          }
        },
        "b6b06d235e204d609f13b0593cd499d9": {
          "model_module": "@jupyter-widgets/controls",
          "model_name": "ProgressStyleModel",
          "model_module_version": "1.5.0",
          "state": {
            "_model_module": "@jupyter-widgets/controls",
            "_model_module_version": "1.5.0",
            "_model_name": "ProgressStyleModel",
            "_view_count": null,
            "_view_module": "@jupyter-widgets/base",
            "_view_module_version": "1.2.0",
            "_view_name": "StyleView",
            "bar_color": null,
            "description_width": ""
          }
        },
        "ca6fb48fa6814752ba235b770b9121d0": {
          "model_module": "@jupyter-widgets/base",
          "model_name": "LayoutModel",
          "model_module_version": "1.2.0",
          "state": {
            "_model_module": "@jupyter-widgets/base",
            "_model_module_version": "1.2.0",
            "_model_name": "LayoutModel",
            "_view_count": null,
            "_view_module": "@jupyter-widgets/base",
            "_view_module_version": "1.2.0",
            "_view_name": "LayoutView",
            "align_content": null,
            "align_items": null,
            "align_self": null,
            "border": null,
            "bottom": null,
            "display": null,
            "flex": null,
            "flex_flow": null,
            "grid_area": null,
            "grid_auto_columns": null,
            "grid_auto_flow": null,
            "grid_auto_rows": null,
            "grid_column": null,
            "grid_gap": null,
            "grid_row": null,
            "grid_template_areas": null,
            "grid_template_columns": null,
            "grid_template_rows": null,
            "height": null,
            "justify_content": null,
            "justify_items": null,
            "left": null,
            "margin": null,
            "max_height": null,
            "max_width": null,
            "min_height": null,
            "min_width": null,
            "object_fit": null,
            "object_position": null,
            "order": null,
            "overflow": null,
            "overflow_x": null,
            "overflow_y": null,
            "padding": null,
            "right": null,
            "top": null,
            "visibility": null,
            "width": null
          }
        },
        "04076d22b6884c2c95d2c269fcd0e831": {
          "model_module": "@jupyter-widgets/controls",
          "model_name": "DescriptionStyleModel",
          "model_module_version": "1.5.0",
          "state": {
            "_model_module": "@jupyter-widgets/controls",
            "_model_module_version": "1.5.0",
            "_model_name": "DescriptionStyleModel",
            "_view_count": null,
            "_view_module": "@jupyter-widgets/base",
            "_view_module_version": "1.2.0",
            "_view_name": "StyleView",
            "description_width": ""
          }
        },
        "2b3139b664b3493b9611a22ff341d270": {
          "model_module": "@jupyter-widgets/controls",
          "model_name": "HBoxModel",
          "model_module_version": "1.5.0",
          "state": {
            "_dom_classes": [],
            "_model_module": "@jupyter-widgets/controls",
            "_model_module_version": "1.5.0",
            "_model_name": "HBoxModel",
            "_view_count": null,
            "_view_module": "@jupyter-widgets/controls",
            "_view_module_version": "1.5.0",
            "_view_name": "HBoxView",
            "box_style": "",
            "children": [
              "IPY_MODEL_9f9cf1badeec45e297d0de85eb59ec7d",
              "IPY_MODEL_dffb26ee9a2c44d096d9bf5c4fd041f7",
              "IPY_MODEL_39f0070823454e5c9de378a97b73a2e8"
            ],
            "layout": "IPY_MODEL_7d880d2d0cfa4690b7848534a9b4f80f"
          }
        },
        "9f9cf1badeec45e297d0de85eb59ec7d": {
          "model_module": "@jupyter-widgets/controls",
          "model_name": "HTMLModel",
          "model_module_version": "1.5.0",
          "state": {
            "_dom_classes": [],
            "_model_module": "@jupyter-widgets/controls",
            "_model_module_version": "1.5.0",
            "_model_name": "HTMLModel",
            "_view_count": null,
            "_view_module": "@jupyter-widgets/controls",
            "_view_module_version": "1.5.0",
            "_view_name": "HTMLView",
            "description": "",
            "description_tooltip": null,
            "layout": "IPY_MODEL_6441b077593f438b8f7d3c148e1748d7",
            "placeholder": "​",
            "style": "IPY_MODEL_f8f656fc61f4435cb2fd5eabe75db5c4",
            "value": "unsupervised-00000-of-00001.parquet: 100%"
          }
        },
        "dffb26ee9a2c44d096d9bf5c4fd041f7": {
          "model_module": "@jupyter-widgets/controls",
          "model_name": "FloatProgressModel",
          "model_module_version": "1.5.0",
          "state": {
            "_dom_classes": [],
            "_model_module": "@jupyter-widgets/controls",
            "_model_module_version": "1.5.0",
            "_model_name": "FloatProgressModel",
            "_view_count": null,
            "_view_module": "@jupyter-widgets/controls",
            "_view_module_version": "1.5.0",
            "_view_name": "ProgressView",
            "bar_style": "success",
            "description": "",
            "description_tooltip": null,
            "layout": "IPY_MODEL_bccaac37de834b2c8eb562ab36881e3f",
            "max": 41996509,
            "min": 0,
            "orientation": "horizontal",
            "style": "IPY_MODEL_5950cf8f582d432f9968ea732f09991e",
            "value": 41996509
          }
        },
        "39f0070823454e5c9de378a97b73a2e8": {
          "model_module": "@jupyter-widgets/controls",
          "model_name": "HTMLModel",
          "model_module_version": "1.5.0",
          "state": {
            "_dom_classes": [],
            "_model_module": "@jupyter-widgets/controls",
            "_model_module_version": "1.5.0",
            "_model_name": "HTMLModel",
            "_view_count": null,
            "_view_module": "@jupyter-widgets/controls",
            "_view_module_version": "1.5.0",
            "_view_name": "HTMLView",
            "description": "",
            "description_tooltip": null,
            "layout": "IPY_MODEL_50847d1263de41859f1335c82516265a",
            "placeholder": "​",
            "style": "IPY_MODEL_8ba83b65287544c4a6ec4a13456d74d7",
            "value": " 42.0M/42.0M [00:00&lt;00:00, 312MB/s]"
          }
        },
        "7d880d2d0cfa4690b7848534a9b4f80f": {
          "model_module": "@jupyter-widgets/base",
          "model_name": "LayoutModel",
          "model_module_version": "1.2.0",
          "state": {
            "_model_module": "@jupyter-widgets/base",
            "_model_module_version": "1.2.0",
            "_model_name": "LayoutModel",
            "_view_count": null,
            "_view_module": "@jupyter-widgets/base",
            "_view_module_version": "1.2.0",
            "_view_name": "LayoutView",
            "align_content": null,
            "align_items": null,
            "align_self": null,
            "border": null,
            "bottom": null,
            "display": null,
            "flex": null,
            "flex_flow": null,
            "grid_area": null,
            "grid_auto_columns": null,
            "grid_auto_flow": null,
            "grid_auto_rows": null,
            "grid_column": null,
            "grid_gap": null,
            "grid_row": null,
            "grid_template_areas": null,
            "grid_template_columns": null,
            "grid_template_rows": null,
            "height": null,
            "justify_content": null,
            "justify_items": null,
            "left": null,
            "margin": null,
            "max_height": null,
            "max_width": null,
            "min_height": null,
            "min_width": null,
            "object_fit": null,
            "object_position": null,
            "order": null,
            "overflow": null,
            "overflow_x": null,
            "overflow_y": null,
            "padding": null,
            "right": null,
            "top": null,
            "visibility": null,
            "width": null
          }
        },
        "6441b077593f438b8f7d3c148e1748d7": {
          "model_module": "@jupyter-widgets/base",
          "model_name": "LayoutModel",
          "model_module_version": "1.2.0",
          "state": {
            "_model_module": "@jupyter-widgets/base",
            "_model_module_version": "1.2.0",
            "_model_name": "LayoutModel",
            "_view_count": null,
            "_view_module": "@jupyter-widgets/base",
            "_view_module_version": "1.2.0",
            "_view_name": "LayoutView",
            "align_content": null,
            "align_items": null,
            "align_self": null,
            "border": null,
            "bottom": null,
            "display": null,
            "flex": null,
            "flex_flow": null,
            "grid_area": null,
            "grid_auto_columns": null,
            "grid_auto_flow": null,
            "grid_auto_rows": null,
            "grid_column": null,
            "grid_gap": null,
            "grid_row": null,
            "grid_template_areas": null,
            "grid_template_columns": null,
            "grid_template_rows": null,
            "height": null,
            "justify_content": null,
            "justify_items": null,
            "left": null,
            "margin": null,
            "max_height": null,
            "max_width": null,
            "min_height": null,
            "min_width": null,
            "object_fit": null,
            "object_position": null,
            "order": null,
            "overflow": null,
            "overflow_x": null,
            "overflow_y": null,
            "padding": null,
            "right": null,
            "top": null,
            "visibility": null,
            "width": null
          }
        },
        "f8f656fc61f4435cb2fd5eabe75db5c4": {
          "model_module": "@jupyter-widgets/controls",
          "model_name": "DescriptionStyleModel",
          "model_module_version": "1.5.0",
          "state": {
            "_model_module": "@jupyter-widgets/controls",
            "_model_module_version": "1.5.0",
            "_model_name": "DescriptionStyleModel",
            "_view_count": null,
            "_view_module": "@jupyter-widgets/base",
            "_view_module_version": "1.2.0",
            "_view_name": "StyleView",
            "description_width": ""
          }
        },
        "bccaac37de834b2c8eb562ab36881e3f": {
          "model_module": "@jupyter-widgets/base",
          "model_name": "LayoutModel",
          "model_module_version": "1.2.0",
          "state": {
            "_model_module": "@jupyter-widgets/base",
            "_model_module_version": "1.2.0",
            "_model_name": "LayoutModel",
            "_view_count": null,
            "_view_module": "@jupyter-widgets/base",
            "_view_module_version": "1.2.0",
            "_view_name": "LayoutView",
            "align_content": null,
            "align_items": null,
            "align_self": null,
            "border": null,
            "bottom": null,
            "display": null,
            "flex": null,
            "flex_flow": null,
            "grid_area": null,
            "grid_auto_columns": null,
            "grid_auto_flow": null,
            "grid_auto_rows": null,
            "grid_column": null,
            "grid_gap": null,
            "grid_row": null,
            "grid_template_areas": null,
            "grid_template_columns": null,
            "grid_template_rows": null,
            "height": null,
            "justify_content": null,
            "justify_items": null,
            "left": null,
            "margin": null,
            "max_height": null,
            "max_width": null,
            "min_height": null,
            "min_width": null,
            "object_fit": null,
            "object_position": null,
            "order": null,
            "overflow": null,
            "overflow_x": null,
            "overflow_y": null,
            "padding": null,
            "right": null,
            "top": null,
            "visibility": null,
            "width": null
          }
        },
        "5950cf8f582d432f9968ea732f09991e": {
          "model_module": "@jupyter-widgets/controls",
          "model_name": "ProgressStyleModel",
          "model_module_version": "1.5.0",
          "state": {
            "_model_module": "@jupyter-widgets/controls",
            "_model_module_version": "1.5.0",
            "_model_name": "ProgressStyleModel",
            "_view_count": null,
            "_view_module": "@jupyter-widgets/base",
            "_view_module_version": "1.2.0",
            "_view_name": "StyleView",
            "bar_color": null,
            "description_width": ""
          }
        },
        "50847d1263de41859f1335c82516265a": {
          "model_module": "@jupyter-widgets/base",
          "model_name": "LayoutModel",
          "model_module_version": "1.2.0",
          "state": {
            "_model_module": "@jupyter-widgets/base",
            "_model_module_version": "1.2.0",
            "_model_name": "LayoutModel",
            "_view_count": null,
            "_view_module": "@jupyter-widgets/base",
            "_view_module_version": "1.2.0",
            "_view_name": "LayoutView",
            "align_content": null,
            "align_items": null,
            "align_self": null,
            "border": null,
            "bottom": null,
            "display": null,
            "flex": null,
            "flex_flow": null,
            "grid_area": null,
            "grid_auto_columns": null,
            "grid_auto_flow": null,
            "grid_auto_rows": null,
            "grid_column": null,
            "grid_gap": null,
            "grid_row": null,
            "grid_template_areas": null,
            "grid_template_columns": null,
            "grid_template_rows": null,
            "height": null,
            "justify_content": null,
            "justify_items": null,
            "left": null,
            "margin": null,
            "max_height": null,
            "max_width": null,
            "min_height": null,
            "min_width": null,
            "object_fit": null,
            "object_position": null,
            "order": null,
            "overflow": null,
            "overflow_x": null,
            "overflow_y": null,
            "padding": null,
            "right": null,
            "top": null,
            "visibility": null,
            "width": null
          }
        },
        "8ba83b65287544c4a6ec4a13456d74d7": {
          "model_module": "@jupyter-widgets/controls",
          "model_name": "DescriptionStyleModel",
          "model_module_version": "1.5.0",
          "state": {
            "_model_module": "@jupyter-widgets/controls",
            "_model_module_version": "1.5.0",
            "_model_name": "DescriptionStyleModel",
            "_view_count": null,
            "_view_module": "@jupyter-widgets/base",
            "_view_module_version": "1.2.0",
            "_view_name": "StyleView",
            "description_width": ""
          }
        },
        "bb3f5979076f4c61b462ae262669b72a": {
          "model_module": "@jupyter-widgets/controls",
          "model_name": "HBoxModel",
          "model_module_version": "1.5.0",
          "state": {
            "_dom_classes": [],
            "_model_module": "@jupyter-widgets/controls",
            "_model_module_version": "1.5.0",
            "_model_name": "HBoxModel",
            "_view_count": null,
            "_view_module": "@jupyter-widgets/controls",
            "_view_module_version": "1.5.0",
            "_view_name": "HBoxView",
            "box_style": "",
            "children": [
              "IPY_MODEL_0cb7b9c1ad4942dc86e7e397da459118",
              "IPY_MODEL_c03df7a564e14ab483264c34e753330b",
              "IPY_MODEL_cae5bf0f23cf4fc88678deb74dc01d95"
            ],
            "layout": "IPY_MODEL_877f72f16cb547439908a0f1f9dfd13e"
          }
        },
        "0cb7b9c1ad4942dc86e7e397da459118": {
          "model_module": "@jupyter-widgets/controls",
          "model_name": "HTMLModel",
          "model_module_version": "1.5.0",
          "state": {
            "_dom_classes": [],
            "_model_module": "@jupyter-widgets/controls",
            "_model_module_version": "1.5.0",
            "_model_name": "HTMLModel",
            "_view_count": null,
            "_view_module": "@jupyter-widgets/controls",
            "_view_module_version": "1.5.0",
            "_view_name": "HTMLView",
            "description": "",
            "description_tooltip": null,
            "layout": "IPY_MODEL_fd720ff22d47462699ff34b56c965a3a",
            "placeholder": "​",
            "style": "IPY_MODEL_194a10f10421477491f76b17adc26c9b",
            "value": "Generating train split: 100%"
          }
        },
        "c03df7a564e14ab483264c34e753330b": {
          "model_module": "@jupyter-widgets/controls",
          "model_name": "FloatProgressModel",
          "model_module_version": "1.5.0",
          "state": {
            "_dom_classes": [],
            "_model_module": "@jupyter-widgets/controls",
            "_model_module_version": "1.5.0",
            "_model_name": "FloatProgressModel",
            "_view_count": null,
            "_view_module": "@jupyter-widgets/controls",
            "_view_module_version": "1.5.0",
            "_view_name": "ProgressView",
            "bar_style": "success",
            "description": "",
            "description_tooltip": null,
            "layout": "IPY_MODEL_6fc2577ed6d144e1b661f58c13e529d7",
            "max": 25000,
            "min": 0,
            "orientation": "horizontal",
            "style": "IPY_MODEL_592bd57b49e345dda2c1e1ff2b28a205",
            "value": 25000
          }
        },
        "cae5bf0f23cf4fc88678deb74dc01d95": {
          "model_module": "@jupyter-widgets/controls",
          "model_name": "HTMLModel",
          "model_module_version": "1.5.0",
          "state": {
            "_dom_classes": [],
            "_model_module": "@jupyter-widgets/controls",
            "_model_module_version": "1.5.0",
            "_model_name": "HTMLModel",
            "_view_count": null,
            "_view_module": "@jupyter-widgets/controls",
            "_view_module_version": "1.5.0",
            "_view_name": "HTMLView",
            "description": "",
            "description_tooltip": null,
            "layout": "IPY_MODEL_168b7d84ca1442b0ba1b0e6ef48108a3",
            "placeholder": "​",
            "style": "IPY_MODEL_0aab72ee27044a7188284d36674734b9",
            "value": " 25000/25000 [00:00&lt;00:00, 102919.85 examples/s]"
          }
        },
        "877f72f16cb547439908a0f1f9dfd13e": {
          "model_module": "@jupyter-widgets/base",
          "model_name": "LayoutModel",
          "model_module_version": "1.2.0",
          "state": {
            "_model_module": "@jupyter-widgets/base",
            "_model_module_version": "1.2.0",
            "_model_name": "LayoutModel",
            "_view_count": null,
            "_view_module": "@jupyter-widgets/base",
            "_view_module_version": "1.2.0",
            "_view_name": "LayoutView",
            "align_content": null,
            "align_items": null,
            "align_self": null,
            "border": null,
            "bottom": null,
            "display": null,
            "flex": null,
            "flex_flow": null,
            "grid_area": null,
            "grid_auto_columns": null,
            "grid_auto_flow": null,
            "grid_auto_rows": null,
            "grid_column": null,
            "grid_gap": null,
            "grid_row": null,
            "grid_template_areas": null,
            "grid_template_columns": null,
            "grid_template_rows": null,
            "height": null,
            "justify_content": null,
            "justify_items": null,
            "left": null,
            "margin": null,
            "max_height": null,
            "max_width": null,
            "min_height": null,
            "min_width": null,
            "object_fit": null,
            "object_position": null,
            "order": null,
            "overflow": null,
            "overflow_x": null,
            "overflow_y": null,
            "padding": null,
            "right": null,
            "top": null,
            "visibility": null,
            "width": null
          }
        },
        "fd720ff22d47462699ff34b56c965a3a": {
          "model_module": "@jupyter-widgets/base",
          "model_name": "LayoutModel",
          "model_module_version": "1.2.0",
          "state": {
            "_model_module": "@jupyter-widgets/base",
            "_model_module_version": "1.2.0",
            "_model_name": "LayoutModel",
            "_view_count": null,
            "_view_module": "@jupyter-widgets/base",
            "_view_module_version": "1.2.0",
            "_view_name": "LayoutView",
            "align_content": null,
            "align_items": null,
            "align_self": null,
            "border": null,
            "bottom": null,
            "display": null,
            "flex": null,
            "flex_flow": null,
            "grid_area": null,
            "grid_auto_columns": null,
            "grid_auto_flow": null,
            "grid_auto_rows": null,
            "grid_column": null,
            "grid_gap": null,
            "grid_row": null,
            "grid_template_areas": null,
            "grid_template_columns": null,
            "grid_template_rows": null,
            "height": null,
            "justify_content": null,
            "justify_items": null,
            "left": null,
            "margin": null,
            "max_height": null,
            "max_width": null,
            "min_height": null,
            "min_width": null,
            "object_fit": null,
            "object_position": null,
            "order": null,
            "overflow": null,
            "overflow_x": null,
            "overflow_y": null,
            "padding": null,
            "right": null,
            "top": null,
            "visibility": null,
            "width": null
          }
        },
        "194a10f10421477491f76b17adc26c9b": {
          "model_module": "@jupyter-widgets/controls",
          "model_name": "DescriptionStyleModel",
          "model_module_version": "1.5.0",
          "state": {
            "_model_module": "@jupyter-widgets/controls",
            "_model_module_version": "1.5.0",
            "_model_name": "DescriptionStyleModel",
            "_view_count": null,
            "_view_module": "@jupyter-widgets/base",
            "_view_module_version": "1.2.0",
            "_view_name": "StyleView",
            "description_width": ""
          }
        },
        "6fc2577ed6d144e1b661f58c13e529d7": {
          "model_module": "@jupyter-widgets/base",
          "model_name": "LayoutModel",
          "model_module_version": "1.2.0",
          "state": {
            "_model_module": "@jupyter-widgets/base",
            "_model_module_version": "1.2.0",
            "_model_name": "LayoutModel",
            "_view_count": null,
            "_view_module": "@jupyter-widgets/base",
            "_view_module_version": "1.2.0",
            "_view_name": "LayoutView",
            "align_content": null,
            "align_items": null,
            "align_self": null,
            "border": null,
            "bottom": null,
            "display": null,
            "flex": null,
            "flex_flow": null,
            "grid_area": null,
            "grid_auto_columns": null,
            "grid_auto_flow": null,
            "grid_auto_rows": null,
            "grid_column": null,
            "grid_gap": null,
            "grid_row": null,
            "grid_template_areas": null,
            "grid_template_columns": null,
            "grid_template_rows": null,
            "height": null,
            "justify_content": null,
            "justify_items": null,
            "left": null,
            "margin": null,
            "max_height": null,
            "max_width": null,
            "min_height": null,
            "min_width": null,
            "object_fit": null,
            "object_position": null,
            "order": null,
            "overflow": null,
            "overflow_x": null,
            "overflow_y": null,
            "padding": null,
            "right": null,
            "top": null,
            "visibility": null,
            "width": null
          }
        },
        "592bd57b49e345dda2c1e1ff2b28a205": {
          "model_module": "@jupyter-widgets/controls",
          "model_name": "ProgressStyleModel",
          "model_module_version": "1.5.0",
          "state": {
            "_model_module": "@jupyter-widgets/controls",
            "_model_module_version": "1.5.0",
            "_model_name": "ProgressStyleModel",
            "_view_count": null,
            "_view_module": "@jupyter-widgets/base",
            "_view_module_version": "1.2.0",
            "_view_name": "StyleView",
            "bar_color": null,
            "description_width": ""
          }
        },
        "168b7d84ca1442b0ba1b0e6ef48108a3": {
          "model_module": "@jupyter-widgets/base",
          "model_name": "LayoutModel",
          "model_module_version": "1.2.0",
          "state": {
            "_model_module": "@jupyter-widgets/base",
            "_model_module_version": "1.2.0",
            "_model_name": "LayoutModel",
            "_view_count": null,
            "_view_module": "@jupyter-widgets/base",
            "_view_module_version": "1.2.0",
            "_view_name": "LayoutView",
            "align_content": null,
            "align_items": null,
            "align_self": null,
            "border": null,
            "bottom": null,
            "display": null,
            "flex": null,
            "flex_flow": null,
            "grid_area": null,
            "grid_auto_columns": null,
            "grid_auto_flow": null,
            "grid_auto_rows": null,
            "grid_column": null,
            "grid_gap": null,
            "grid_row": null,
            "grid_template_areas": null,
            "grid_template_columns": null,
            "grid_template_rows": null,
            "height": null,
            "justify_content": null,
            "justify_items": null,
            "left": null,
            "margin": null,
            "max_height": null,
            "max_width": null,
            "min_height": null,
            "min_width": null,
            "object_fit": null,
            "object_position": null,
            "order": null,
            "overflow": null,
            "overflow_x": null,
            "overflow_y": null,
            "padding": null,
            "right": null,
            "top": null,
            "visibility": null,
            "width": null
          }
        },
        "0aab72ee27044a7188284d36674734b9": {
          "model_module": "@jupyter-widgets/controls",
          "model_name": "DescriptionStyleModel",
          "model_module_version": "1.5.0",
          "state": {
            "_model_module": "@jupyter-widgets/controls",
            "_model_module_version": "1.5.0",
            "_model_name": "DescriptionStyleModel",
            "_view_count": null,
            "_view_module": "@jupyter-widgets/base",
            "_view_module_version": "1.2.0",
            "_view_name": "StyleView",
            "description_width": ""
          }
        },
        "4823417cce1742ef85b04524c45335f6": {
          "model_module": "@jupyter-widgets/controls",
          "model_name": "HBoxModel",
          "model_module_version": "1.5.0",
          "state": {
            "_dom_classes": [],
            "_model_module": "@jupyter-widgets/controls",
            "_model_module_version": "1.5.0",
            "_model_name": "HBoxModel",
            "_view_count": null,
            "_view_module": "@jupyter-widgets/controls",
            "_view_module_version": "1.5.0",
            "_view_name": "HBoxView",
            "box_style": "",
            "children": [
              "IPY_MODEL_0a0453762d734d9c90ca882ad591857c",
              "IPY_MODEL_290559cf14214fd99d5c719c6d53af9f",
              "IPY_MODEL_411c8f970de74ed3a8e9a18f41df8211"
            ],
            "layout": "IPY_MODEL_28cecd6b8b2540f49d430efcee062350"
          }
        },
        "0a0453762d734d9c90ca882ad591857c": {
          "model_module": "@jupyter-widgets/controls",
          "model_name": "HTMLModel",
          "model_module_version": "1.5.0",
          "state": {
            "_dom_classes": [],
            "_model_module": "@jupyter-widgets/controls",
            "_model_module_version": "1.5.0",
            "_model_name": "HTMLModel",
            "_view_count": null,
            "_view_module": "@jupyter-widgets/controls",
            "_view_module_version": "1.5.0",
            "_view_name": "HTMLView",
            "description": "",
            "description_tooltip": null,
            "layout": "IPY_MODEL_9e4f0381dc3d4096ae54afbd48705654",
            "placeholder": "​",
            "style": "IPY_MODEL_98eb9239180445889c5535daa03593e8",
            "value": "Generating test split: 100%"
          }
        },
        "290559cf14214fd99d5c719c6d53af9f": {
          "model_module": "@jupyter-widgets/controls",
          "model_name": "FloatProgressModel",
          "model_module_version": "1.5.0",
          "state": {
            "_dom_classes": [],
            "_model_module": "@jupyter-widgets/controls",
            "_model_module_version": "1.5.0",
            "_model_name": "FloatProgressModel",
            "_view_count": null,
            "_view_module": "@jupyter-widgets/controls",
            "_view_module_version": "1.5.0",
            "_view_name": "ProgressView",
            "bar_style": "success",
            "description": "",
            "description_tooltip": null,
            "layout": "IPY_MODEL_b684f68a64da46cbab3123501a3b802a",
            "max": 25000,
            "min": 0,
            "orientation": "horizontal",
            "style": "IPY_MODEL_8e529446bf4f4bf5aa757d94a864adef",
            "value": 25000
          }
        },
        "411c8f970de74ed3a8e9a18f41df8211": {
          "model_module": "@jupyter-widgets/controls",
          "model_name": "HTMLModel",
          "model_module_version": "1.5.0",
          "state": {
            "_dom_classes": [],
            "_model_module": "@jupyter-widgets/controls",
            "_model_module_version": "1.5.0",
            "_model_name": "HTMLModel",
            "_view_count": null,
            "_view_module": "@jupyter-widgets/controls",
            "_view_module_version": "1.5.0",
            "_view_name": "HTMLView",
            "description": "",
            "description_tooltip": null,
            "layout": "IPY_MODEL_203bb1e56c134481a9461e69fd935779",
            "placeholder": "​",
            "style": "IPY_MODEL_e196a3549add4b87a81bbd92034a41f8",
            "value": " 25000/25000 [00:00&lt;00:00, 134522.86 examples/s]"
          }
        },
        "28cecd6b8b2540f49d430efcee062350": {
          "model_module": "@jupyter-widgets/base",
          "model_name": "LayoutModel",
          "model_module_version": "1.2.0",
          "state": {
            "_model_module": "@jupyter-widgets/base",
            "_model_module_version": "1.2.0",
            "_model_name": "LayoutModel",
            "_view_count": null,
            "_view_module": "@jupyter-widgets/base",
            "_view_module_version": "1.2.0",
            "_view_name": "LayoutView",
            "align_content": null,
            "align_items": null,
            "align_self": null,
            "border": null,
            "bottom": null,
            "display": null,
            "flex": null,
            "flex_flow": null,
            "grid_area": null,
            "grid_auto_columns": null,
            "grid_auto_flow": null,
            "grid_auto_rows": null,
            "grid_column": null,
            "grid_gap": null,
            "grid_row": null,
            "grid_template_areas": null,
            "grid_template_columns": null,
            "grid_template_rows": null,
            "height": null,
            "justify_content": null,
            "justify_items": null,
            "left": null,
            "margin": null,
            "max_height": null,
            "max_width": null,
            "min_height": null,
            "min_width": null,
            "object_fit": null,
            "object_position": null,
            "order": null,
            "overflow": null,
            "overflow_x": null,
            "overflow_y": null,
            "padding": null,
            "right": null,
            "top": null,
            "visibility": null,
            "width": null
          }
        },
        "9e4f0381dc3d4096ae54afbd48705654": {
          "model_module": "@jupyter-widgets/base",
          "model_name": "LayoutModel",
          "model_module_version": "1.2.0",
          "state": {
            "_model_module": "@jupyter-widgets/base",
            "_model_module_version": "1.2.0",
            "_model_name": "LayoutModel",
            "_view_count": null,
            "_view_module": "@jupyter-widgets/base",
            "_view_module_version": "1.2.0",
            "_view_name": "LayoutView",
            "align_content": null,
            "align_items": null,
            "align_self": null,
            "border": null,
            "bottom": null,
            "display": null,
            "flex": null,
            "flex_flow": null,
            "grid_area": null,
            "grid_auto_columns": null,
            "grid_auto_flow": null,
            "grid_auto_rows": null,
            "grid_column": null,
            "grid_gap": null,
            "grid_row": null,
            "grid_template_areas": null,
            "grid_template_columns": null,
            "grid_template_rows": null,
            "height": null,
            "justify_content": null,
            "justify_items": null,
            "left": null,
            "margin": null,
            "max_height": null,
            "max_width": null,
            "min_height": null,
            "min_width": null,
            "object_fit": null,
            "object_position": null,
            "order": null,
            "overflow": null,
            "overflow_x": null,
            "overflow_y": null,
            "padding": null,
            "right": null,
            "top": null,
            "visibility": null,
            "width": null
          }
        },
        "98eb9239180445889c5535daa03593e8": {
          "model_module": "@jupyter-widgets/controls",
          "model_name": "DescriptionStyleModel",
          "model_module_version": "1.5.0",
          "state": {
            "_model_module": "@jupyter-widgets/controls",
            "_model_module_version": "1.5.0",
            "_model_name": "DescriptionStyleModel",
            "_view_count": null,
            "_view_module": "@jupyter-widgets/base",
            "_view_module_version": "1.2.0",
            "_view_name": "StyleView",
            "description_width": ""
          }
        },
        "b684f68a64da46cbab3123501a3b802a": {
          "model_module": "@jupyter-widgets/base",
          "model_name": "LayoutModel",
          "model_module_version": "1.2.0",
          "state": {
            "_model_module": "@jupyter-widgets/base",
            "_model_module_version": "1.2.0",
            "_model_name": "LayoutModel",
            "_view_count": null,
            "_view_module": "@jupyter-widgets/base",
            "_view_module_version": "1.2.0",
            "_view_name": "LayoutView",
            "align_content": null,
            "align_items": null,
            "align_self": null,
            "border": null,
            "bottom": null,
            "display": null,
            "flex": null,
            "flex_flow": null,
            "grid_area": null,
            "grid_auto_columns": null,
            "grid_auto_flow": null,
            "grid_auto_rows": null,
            "grid_column": null,
            "grid_gap": null,
            "grid_row": null,
            "grid_template_areas": null,
            "grid_template_columns": null,
            "grid_template_rows": null,
            "height": null,
            "justify_content": null,
            "justify_items": null,
            "left": null,
            "margin": null,
            "max_height": null,
            "max_width": null,
            "min_height": null,
            "min_width": null,
            "object_fit": null,
            "object_position": null,
            "order": null,
            "overflow": null,
            "overflow_x": null,
            "overflow_y": null,
            "padding": null,
            "right": null,
            "top": null,
            "visibility": null,
            "width": null
          }
        },
        "8e529446bf4f4bf5aa757d94a864adef": {
          "model_module": "@jupyter-widgets/controls",
          "model_name": "ProgressStyleModel",
          "model_module_version": "1.5.0",
          "state": {
            "_model_module": "@jupyter-widgets/controls",
            "_model_module_version": "1.5.0",
            "_model_name": "ProgressStyleModel",
            "_view_count": null,
            "_view_module": "@jupyter-widgets/base",
            "_view_module_version": "1.2.0",
            "_view_name": "StyleView",
            "bar_color": null,
            "description_width": ""
          }
        },
        "203bb1e56c134481a9461e69fd935779": {
          "model_module": "@jupyter-widgets/base",
          "model_name": "LayoutModel",
          "model_module_version": "1.2.0",
          "state": {
            "_model_module": "@jupyter-widgets/base",
            "_model_module_version": "1.2.0",
            "_model_name": "LayoutModel",
            "_view_count": null,
            "_view_module": "@jupyter-widgets/base",
            "_view_module_version": "1.2.0",
            "_view_name": "LayoutView",
            "align_content": null,
            "align_items": null,
            "align_self": null,
            "border": null,
            "bottom": null,
            "display": null,
            "flex": null,
            "flex_flow": null,
            "grid_area": null,
            "grid_auto_columns": null,
            "grid_auto_flow": null,
            "grid_auto_rows": null,
            "grid_column": null,
            "grid_gap": null,
            "grid_row": null,
            "grid_template_areas": null,
            "grid_template_columns": null,
            "grid_template_rows": null,
            "height": null,
            "justify_content": null,
            "justify_items": null,
            "left": null,
            "margin": null,
            "max_height": null,
            "max_width": null,
            "min_height": null,
            "min_width": null,
            "object_fit": null,
            "object_position": null,
            "order": null,
            "overflow": null,
            "overflow_x": null,
            "overflow_y": null,
            "padding": null,
            "right": null,
            "top": null,
            "visibility": null,
            "width": null
          }
        },
        "e196a3549add4b87a81bbd92034a41f8": {
          "model_module": "@jupyter-widgets/controls",
          "model_name": "DescriptionStyleModel",
          "model_module_version": "1.5.0",
          "state": {
            "_model_module": "@jupyter-widgets/controls",
            "_model_module_version": "1.5.0",
            "_model_name": "DescriptionStyleModel",
            "_view_count": null,
            "_view_module": "@jupyter-widgets/base",
            "_view_module_version": "1.2.0",
            "_view_name": "StyleView",
            "description_width": ""
          }
        },
        "7e8a971b6fd2409780a642506a24c9c0": {
          "model_module": "@jupyter-widgets/controls",
          "model_name": "HBoxModel",
          "model_module_version": "1.5.0",
          "state": {
            "_dom_classes": [],
            "_model_module": "@jupyter-widgets/controls",
            "_model_module_version": "1.5.0",
            "_model_name": "HBoxModel",
            "_view_count": null,
            "_view_module": "@jupyter-widgets/controls",
            "_view_module_version": "1.5.0",
            "_view_name": "HBoxView",
            "box_style": "",
            "children": [
              "IPY_MODEL_a394124ffcc544e8936144509b3fdccc",
              "IPY_MODEL_318732a2bf0e4eb1a2da8c977e7494ab",
              "IPY_MODEL_656e06ff69314a8aa66630c6f7765c19"
            ],
            "layout": "IPY_MODEL_9dd14037ee0f46a19780bd4d71c2d8e6"
          }
        },
        "a394124ffcc544e8936144509b3fdccc": {
          "model_module": "@jupyter-widgets/controls",
          "model_name": "HTMLModel",
          "model_module_version": "1.5.0",
          "state": {
            "_dom_classes": [],
            "_model_module": "@jupyter-widgets/controls",
            "_model_module_version": "1.5.0",
            "_model_name": "HTMLModel",
            "_view_count": null,
            "_view_module": "@jupyter-widgets/controls",
            "_view_module_version": "1.5.0",
            "_view_name": "HTMLView",
            "description": "",
            "description_tooltip": null,
            "layout": "IPY_MODEL_7bf04b550a5946779eb8defbd0db24b8",
            "placeholder": "​",
            "style": "IPY_MODEL_156c69f0fad54f5e85bb41ba7b072f96",
            "value": "Generating unsupervised split: 100%"
          }
        },
        "318732a2bf0e4eb1a2da8c977e7494ab": {
          "model_module": "@jupyter-widgets/controls",
          "model_name": "FloatProgressModel",
          "model_module_version": "1.5.0",
          "state": {
            "_dom_classes": [],
            "_model_module": "@jupyter-widgets/controls",
            "_model_module_version": "1.5.0",
            "_model_name": "FloatProgressModel",
            "_view_count": null,
            "_view_module": "@jupyter-widgets/controls",
            "_view_module_version": "1.5.0",
            "_view_name": "ProgressView",
            "bar_style": "success",
            "description": "",
            "description_tooltip": null,
            "layout": "IPY_MODEL_59d3aba3fb7a4e288bc04319a94cb086",
            "max": 50000,
            "min": 0,
            "orientation": "horizontal",
            "style": "IPY_MODEL_56a5794e19bf4db99efe81cd29cac6ea",
            "value": 50000
          }
        },
        "656e06ff69314a8aa66630c6f7765c19": {
          "model_module": "@jupyter-widgets/controls",
          "model_name": "HTMLModel",
          "model_module_version": "1.5.0",
          "state": {
            "_dom_classes": [],
            "_model_module": "@jupyter-widgets/controls",
            "_model_module_version": "1.5.0",
            "_model_name": "HTMLModel",
            "_view_count": null,
            "_view_module": "@jupyter-widgets/controls",
            "_view_module_version": "1.5.0",
            "_view_name": "HTMLView",
            "description": "",
            "description_tooltip": null,
            "layout": "IPY_MODEL_f77ada80a1204b4eaf676a507479411e",
            "placeholder": "​",
            "style": "IPY_MODEL_938f9b7e46324859ac6e073f27e24649",
            "value": " 50000/50000 [00:00&lt;00:00, 172381.70 examples/s]"
          }
        },
        "9dd14037ee0f46a19780bd4d71c2d8e6": {
          "model_module": "@jupyter-widgets/base",
          "model_name": "LayoutModel",
          "model_module_version": "1.2.0",
          "state": {
            "_model_module": "@jupyter-widgets/base",
            "_model_module_version": "1.2.0",
            "_model_name": "LayoutModel",
            "_view_count": null,
            "_view_module": "@jupyter-widgets/base",
            "_view_module_version": "1.2.0",
            "_view_name": "LayoutView",
            "align_content": null,
            "align_items": null,
            "align_self": null,
            "border": null,
            "bottom": null,
            "display": null,
            "flex": null,
            "flex_flow": null,
            "grid_area": null,
            "grid_auto_columns": null,
            "grid_auto_flow": null,
            "grid_auto_rows": null,
            "grid_column": null,
            "grid_gap": null,
            "grid_row": null,
            "grid_template_areas": null,
            "grid_template_columns": null,
            "grid_template_rows": null,
            "height": null,
            "justify_content": null,
            "justify_items": null,
            "left": null,
            "margin": null,
            "max_height": null,
            "max_width": null,
            "min_height": null,
            "min_width": null,
            "object_fit": null,
            "object_position": null,
            "order": null,
            "overflow": null,
            "overflow_x": null,
            "overflow_y": null,
            "padding": null,
            "right": null,
            "top": null,
            "visibility": null,
            "width": null
          }
        },
        "7bf04b550a5946779eb8defbd0db24b8": {
          "model_module": "@jupyter-widgets/base",
          "model_name": "LayoutModel",
          "model_module_version": "1.2.0",
          "state": {
            "_model_module": "@jupyter-widgets/base",
            "_model_module_version": "1.2.0",
            "_model_name": "LayoutModel",
            "_view_count": null,
            "_view_module": "@jupyter-widgets/base",
            "_view_module_version": "1.2.0",
            "_view_name": "LayoutView",
            "align_content": null,
            "align_items": null,
            "align_self": null,
            "border": null,
            "bottom": null,
            "display": null,
            "flex": null,
            "flex_flow": null,
            "grid_area": null,
            "grid_auto_columns": null,
            "grid_auto_flow": null,
            "grid_auto_rows": null,
            "grid_column": null,
            "grid_gap": null,
            "grid_row": null,
            "grid_template_areas": null,
            "grid_template_columns": null,
            "grid_template_rows": null,
            "height": null,
            "justify_content": null,
            "justify_items": null,
            "left": null,
            "margin": null,
            "max_height": null,
            "max_width": null,
            "min_height": null,
            "min_width": null,
            "object_fit": null,
            "object_position": null,
            "order": null,
            "overflow": null,
            "overflow_x": null,
            "overflow_y": null,
            "padding": null,
            "right": null,
            "top": null,
            "visibility": null,
            "width": null
          }
        },
        "156c69f0fad54f5e85bb41ba7b072f96": {
          "model_module": "@jupyter-widgets/controls",
          "model_name": "DescriptionStyleModel",
          "model_module_version": "1.5.0",
          "state": {
            "_model_module": "@jupyter-widgets/controls",
            "_model_module_version": "1.5.0",
            "_model_name": "DescriptionStyleModel",
            "_view_count": null,
            "_view_module": "@jupyter-widgets/base",
            "_view_module_version": "1.2.0",
            "_view_name": "StyleView",
            "description_width": ""
          }
        },
        "59d3aba3fb7a4e288bc04319a94cb086": {
          "model_module": "@jupyter-widgets/base",
          "model_name": "LayoutModel",
          "model_module_version": "1.2.0",
          "state": {
            "_model_module": "@jupyter-widgets/base",
            "_model_module_version": "1.2.0",
            "_model_name": "LayoutModel",
            "_view_count": null,
            "_view_module": "@jupyter-widgets/base",
            "_view_module_version": "1.2.0",
            "_view_name": "LayoutView",
            "align_content": null,
            "align_items": null,
            "align_self": null,
            "border": null,
            "bottom": null,
            "display": null,
            "flex": null,
            "flex_flow": null,
            "grid_area": null,
            "grid_auto_columns": null,
            "grid_auto_flow": null,
            "grid_auto_rows": null,
            "grid_column": null,
            "grid_gap": null,
            "grid_row": null,
            "grid_template_areas": null,
            "grid_template_columns": null,
            "grid_template_rows": null,
            "height": null,
            "justify_content": null,
            "justify_items": null,
            "left": null,
            "margin": null,
            "max_height": null,
            "max_width": null,
            "min_height": null,
            "min_width": null,
            "object_fit": null,
            "object_position": null,
            "order": null,
            "overflow": null,
            "overflow_x": null,
            "overflow_y": null,
            "padding": null,
            "right": null,
            "top": null,
            "visibility": null,
            "width": null
          }
        },
        "56a5794e19bf4db99efe81cd29cac6ea": {
          "model_module": "@jupyter-widgets/controls",
          "model_name": "ProgressStyleModel",
          "model_module_version": "1.5.0",
          "state": {
            "_model_module": "@jupyter-widgets/controls",
            "_model_module_version": "1.5.0",
            "_model_name": "ProgressStyleModel",
            "_view_count": null,
            "_view_module": "@jupyter-widgets/base",
            "_view_module_version": "1.2.0",
            "_view_name": "StyleView",
            "bar_color": null,
            "description_width": ""
          }
        },
        "f77ada80a1204b4eaf676a507479411e": {
          "model_module": "@jupyter-widgets/base",
          "model_name": "LayoutModel",
          "model_module_version": "1.2.0",
          "state": {
            "_model_module": "@jupyter-widgets/base",
            "_model_module_version": "1.2.0",
            "_model_name": "LayoutModel",
            "_view_count": null,
            "_view_module": "@jupyter-widgets/base",
            "_view_module_version": "1.2.0",
            "_view_name": "LayoutView",
            "align_content": null,
            "align_items": null,
            "align_self": null,
            "border": null,
            "bottom": null,
            "display": null,
            "flex": null,
            "flex_flow": null,
            "grid_area": null,
            "grid_auto_columns": null,
            "grid_auto_flow": null,
            "grid_auto_rows": null,
            "grid_column": null,
            "grid_gap": null,
            "grid_row": null,
            "grid_template_areas": null,
            "grid_template_columns": null,
            "grid_template_rows": null,
            "height": null,
            "justify_content": null,
            "justify_items": null,
            "left": null,
            "margin": null,
            "max_height": null,
            "max_width": null,
            "min_height": null,
            "min_width": null,
            "object_fit": null,
            "object_position": null,
            "order": null,
            "overflow": null,
            "overflow_x": null,
            "overflow_y": null,
            "padding": null,
            "right": null,
            "top": null,
            "visibility": null,
            "width": null
          }
        },
        "938f9b7e46324859ac6e073f27e24649": {
          "model_module": "@jupyter-widgets/controls",
          "model_name": "DescriptionStyleModel",
          "model_module_version": "1.5.0",
          "state": {
            "_model_module": "@jupyter-widgets/controls",
            "_model_module_version": "1.5.0",
            "_model_name": "DescriptionStyleModel",
            "_view_count": null,
            "_view_module": "@jupyter-widgets/base",
            "_view_module_version": "1.2.0",
            "_view_name": "StyleView",
            "description_width": ""
          }
        },
        "ea792192dd5643938068db145b74f40b": {
          "model_module": "@jupyter-widgets/controls",
          "model_name": "HBoxModel",
          "model_module_version": "1.5.0",
          "state": {
            "_dom_classes": [],
            "_model_module": "@jupyter-widgets/controls",
            "_model_module_version": "1.5.0",
            "_model_name": "HBoxModel",
            "_view_count": null,
            "_view_module": "@jupyter-widgets/controls",
            "_view_module_version": "1.5.0",
            "_view_name": "HBoxView",
            "box_style": "",
            "children": [
              "IPY_MODEL_bcd3a8fc0caf410cb44a73d6ee23df46",
              "IPY_MODEL_5c222e9351294a6f8e379f8654ee9e2c",
              "IPY_MODEL_a6ff852e18e142688e7995c17ca95771"
            ],
            "layout": "IPY_MODEL_21930b1bc749409791a77c6540f37c49"
          }
        },
        "bcd3a8fc0caf410cb44a73d6ee23df46": {
          "model_module": "@jupyter-widgets/controls",
          "model_name": "HTMLModel",
          "model_module_version": "1.5.0",
          "state": {
            "_dom_classes": [],
            "_model_module": "@jupyter-widgets/controls",
            "_model_module_version": "1.5.0",
            "_model_name": "HTMLModel",
            "_view_count": null,
            "_view_module": "@jupyter-widgets/controls",
            "_view_module_version": "1.5.0",
            "_view_name": "HTMLView",
            "description": "",
            "description_tooltip": null,
            "layout": "IPY_MODEL_d5e9b7ffbee44afda1504e24701a2e06",
            "placeholder": "​",
            "style": "IPY_MODEL_232f50e14b2440fcab4986ea0e3670d6",
            "value": "Map: 100%"
          }
        },
        "5c222e9351294a6f8e379f8654ee9e2c": {
          "model_module": "@jupyter-widgets/controls",
          "model_name": "FloatProgressModel",
          "model_module_version": "1.5.0",
          "state": {
            "_dom_classes": [],
            "_model_module": "@jupyter-widgets/controls",
            "_model_module_version": "1.5.0",
            "_model_name": "FloatProgressModel",
            "_view_count": null,
            "_view_module": "@jupyter-widgets/controls",
            "_view_module_version": "1.5.0",
            "_view_name": "ProgressView",
            "bar_style": "success",
            "description": "",
            "description_tooltip": null,
            "layout": "IPY_MODEL_43413d0e45be4cedb58da16322d73f48",
            "max": 200,
            "min": 0,
            "orientation": "horizontal",
            "style": "IPY_MODEL_9bec27d722b24c82b3d68f3e9e49a208",
            "value": 200
          }
        },
        "a6ff852e18e142688e7995c17ca95771": {
          "model_module": "@jupyter-widgets/controls",
          "model_name": "HTMLModel",
          "model_module_version": "1.5.0",
          "state": {
            "_dom_classes": [],
            "_model_module": "@jupyter-widgets/controls",
            "_model_module_version": "1.5.0",
            "_model_name": "HTMLModel",
            "_view_count": null,
            "_view_module": "@jupyter-widgets/controls",
            "_view_module_version": "1.5.0",
            "_view_name": "HTMLView",
            "description": "",
            "description_tooltip": null,
            "layout": "IPY_MODEL_7e840bb6bf7a49da8aa88c5479539dd0",
            "placeholder": "​",
            "style": "IPY_MODEL_144efb5228b545178499265ab9ee5124",
            "value": " 200/200 [00:01&lt;00:00, 162.47 examples/s]"
          }
        },
        "21930b1bc749409791a77c6540f37c49": {
          "model_module": "@jupyter-widgets/base",
          "model_name": "LayoutModel",
          "model_module_version": "1.2.0",
          "state": {
            "_model_module": "@jupyter-widgets/base",
            "_model_module_version": "1.2.0",
            "_model_name": "LayoutModel",
            "_view_count": null,
            "_view_module": "@jupyter-widgets/base",
            "_view_module_version": "1.2.0",
            "_view_name": "LayoutView",
            "align_content": null,
            "align_items": null,
            "align_self": null,
            "border": null,
            "bottom": null,
            "display": null,
            "flex": null,
            "flex_flow": null,
            "grid_area": null,
            "grid_auto_columns": null,
            "grid_auto_flow": null,
            "grid_auto_rows": null,
            "grid_column": null,
            "grid_gap": null,
            "grid_row": null,
            "grid_template_areas": null,
            "grid_template_columns": null,
            "grid_template_rows": null,
            "height": null,
            "justify_content": null,
            "justify_items": null,
            "left": null,
            "margin": null,
            "max_height": null,
            "max_width": null,
            "min_height": null,
            "min_width": null,
            "object_fit": null,
            "object_position": null,
            "order": null,
            "overflow": null,
            "overflow_x": null,
            "overflow_y": null,
            "padding": null,
            "right": null,
            "top": null,
            "visibility": null,
            "width": null
          }
        },
        "d5e9b7ffbee44afda1504e24701a2e06": {
          "model_module": "@jupyter-widgets/base",
          "model_name": "LayoutModel",
          "model_module_version": "1.2.0",
          "state": {
            "_model_module": "@jupyter-widgets/base",
            "_model_module_version": "1.2.0",
            "_model_name": "LayoutModel",
            "_view_count": null,
            "_view_module": "@jupyter-widgets/base",
            "_view_module_version": "1.2.0",
            "_view_name": "LayoutView",
            "align_content": null,
            "align_items": null,
            "align_self": null,
            "border": null,
            "bottom": null,
            "display": null,
            "flex": null,
            "flex_flow": null,
            "grid_area": null,
            "grid_auto_columns": null,
            "grid_auto_flow": null,
            "grid_auto_rows": null,
            "grid_column": null,
            "grid_gap": null,
            "grid_row": null,
            "grid_template_areas": null,
            "grid_template_columns": null,
            "grid_template_rows": null,
            "height": null,
            "justify_content": null,
            "justify_items": null,
            "left": null,
            "margin": null,
            "max_height": null,
            "max_width": null,
            "min_height": null,
            "min_width": null,
            "object_fit": null,
            "object_position": null,
            "order": null,
            "overflow": null,
            "overflow_x": null,
            "overflow_y": null,
            "padding": null,
            "right": null,
            "top": null,
            "visibility": null,
            "width": null
          }
        },
        "232f50e14b2440fcab4986ea0e3670d6": {
          "model_module": "@jupyter-widgets/controls",
          "model_name": "DescriptionStyleModel",
          "model_module_version": "1.5.0",
          "state": {
            "_model_module": "@jupyter-widgets/controls",
            "_model_module_version": "1.5.0",
            "_model_name": "DescriptionStyleModel",
            "_view_count": null,
            "_view_module": "@jupyter-widgets/base",
            "_view_module_version": "1.2.0",
            "_view_name": "StyleView",
            "description_width": ""
          }
        },
        "43413d0e45be4cedb58da16322d73f48": {
          "model_module": "@jupyter-widgets/base",
          "model_name": "LayoutModel",
          "model_module_version": "1.2.0",
          "state": {
            "_model_module": "@jupyter-widgets/base",
            "_model_module_version": "1.2.0",
            "_model_name": "LayoutModel",
            "_view_count": null,
            "_view_module": "@jupyter-widgets/base",
            "_view_module_version": "1.2.0",
            "_view_name": "LayoutView",
            "align_content": null,
            "align_items": null,
            "align_self": null,
            "border": null,
            "bottom": null,
            "display": null,
            "flex": null,
            "flex_flow": null,
            "grid_area": null,
            "grid_auto_columns": null,
            "grid_auto_flow": null,
            "grid_auto_rows": null,
            "grid_column": null,
            "grid_gap": null,
            "grid_row": null,
            "grid_template_areas": null,
            "grid_template_columns": null,
            "grid_template_rows": null,
            "height": null,
            "justify_content": null,
            "justify_items": null,
            "left": null,
            "margin": null,
            "max_height": null,
            "max_width": null,
            "min_height": null,
            "min_width": null,
            "object_fit": null,
            "object_position": null,
            "order": null,
            "overflow": null,
            "overflow_x": null,
            "overflow_y": null,
            "padding": null,
            "right": null,
            "top": null,
            "visibility": null,
            "width": null
          }
        },
        "9bec27d722b24c82b3d68f3e9e49a208": {
          "model_module": "@jupyter-widgets/controls",
          "model_name": "ProgressStyleModel",
          "model_module_version": "1.5.0",
          "state": {
            "_model_module": "@jupyter-widgets/controls",
            "_model_module_version": "1.5.0",
            "_model_name": "ProgressStyleModel",
            "_view_count": null,
            "_view_module": "@jupyter-widgets/base",
            "_view_module_version": "1.2.0",
            "_view_name": "StyleView",
            "bar_color": null,
            "description_width": ""
          }
        },
        "7e840bb6bf7a49da8aa88c5479539dd0": {
          "model_module": "@jupyter-widgets/base",
          "model_name": "LayoutModel",
          "model_module_version": "1.2.0",
          "state": {
            "_model_module": "@jupyter-widgets/base",
            "_model_module_version": "1.2.0",
            "_model_name": "LayoutModel",
            "_view_count": null,
            "_view_module": "@jupyter-widgets/base",
            "_view_module_version": "1.2.0",
            "_view_name": "LayoutView",
            "align_content": null,
            "align_items": null,
            "align_self": null,
            "border": null,
            "bottom": null,
            "display": null,
            "flex": null,
            "flex_flow": null,
            "grid_area": null,
            "grid_auto_columns": null,
            "grid_auto_flow": null,
            "grid_auto_rows": null,
            "grid_column": null,
            "grid_gap": null,
            "grid_row": null,
            "grid_template_areas": null,
            "grid_template_columns": null,
            "grid_template_rows": null,
            "height": null,
            "justify_content": null,
            "justify_items": null,
            "left": null,
            "margin": null,
            "max_height": null,
            "max_width": null,
            "min_height": null,
            "min_width": null,
            "object_fit": null,
            "object_position": null,
            "order": null,
            "overflow": null,
            "overflow_x": null,
            "overflow_y": null,
            "padding": null,
            "right": null,
            "top": null,
            "visibility": null,
            "width": null
          }
        },
        "144efb5228b545178499265ab9ee5124": {
          "model_module": "@jupyter-widgets/controls",
          "model_name": "DescriptionStyleModel",
          "model_module_version": "1.5.0",
          "state": {
            "_model_module": "@jupyter-widgets/controls",
            "_model_module_version": "1.5.0",
            "_model_name": "DescriptionStyleModel",
            "_view_count": null,
            "_view_module": "@jupyter-widgets/base",
            "_view_module_version": "1.2.0",
            "_view_name": "StyleView",
            "description_width": ""
          }
        },
        "ce9d9fb953654e8e86f6d2dbee3f1d38": {
          "model_module": "@jupyter-widgets/controls",
          "model_name": "HBoxModel",
          "model_module_version": "1.5.0",
          "state": {
            "_dom_classes": [],
            "_model_module": "@jupyter-widgets/controls",
            "_model_module_version": "1.5.0",
            "_model_name": "HBoxModel",
            "_view_count": null,
            "_view_module": "@jupyter-widgets/controls",
            "_view_module_version": "1.5.0",
            "_view_name": "HBoxView",
            "box_style": "",
            "children": [
              "IPY_MODEL_af799ec1336a4a7782f81a133e95fbc2",
              "IPY_MODEL_1e3591e3872047a898e02f0cf8526b5d",
              "IPY_MODEL_7234fc19228b479696663687260134d2"
            ],
            "layout": "IPY_MODEL_0f35beed8c9e43ebb54fbf962d51b1cc"
          }
        },
        "af799ec1336a4a7782f81a133e95fbc2": {
          "model_module": "@jupyter-widgets/controls",
          "model_name": "HTMLModel",
          "model_module_version": "1.5.0",
          "state": {
            "_dom_classes": [],
            "_model_module": "@jupyter-widgets/controls",
            "_model_module_version": "1.5.0",
            "_model_name": "HTMLModel",
            "_view_count": null,
            "_view_module": "@jupyter-widgets/controls",
            "_view_module_version": "1.5.0",
            "_view_name": "HTMLView",
            "description": "",
            "description_tooltip": null,
            "layout": "IPY_MODEL_d2601eb1641c48b4a9dcd6300279c6b0",
            "placeholder": "​",
            "style": "IPY_MODEL_8cff0cf0e8d7462f8a6bd31cec86b7a4",
            "value": "Map: 100%"
          }
        },
        "1e3591e3872047a898e02f0cf8526b5d": {
          "model_module": "@jupyter-widgets/controls",
          "model_name": "FloatProgressModel",
          "model_module_version": "1.5.0",
          "state": {
            "_dom_classes": [],
            "_model_module": "@jupyter-widgets/controls",
            "_model_module_version": "1.5.0",
            "_model_name": "FloatProgressModel",
            "_view_count": null,
            "_view_module": "@jupyter-widgets/controls",
            "_view_module_version": "1.5.0",
            "_view_name": "ProgressView",
            "bar_style": "success",
            "description": "",
            "description_tooltip": null,
            "layout": "IPY_MODEL_741a84d71e8d489b8014c0da7951db39",
            "max": 100,
            "min": 0,
            "orientation": "horizontal",
            "style": "IPY_MODEL_870e12f8567d4c6ebb0191d401975635",
            "value": 100
          }
        },
        "7234fc19228b479696663687260134d2": {
          "model_module": "@jupyter-widgets/controls",
          "model_name": "HTMLModel",
          "model_module_version": "1.5.0",
          "state": {
            "_dom_classes": [],
            "_model_module": "@jupyter-widgets/controls",
            "_model_module_version": "1.5.0",
            "_model_name": "HTMLModel",
            "_view_count": null,
            "_view_module": "@jupyter-widgets/controls",
            "_view_module_version": "1.5.0",
            "_view_name": "HTMLView",
            "description": "",
            "description_tooltip": null,
            "layout": "IPY_MODEL_36eb63448acb442b95756c4c00e6ae9c",
            "placeholder": "​",
            "style": "IPY_MODEL_2274a961a91b4ea9b18c1e46dd0cd281",
            "value": " 100/100 [00:00&lt;00:00, 310.34 examples/s]"
          }
        },
        "0f35beed8c9e43ebb54fbf962d51b1cc": {
          "model_module": "@jupyter-widgets/base",
          "model_name": "LayoutModel",
          "model_module_version": "1.2.0",
          "state": {
            "_model_module": "@jupyter-widgets/base",
            "_model_module_version": "1.2.0",
            "_model_name": "LayoutModel",
            "_view_count": null,
            "_view_module": "@jupyter-widgets/base",
            "_view_module_version": "1.2.0",
            "_view_name": "LayoutView",
            "align_content": null,
            "align_items": null,
            "align_self": null,
            "border": null,
            "bottom": null,
            "display": null,
            "flex": null,
            "flex_flow": null,
            "grid_area": null,
            "grid_auto_columns": null,
            "grid_auto_flow": null,
            "grid_auto_rows": null,
            "grid_column": null,
            "grid_gap": null,
            "grid_row": null,
            "grid_template_areas": null,
            "grid_template_columns": null,
            "grid_template_rows": null,
            "height": null,
            "justify_content": null,
            "justify_items": null,
            "left": null,
            "margin": null,
            "max_height": null,
            "max_width": null,
            "min_height": null,
            "min_width": null,
            "object_fit": null,
            "object_position": null,
            "order": null,
            "overflow": null,
            "overflow_x": null,
            "overflow_y": null,
            "padding": null,
            "right": null,
            "top": null,
            "visibility": null,
            "width": null
          }
        },
        "d2601eb1641c48b4a9dcd6300279c6b0": {
          "model_module": "@jupyter-widgets/base",
          "model_name": "LayoutModel",
          "model_module_version": "1.2.0",
          "state": {
            "_model_module": "@jupyter-widgets/base",
            "_model_module_version": "1.2.0",
            "_model_name": "LayoutModel",
            "_view_count": null,
            "_view_module": "@jupyter-widgets/base",
            "_view_module_version": "1.2.0",
            "_view_name": "LayoutView",
            "align_content": null,
            "align_items": null,
            "align_self": null,
            "border": null,
            "bottom": null,
            "display": null,
            "flex": null,
            "flex_flow": null,
            "grid_area": null,
            "grid_auto_columns": null,
            "grid_auto_flow": null,
            "grid_auto_rows": null,
            "grid_column": null,
            "grid_gap": null,
            "grid_row": null,
            "grid_template_areas": null,
            "grid_template_columns": null,
            "grid_template_rows": null,
            "height": null,
            "justify_content": null,
            "justify_items": null,
            "left": null,
            "margin": null,
            "max_height": null,
            "max_width": null,
            "min_height": null,
            "min_width": null,
            "object_fit": null,
            "object_position": null,
            "order": null,
            "overflow": null,
            "overflow_x": null,
            "overflow_y": null,
            "padding": null,
            "right": null,
            "top": null,
            "visibility": null,
            "width": null
          }
        },
        "8cff0cf0e8d7462f8a6bd31cec86b7a4": {
          "model_module": "@jupyter-widgets/controls",
          "model_name": "DescriptionStyleModel",
          "model_module_version": "1.5.0",
          "state": {
            "_model_module": "@jupyter-widgets/controls",
            "_model_module_version": "1.5.0",
            "_model_name": "DescriptionStyleModel",
            "_view_count": null,
            "_view_module": "@jupyter-widgets/base",
            "_view_module_version": "1.2.0",
            "_view_name": "StyleView",
            "description_width": ""
          }
        },
        "741a84d71e8d489b8014c0da7951db39": {
          "model_module": "@jupyter-widgets/base",
          "model_name": "LayoutModel",
          "model_module_version": "1.2.0",
          "state": {
            "_model_module": "@jupyter-widgets/base",
            "_model_module_version": "1.2.0",
            "_model_name": "LayoutModel",
            "_view_count": null,
            "_view_module": "@jupyter-widgets/base",
            "_view_module_version": "1.2.0",
            "_view_name": "LayoutView",
            "align_content": null,
            "align_items": null,
            "align_self": null,
            "border": null,
            "bottom": null,
            "display": null,
            "flex": null,
            "flex_flow": null,
            "grid_area": null,
            "grid_auto_columns": null,
            "grid_auto_flow": null,
            "grid_auto_rows": null,
            "grid_column": null,
            "grid_gap": null,
            "grid_row": null,
            "grid_template_areas": null,
            "grid_template_columns": null,
            "grid_template_rows": null,
            "height": null,
            "justify_content": null,
            "justify_items": null,
            "left": null,
            "margin": null,
            "max_height": null,
            "max_width": null,
            "min_height": null,
            "min_width": null,
            "object_fit": null,
            "object_position": null,
            "order": null,
            "overflow": null,
            "overflow_x": null,
            "overflow_y": null,
            "padding": null,
            "right": null,
            "top": null,
            "visibility": null,
            "width": null
          }
        },
        "870e12f8567d4c6ebb0191d401975635": {
          "model_module": "@jupyter-widgets/controls",
          "model_name": "ProgressStyleModel",
          "model_module_version": "1.5.0",
          "state": {
            "_model_module": "@jupyter-widgets/controls",
            "_model_module_version": "1.5.0",
            "_model_name": "ProgressStyleModel",
            "_view_count": null,
            "_view_module": "@jupyter-widgets/base",
            "_view_module_version": "1.2.0",
            "_view_name": "StyleView",
            "bar_color": null,
            "description_width": ""
          }
        },
        "36eb63448acb442b95756c4c00e6ae9c": {
          "model_module": "@jupyter-widgets/base",
          "model_name": "LayoutModel",
          "model_module_version": "1.2.0",
          "state": {
            "_model_module": "@jupyter-widgets/base",
            "_model_module_version": "1.2.0",
            "_model_name": "LayoutModel",
            "_view_count": null,
            "_view_module": "@jupyter-widgets/base",
            "_view_module_version": "1.2.0",
            "_view_name": "LayoutView",
            "align_content": null,
            "align_items": null,
            "align_self": null,
            "border": null,
            "bottom": null,
            "display": null,
            "flex": null,
            "flex_flow": null,
            "grid_area": null,
            "grid_auto_columns": null,
            "grid_auto_flow": null,
            "grid_auto_rows": null,
            "grid_column": null,
            "grid_gap": null,
            "grid_row": null,
            "grid_template_areas": null,
            "grid_template_columns": null,
            "grid_template_rows": null,
            "height": null,
            "justify_content": null,
            "justify_items": null,
            "left": null,
            "margin": null,
            "max_height": null,
            "max_width": null,
            "min_height": null,
            "min_width": null,
            "object_fit": null,
            "object_position": null,
            "order": null,
            "overflow": null,
            "overflow_x": null,
            "overflow_y": null,
            "padding": null,
            "right": null,
            "top": null,
            "visibility": null,
            "width": null
          }
        },
        "2274a961a91b4ea9b18c1e46dd0cd281": {
          "model_module": "@jupyter-widgets/controls",
          "model_name": "DescriptionStyleModel",
          "model_module_version": "1.5.0",
          "state": {
            "_model_module": "@jupyter-widgets/controls",
            "_model_module_version": "1.5.0",
            "_model_name": "DescriptionStyleModel",
            "_view_count": null,
            "_view_module": "@jupyter-widgets/base",
            "_view_module_version": "1.2.0",
            "_view_name": "StyleView",
            "description_width": ""
          }
        },
        "11a93c04b876469dafda922cf6cf02de": {
          "model_module": "@jupyter-widgets/controls",
          "model_name": "HBoxModel",
          "model_module_version": "1.5.0",
          "state": {
            "_dom_classes": [],
            "_model_module": "@jupyter-widgets/controls",
            "_model_module_version": "1.5.0",
            "_model_name": "HBoxModel",
            "_view_count": null,
            "_view_module": "@jupyter-widgets/controls",
            "_view_module_version": "1.5.0",
            "_view_name": "HBoxView",
            "box_style": "",
            "children": [
              "IPY_MODEL_7cb399a6033142428d755ad7d9035467",
              "IPY_MODEL_954bf406d7ca4b0991cf869d371d4d96",
              "IPY_MODEL_b7bded8261af4d55a1ab9095d7e3c5c5"
            ],
            "layout": "IPY_MODEL_172f3d8bac8c4081b0602057d79a5072"
          }
        },
        "7cb399a6033142428d755ad7d9035467": {
          "model_module": "@jupyter-widgets/controls",
          "model_name": "HTMLModel",
          "model_module_version": "1.5.0",
          "state": {
            "_dom_classes": [],
            "_model_module": "@jupyter-widgets/controls",
            "_model_module_version": "1.5.0",
            "_model_name": "HTMLModel",
            "_view_count": null,
            "_view_module": "@jupyter-widgets/controls",
            "_view_module_version": "1.5.0",
            "_view_name": "HTMLView",
            "description": "",
            "description_tooltip": null,
            "layout": "IPY_MODEL_ccbae0ab66354dfb88224c01b8dd9b91",
            "placeholder": "​",
            "style": "IPY_MODEL_6ab6cf6e5e53433ba27c8893f121b37a",
            "value": "model.safetensors: 100%"
          }
        },
        "954bf406d7ca4b0991cf869d371d4d96": {
          "model_module": "@jupyter-widgets/controls",
          "model_name": "FloatProgressModel",
          "model_module_version": "1.5.0",
          "state": {
            "_dom_classes": [],
            "_model_module": "@jupyter-widgets/controls",
            "_model_module_version": "1.5.0",
            "_model_name": "FloatProgressModel",
            "_view_count": null,
            "_view_module": "@jupyter-widgets/controls",
            "_view_module_version": "1.5.0",
            "_view_name": "ProgressView",
            "bar_style": "success",
            "description": "",
            "description_tooltip": null,
            "layout": "IPY_MODEL_666b7aee1c3f4a5d8721c52ee02c7c1f",
            "max": 440449768,
            "min": 0,
            "orientation": "horizontal",
            "style": "IPY_MODEL_49b10a2802394a53962a3f5845aadd79",
            "value": 440449768
          }
        },
        "b7bded8261af4d55a1ab9095d7e3c5c5": {
          "model_module": "@jupyter-widgets/controls",
          "model_name": "HTMLModel",
          "model_module_version": "1.5.0",
          "state": {
            "_dom_classes": [],
            "_model_module": "@jupyter-widgets/controls",
            "_model_module_version": "1.5.0",
            "_model_name": "HTMLModel",
            "_view_count": null,
            "_view_module": "@jupyter-widgets/controls",
            "_view_module_version": "1.5.0",
            "_view_name": "HTMLView",
            "description": "",
            "description_tooltip": null,
            "layout": "IPY_MODEL_4647e954b79547f59cbdecf687c12757",
            "placeholder": "​",
            "style": "IPY_MODEL_e7c2bc13e08441659f09e7a30615daa3",
            "value": " 440M/440M [00:05&lt;00:00, 100MB/s]"
          }
        },
        "172f3d8bac8c4081b0602057d79a5072": {
          "model_module": "@jupyter-widgets/base",
          "model_name": "LayoutModel",
          "model_module_version": "1.2.0",
          "state": {
            "_model_module": "@jupyter-widgets/base",
            "_model_module_version": "1.2.0",
            "_model_name": "LayoutModel",
            "_view_count": null,
            "_view_module": "@jupyter-widgets/base",
            "_view_module_version": "1.2.0",
            "_view_name": "LayoutView",
            "align_content": null,
            "align_items": null,
            "align_self": null,
            "border": null,
            "bottom": null,
            "display": null,
            "flex": null,
            "flex_flow": null,
            "grid_area": null,
            "grid_auto_columns": null,
            "grid_auto_flow": null,
            "grid_auto_rows": null,
            "grid_column": null,
            "grid_gap": null,
            "grid_row": null,
            "grid_template_areas": null,
            "grid_template_columns": null,
            "grid_template_rows": null,
            "height": null,
            "justify_content": null,
            "justify_items": null,
            "left": null,
            "margin": null,
            "max_height": null,
            "max_width": null,
            "min_height": null,
            "min_width": null,
            "object_fit": null,
            "object_position": null,
            "order": null,
            "overflow": null,
            "overflow_x": null,
            "overflow_y": null,
            "padding": null,
            "right": null,
            "top": null,
            "visibility": null,
            "width": null
          }
        },
        "ccbae0ab66354dfb88224c01b8dd9b91": {
          "model_module": "@jupyter-widgets/base",
          "model_name": "LayoutModel",
          "model_module_version": "1.2.0",
          "state": {
            "_model_module": "@jupyter-widgets/base",
            "_model_module_version": "1.2.0",
            "_model_name": "LayoutModel",
            "_view_count": null,
            "_view_module": "@jupyter-widgets/base",
            "_view_module_version": "1.2.0",
            "_view_name": "LayoutView",
            "align_content": null,
            "align_items": null,
            "align_self": null,
            "border": null,
            "bottom": null,
            "display": null,
            "flex": null,
            "flex_flow": null,
            "grid_area": null,
            "grid_auto_columns": null,
            "grid_auto_flow": null,
            "grid_auto_rows": null,
            "grid_column": null,
            "grid_gap": null,
            "grid_row": null,
            "grid_template_areas": null,
            "grid_template_columns": null,
            "grid_template_rows": null,
            "height": null,
            "justify_content": null,
            "justify_items": null,
            "left": null,
            "margin": null,
            "max_height": null,
            "max_width": null,
            "min_height": null,
            "min_width": null,
            "object_fit": null,
            "object_position": null,
            "order": null,
            "overflow": null,
            "overflow_x": null,
            "overflow_y": null,
            "padding": null,
            "right": null,
            "top": null,
            "visibility": null,
            "width": null
          }
        },
        "6ab6cf6e5e53433ba27c8893f121b37a": {
          "model_module": "@jupyter-widgets/controls",
          "model_name": "DescriptionStyleModel",
          "model_module_version": "1.5.0",
          "state": {
            "_model_module": "@jupyter-widgets/controls",
            "_model_module_version": "1.5.0",
            "_model_name": "DescriptionStyleModel",
            "_view_count": null,
            "_view_module": "@jupyter-widgets/base",
            "_view_module_version": "1.2.0",
            "_view_name": "StyleView",
            "description_width": ""
          }
        },
        "666b7aee1c3f4a5d8721c52ee02c7c1f": {
          "model_module": "@jupyter-widgets/base",
          "model_name": "LayoutModel",
          "model_module_version": "1.2.0",
          "state": {
            "_model_module": "@jupyter-widgets/base",
            "_model_module_version": "1.2.0",
            "_model_name": "LayoutModel",
            "_view_count": null,
            "_view_module": "@jupyter-widgets/base",
            "_view_module_version": "1.2.0",
            "_view_name": "LayoutView",
            "align_content": null,
            "align_items": null,
            "align_self": null,
            "border": null,
            "bottom": null,
            "display": null,
            "flex": null,
            "flex_flow": null,
            "grid_area": null,
            "grid_auto_columns": null,
            "grid_auto_flow": null,
            "grid_auto_rows": null,
            "grid_column": null,
            "grid_gap": null,
            "grid_row": null,
            "grid_template_areas": null,
            "grid_template_columns": null,
            "grid_template_rows": null,
            "height": null,
            "justify_content": null,
            "justify_items": null,
            "left": null,
            "margin": null,
            "max_height": null,
            "max_width": null,
            "min_height": null,
            "min_width": null,
            "object_fit": null,
            "object_position": null,
            "order": null,
            "overflow": null,
            "overflow_x": null,
            "overflow_y": null,
            "padding": null,
            "right": null,
            "top": null,
            "visibility": null,
            "width": null
          }
        },
        "49b10a2802394a53962a3f5845aadd79": {
          "model_module": "@jupyter-widgets/controls",
          "model_name": "ProgressStyleModel",
          "model_module_version": "1.5.0",
          "state": {
            "_model_module": "@jupyter-widgets/controls",
            "_model_module_version": "1.5.0",
            "_model_name": "ProgressStyleModel",
            "_view_count": null,
            "_view_module": "@jupyter-widgets/base",
            "_view_module_version": "1.2.0",
            "_view_name": "StyleView",
            "bar_color": null,
            "description_width": ""
          }
        },
        "4647e954b79547f59cbdecf687c12757": {
          "model_module": "@jupyter-widgets/base",
          "model_name": "LayoutModel",
          "model_module_version": "1.2.0",
          "state": {
            "_model_module": "@jupyter-widgets/base",
            "_model_module_version": "1.2.0",
            "_model_name": "LayoutModel",
            "_view_count": null,
            "_view_module": "@jupyter-widgets/base",
            "_view_module_version": "1.2.0",
            "_view_name": "LayoutView",
            "align_content": null,
            "align_items": null,
            "align_self": null,
            "border": null,
            "bottom": null,
            "display": null,
            "flex": null,
            "flex_flow": null,
            "grid_area": null,
            "grid_auto_columns": null,
            "grid_auto_flow": null,
            "grid_auto_rows": null,
            "grid_column": null,
            "grid_gap": null,
            "grid_row": null,
            "grid_template_areas": null,
            "grid_template_columns": null,
            "grid_template_rows": null,
            "height": null,
            "justify_content": null,
            "justify_items": null,
            "left": null,
            "margin": null,
            "max_height": null,
            "max_width": null,
            "min_height": null,
            "min_width": null,
            "object_fit": null,
            "object_position": null,
            "order": null,
            "overflow": null,
            "overflow_x": null,
            "overflow_y": null,
            "padding": null,
            "right": null,
            "top": null,
            "visibility": null,
            "width": null
          }
        },
        "e7c2bc13e08441659f09e7a30615daa3": {
          "model_module": "@jupyter-widgets/controls",
          "model_name": "DescriptionStyleModel",
          "model_module_version": "1.5.0",
          "state": {
            "_model_module": "@jupyter-widgets/controls",
            "_model_module_version": "1.5.0",
            "_model_name": "DescriptionStyleModel",
            "_view_count": null,
            "_view_module": "@jupyter-widgets/base",
            "_view_module_version": "1.2.0",
            "_view_name": "StyleView",
            "description_width": ""
          }
        }
      }
    }
  },
  "nbformat": 4,
  "nbformat_minor": 0
}