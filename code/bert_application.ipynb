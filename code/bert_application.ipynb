{
  "cells": [
    {
      "cell_type": "markdown",
      "metadata": {
        "id": "dUubYiMf8a6q"
      },
      "source": [
        "# Ứng dụng BERT: Từ Lý thuyết đến Thực hành\n",
        "\n",
        "Notebook này trình bày việc áp dụng cài đặt BERT cho bài toán phân tích cảm xúc, thông qua bốn giai đoạn chính:\n",
        "- **Giai đoạn A**: Xác minh Cài đặt BERT \"build-from-scratch\" và chạy thử\n",
        "- **Giai đoạn B**: Fine-tune mô hình BERT đã được huấn luyện trước cho bài toán phân loại cảm xúc\n",
        "- **Giai đoạn C**: Trích xuất các embedding và so sánh với TF-IDF\n",
        "- **Giai đoạn D**: Trực quan hóa các mẫu attention (attention patterns)\n",
        "\n",
        "Notebook được chạy trên [Google Colab](https://colab.research.google.com/drive/1VOJh1axPEoq-bhXwFVajEl-s4PFzH5tL?usp=sharing) (bấm vào để vào truy cập)"
      ]
    },
    {
      "cell_type": "markdown",
      "metadata": {
        "id": "01eperbF8a6t"
      },
      "source": [
        "## Cài đặt và Thư viện"
      ]
    },
    {
      "cell_type": "code",
      "source": [
        "!pip install --upgrade datasets fsspec"
      ],
      "metadata": {
        "collapsed": true,
        "id": "4EDdkyCi87bg",
        "colab": {
          "base_uri": "https://localhost:8080/"
        },
        "outputId": "eb545862-5852-4fc6-d29a-416d56e3260d"
      },
      "execution_count": null,
      "outputs": [
        {
          "output_type": "stream",
          "name": "stdout",
          "text": [
            "Requirement already satisfied: datasets in /usr/local/lib/python3.11/dist-packages (2.14.4)\n",
            "Collecting datasets\n",
            "  Downloading datasets-3.6.0-py3-none-any.whl.metadata (19 kB)\n",
            "Requirement already satisfied: fsspec in /usr/local/lib/python3.11/dist-packages (2025.3.2)\n",
            "Collecting fsspec\n",
            "  Downloading fsspec-2025.5.1-py3-none-any.whl.metadata (11 kB)\n",
            "Requirement already satisfied: filelock in /usr/local/lib/python3.11/dist-packages (from datasets) (3.18.0)\n",
            "Requirement already satisfied: numpy>=1.17 in /usr/local/lib/python3.11/dist-packages (from datasets) (2.0.2)\n",
            "Requirement already satisfied: pyarrow>=15.0.0 in /usr/local/lib/python3.11/dist-packages (from datasets) (18.1.0)\n",
            "Requirement already satisfied: dill<0.3.9,>=0.3.0 in /usr/local/lib/python3.11/dist-packages (from datasets) (0.3.7)\n",
            "Requirement already satisfied: pandas in /usr/local/lib/python3.11/dist-packages (from datasets) (2.2.2)\n",
            "Requirement already satisfied: requests>=2.32.2 in /usr/local/lib/python3.11/dist-packages (from datasets) (2.32.3)\n",
            "Requirement already satisfied: tqdm>=4.66.3 in /usr/local/lib/python3.11/dist-packages (from datasets) (4.67.1)\n",
            "Requirement already satisfied: xxhash in /usr/local/lib/python3.11/dist-packages (from datasets) (3.5.0)\n",
            "Requirement already satisfied: multiprocess<0.70.17 in /usr/local/lib/python3.11/dist-packages (from datasets) (0.70.15)\n",
            "  Downloading fsspec-2025.3.0-py3-none-any.whl.metadata (11 kB)\n",
            "Requirement already satisfied: huggingface-hub>=0.24.0 in /usr/local/lib/python3.11/dist-packages (from datasets) (0.32.4)\n",
            "Requirement already satisfied: packaging in /usr/local/lib/python3.11/dist-packages (from datasets) (24.2)\n",
            "Requirement already satisfied: pyyaml>=5.1 in /usr/local/lib/python3.11/dist-packages (from datasets) (6.0.2)\n",
            "Requirement already satisfied: aiohttp!=4.0.0a0,!=4.0.0a1 in /usr/local/lib/python3.11/dist-packages (from fsspec[http]<=2025.3.0,>=2023.1.0->datasets) (3.11.15)\n",
            "Requirement already satisfied: typing-extensions>=3.7.4.3 in /usr/local/lib/python3.11/dist-packages (from huggingface-hub>=0.24.0->datasets) (4.14.0)\n",
            "Requirement already satisfied: hf-xet<2.0.0,>=1.1.2 in /usr/local/lib/python3.11/dist-packages (from huggingface-hub>=0.24.0->datasets) (1.1.2)\n",
            "Requirement already satisfied: charset-normalizer<4,>=2 in /usr/local/lib/python3.11/dist-packages (from requests>=2.32.2->datasets) (3.4.2)\n",
            "Requirement already satisfied: idna<4,>=2.5 in /usr/local/lib/python3.11/dist-packages (from requests>=2.32.2->datasets) (3.10)\n",
            "Requirement already satisfied: urllib3<3,>=1.21.1 in /usr/local/lib/python3.11/dist-packages (from requests>=2.32.2->datasets) (2.4.0)\n",
            "Requirement already satisfied: certifi>=2017.4.17 in /usr/local/lib/python3.11/dist-packages (from requests>=2.32.2->datasets) (2025.4.26)\n",
            "Requirement already satisfied: python-dateutil>=2.8.2 in /usr/local/lib/python3.11/dist-packages (from pandas->datasets) (2.9.0.post0)\n",
            "Requirement already satisfied: pytz>=2020.1 in /usr/local/lib/python3.11/dist-packages (from pandas->datasets) (2025.2)\n",
            "Requirement already satisfied: tzdata>=2022.7 in /usr/local/lib/python3.11/dist-packages (from pandas->datasets) (2025.2)\n",
            "Requirement already satisfied: aiohappyeyeballs>=2.3.0 in /usr/local/lib/python3.11/dist-packages (from aiohttp!=4.0.0a0,!=4.0.0a1->fsspec[http]<=2025.3.0,>=2023.1.0->datasets) (2.6.1)\n",
            "Requirement already satisfied: aiosignal>=1.1.2 in /usr/local/lib/python3.11/dist-packages (from aiohttp!=4.0.0a0,!=4.0.0a1->fsspec[http]<=2025.3.0,>=2023.1.0->datasets) (1.3.2)\n",
            "Requirement already satisfied: attrs>=17.3.0 in /usr/local/lib/python3.11/dist-packages (from aiohttp!=4.0.0a0,!=4.0.0a1->fsspec[http]<=2025.3.0,>=2023.1.0->datasets) (25.3.0)\n",
            "Requirement already satisfied: frozenlist>=1.1.1 in /usr/local/lib/python3.11/dist-packages (from aiohttp!=4.0.0a0,!=4.0.0a1->fsspec[http]<=2025.3.0,>=2023.1.0->datasets) (1.6.0)\n",
            "Requirement already satisfied: multidict<7.0,>=4.5 in /usr/local/lib/python3.11/dist-packages (from aiohttp!=4.0.0a0,!=4.0.0a1->fsspec[http]<=2025.3.0,>=2023.1.0->datasets) (6.4.4)\n",
            "Requirement already satisfied: propcache>=0.2.0 in /usr/local/lib/python3.11/dist-packages (from aiohttp!=4.0.0a0,!=4.0.0a1->fsspec[http]<=2025.3.0,>=2023.1.0->datasets) (0.3.1)\n",
            "Requirement already satisfied: yarl<2.0,>=1.17.0 in /usr/local/lib/python3.11/dist-packages (from aiohttp!=4.0.0a0,!=4.0.0a1->fsspec[http]<=2025.3.0,>=2023.1.0->datasets) (1.20.0)\n",
            "Requirement already satisfied: six>=1.5 in /usr/local/lib/python3.11/dist-packages (from python-dateutil>=2.8.2->pandas->datasets) (1.17.0)\n",
            "Downloading datasets-3.6.0-py3-none-any.whl (491 kB)\n",
            "\u001b[2K   \u001b[90m━━━━━━━━━━━━━━━━━━━━━━━━━━━━━━━━━━━━━━━━\u001b[0m \u001b[32m491.5/491.5 kB\u001b[0m \u001b[31m33.0 MB/s\u001b[0m eta \u001b[36m0:00:00\u001b[0m\n",
            "\u001b[?25hDownloading fsspec-2025.3.0-py3-none-any.whl (193 kB)\n",
            "\u001b[2K   \u001b[90m━━━━━━━━━━━━━━━━━━━━━━━━━━━━━━━━━━━━━━━━\u001b[0m \u001b[32m193.6/193.6 kB\u001b[0m \u001b[31m18.9 MB/s\u001b[0m eta \u001b[36m0:00:00\u001b[0m\n",
            "\u001b[?25hInstalling collected packages: fsspec, datasets\n",
            "  Attempting uninstall: fsspec\n",
            "    Found existing installation: fsspec 2025.3.2\n",
            "    Uninstalling fsspec-2025.3.2:\n",
            "      Successfully uninstalled fsspec-2025.3.2\n",
            "  Attempting uninstall: datasets\n",
            "    Found existing installation: datasets 2.14.4\n",
            "    Uninstalling datasets-2.14.4:\n",
            "      Successfully uninstalled datasets-2.14.4\n",
            "\u001b[31mERROR: pip's dependency resolver does not currently take into account all the packages that are installed. This behaviour is the source of the following dependency conflicts.\n",
            "gcsfs 2025.3.2 requires fsspec==2025.3.2, but you have fsspec 2025.3.0 which is incompatible.\n",
            "torch 2.6.0+cu124 requires nvidia-cublas-cu12==12.4.5.8; platform_system == \"Linux\" and platform_machine == \"x86_64\", but you have nvidia-cublas-cu12 12.5.3.2 which is incompatible.\n",
            "torch 2.6.0+cu124 requires nvidia-cuda-cupti-cu12==12.4.127; platform_system == \"Linux\" and platform_machine == \"x86_64\", but you have nvidia-cuda-cupti-cu12 12.5.82 which is incompatible.\n",
            "torch 2.6.0+cu124 requires nvidia-cuda-nvrtc-cu12==12.4.127; platform_system == \"Linux\" and platform_machine == \"x86_64\", but you have nvidia-cuda-nvrtc-cu12 12.5.82 which is incompatible.\n",
            "torch 2.6.0+cu124 requires nvidia-cuda-runtime-cu12==12.4.127; platform_system == \"Linux\" and platform_machine == \"x86_64\", but you have nvidia-cuda-runtime-cu12 12.5.82 which is incompatible.\n",
            "torch 2.6.0+cu124 requires nvidia-cudnn-cu12==9.1.0.70; platform_system == \"Linux\" and platform_machine == \"x86_64\", but you have nvidia-cudnn-cu12 9.3.0.75 which is incompatible.\n",
            "torch 2.6.0+cu124 requires nvidia-cufft-cu12==11.2.1.3; platform_system == \"Linux\" and platform_machine == \"x86_64\", but you have nvidia-cufft-cu12 11.2.3.61 which is incompatible.\n",
            "torch 2.6.0+cu124 requires nvidia-curand-cu12==10.3.5.147; platform_system == \"Linux\" and platform_machine == \"x86_64\", but you have nvidia-curand-cu12 10.3.6.82 which is incompatible.\n",
            "torch 2.6.0+cu124 requires nvidia-cusolver-cu12==11.6.1.9; platform_system == \"Linux\" and platform_machine == \"x86_64\", but you have nvidia-cusolver-cu12 11.6.3.83 which is incompatible.\n",
            "torch 2.6.0+cu124 requires nvidia-cusparse-cu12==12.3.1.170; platform_system == \"Linux\" and platform_machine == \"x86_64\", but you have nvidia-cusparse-cu12 12.5.1.3 which is incompatible.\n",
            "torch 2.6.0+cu124 requires nvidia-nvjitlink-cu12==12.4.127; platform_system == \"Linux\" and platform_machine == \"x86_64\", but you have nvidia-nvjitlink-cu12 12.5.82 which is incompatible.\u001b[0m\u001b[31m\n",
            "\u001b[0mSuccessfully installed datasets-3.6.0 fsspec-2025.3.0\n"
          ]
        }
      ]
    },
    {
      "cell_type": "code",
      "execution_count": null,
      "metadata": {
        "id": "-kIhTCE28a6t",
        "colab": {
          "base_uri": "https://localhost:8080/"
        },
        "outputId": "f0cf7f2c-6848-44bb-91d4-b6626328fe7d"
      },
      "outputs": [
        {
          "output_type": "stream",
          "name": "stdout",
          "text": [
            "Sử dụng thiết bị: cuda\n"
          ]
        }
      ],
      "source": [
        "# Các thư viện chuẩn\n",
        "import torch\n",
        "import torch.nn as nn\n",
        "from torch.utils.data import DataLoader, Dataset\n",
        "import numpy as np\n",
        "import matplotlib.pyplot as plt\n",
        "import seaborn as sns\n",
        "from tqdm import tqdm\n",
        "import time\n",
        "import os\n",
        "\n",
        "# Thư viện Transformers cho các mô hình pre-trained\n",
        "from transformers import (\n",
        "    BertTokenizer,\n",
        "    BertModel,\n",
        "    BertForSequenceClassification,\n",
        "    Trainer,\n",
        "    TrainingArguments,\n",
        "    set_seed\n",
        ")\n",
        "\n",
        "# Để xử lý tập dữ liệu\n",
        "from datasets import load_dataset\n",
        "import re\n",
        "from bs4 import BeautifulSoup\n",
        "\n",
        "# Để so sánh với các mô hình ML truyền thống\n",
        "from sklearn.model_selection import train_test_split\n",
        "from sklearn.metrics import accuracy_score, classification_report, confusion_matrix\n",
        "from sklearn.linear_model import LogisticRegression\n",
        "from sklearn.feature_extraction.text import TfidfVectorizer\n",
        "\n",
        "# \"build-from-scratch\" BERT\n",
        "from bert import (\n",
        "    BertConfig,\n",
        "    BertModel as CustomBertModel,\n",
        "    BertForPreTraining,\n",
        "    BertForSequenceClassification as CustomBertForSequenceClassification,\n",
        "    BertDataset,\n",
        "    BertTrainer,\n",
        "    test_attention_mechanism,\n",
        "    test_bert_model,\n",
        "    quick_demo\n",
        ")\n",
        "\n",
        "# Đặt seed ngẫu nhiên để đảm bảo kết quả có thể lặp lại\n",
        "set_seed(42)\n",
        "torch.manual_seed(42)\n",
        "np.random.seed(42)\n",
        "\n",
        "# Cấu hình thiết bị (CPU/GPU)\n",
        "device = torch.device('cuda' if torch.cuda.is_available() else 'cpu')\n",
        "print(f\"Sử dụng thiết bị: {device}\")"
      ]
    },
    {
      "cell_type": "markdown",
      "metadata": {
        "id": "shK67NLV8a6v"
      },
      "source": [
        "## Giai đoạn A: Xác minh Cài đặt BERT \"build-from-scratch\" và chạy thử"
      ]
    },
    {
      "cell_type": "markdown",
      "source": [
        "### A.1 Kiểm tra các Thành phần Cơ bản"
      ],
      "metadata": {
        "id": "x5b5JvyZjRAs"
      }
    },
    {
      "cell_type": "code",
      "execution_count": null,
      "metadata": {
        "id": "AugbvjYD8a6v",
        "colab": {
          "base_uri": "https://localhost:8080/"
        },
        "outputId": "04848cec-2ddb-43a1-acae-6f473a6a768c"
      },
      "outputs": [
        {
          "output_type": "stream",
          "name": "stdout",
          "text": [
            "Đang kiểm tra Cơ chế Attention...\n",
            "Kiểm tra cơ chế Attention...\n",
            "Kích thước đầu vào: torch.Size([2, 5, 64])\n",
            "Kích thước đầu ra: torch.Size([2, 5, 64])\n",
            "✓ Kiểm tra cơ chế attention thành công!\n",
            "\n",
            "==================================================\n",
            "\n",
            "Đang kiểm tra Mô hình BERT \"build-from-scratch\"...\n",
            "Kiểm tra mô hình BERT...\n",
            "Loss: 7.5778\n",
            "Kích thước logits MLM: torch.Size([4, 20, 1000])\n",
            "Kích thước logits NSP: torch.Size([4, 2])\n",
            "✓ Kiểm tra mô hình BERT thành công!\n"
          ]
        }
      ],
      "source": [
        "# Kiểm tra cơ chế attention\n",
        "print(\"Đang kiểm tra Cơ chế Attention...\")\n",
        "test_attention_mechanism()\n",
        "\n",
        "print(\"\\n\" + \"=\"*50 + \"\\n\")\n",
        "\n",
        "# Kiểm tra mô hình BERT\n",
        "print(\"Đang kiểm tra Mô hình BERT \\\"build-from-scratch\\\"...\")\n",
        "test_bert_model()"
      ]
    },
    {
      "cell_type": "markdown",
      "source": [
        "### A.2 Mô phỏng huấn luyện mô hình BERT \"build-from-scratch\" và Test Dự đoán [MASK]"
      ],
      "metadata": {
        "id": "YFeUCz_dVBv_"
      }
    },
    {
      "cell_type": "code",
      "source": [
        "device_tmp =  torch.device('cuda' if torch.cuda.is_available() else 'cpu')\n",
        "input_sentence = \"BERT is a [MASK].\"\n",
        "\n",
        "quick_demo(device=device_tmp, input_sentence=input_sentence)"
      ],
      "metadata": {
        "colab": {
          "base_uri": "https://localhost:8080/",
          "height": 1000,
          "referenced_widgets": [
            "693f8e82ad074a46bbb53c1188b991d0",
            "04ffe2c482e24dcd92df4f06095fdbee",
            "54c6c6a89ad641159d82b521ac63809b",
            "077abf2a25724ea793cab7ad605f0d27",
            "3f47361920dd4ddc9c7e3244af5dd7ff",
            "f74b52558ee14e21a2e558a4184492cb",
            "bdc1e5d389e944d082bb1b79fa933154",
            "b943d104f9614b6b859506fef31765af",
            "49b9c7eb8d784b7ca165786d5a2db670",
            "239a8ee288574590bd5b6d686a652e47",
            "6674a88a5f3a4422a1dde5f34bfcd01e",
            "567cd07d17fb49b9b3dfa5ca293ffaf1",
            "f076e5bcac3747fa99eaea983b6b8ee0",
            "2054a2fdfd69449c896b14d24e15c815",
            "6fae036b21ae4f288d48864e1f86da36",
            "7efd7c1439c64c17b5a642fae8a887e5",
            "fb14d5ad074c4ef080e2379af75ee8f1",
            "fa6b5cc5e98b4143bef3b81269065aa3",
            "0f9ad6f85da248d794679160b31611f7",
            "9e72ddb0b63c40e6b6526db5b972b127",
            "114a667d3e3d40e682825abc6a27d6cf",
            "2db83f6cd5ff45848b457bb954bc2f12",
            "e255fb514c6b4ed1ad6374fe6ea347da",
            "0b632a0bb5ed40a69b23d72a78365bba",
            "d5b1a4e56b1c413cb4486b94847fbbce",
            "242eb02eb6754f629a4680d3f7783ddd",
            "94bd2b0823ac4d7996cf0eb9b5192ffd",
            "cd441c420bae439e84a641a8ee15689e",
            "5bb73eb27e5d4096ae7785abd4d3a296",
            "61eb6cefde4a485e80cc3d40940f0955",
            "964f6fb31a2947a4899d9a87cd701f7e",
            "bfda865e5e224835af9b88515f93d213",
            "886a116a79034256928caf709a5f3f68",
            "5f0e1cdf905a49669646a4dcaf3cd425",
            "fe9ed661052a4e7da4dcba12b7698e4b",
            "b5828ed524d44e8f862bfc6d024b6205",
            "1451fcd2c8dc4bcbbd60bbc797f2dbc1",
            "f3660a956f9f43b19d425bce262f210c",
            "e49c63ae315e4d5b84f6628c6364fc9b",
            "84241e3ed1534cde96e6753e05d59e45",
            "2359569b28d1411ab9200781138b9cf3",
            "6bf4279f35f24d4086c65eb5f26433ed",
            "a0373f15c442459c83986aa8728ef036",
            "f7138d9986e4446c89a51d6af09f2373"
          ]
        },
        "id": "f5J1Gw_pVRy7",
        "outputId": "d24f7d87-e7e6-49fd-a5cb-1c7448047d29"
      },
      "execution_count": null,
      "outputs": [
        {
          "output_type": "stream",
          "name": "stdout",
          "text": [
            "==================================================\n",
            "Bắt đầu minh họa huấn luyện nhỏ...\n",
            "==================================================\n",
            "\n",
            "Sử dụng thiết bị: cuda\n",
            "\n",
            "1. Khởi tạo Tokenizer...\n"
          ]
        },
        {
          "output_type": "stream",
          "name": "stderr",
          "text": [
            "/usr/local/lib/python3.11/dist-packages/huggingface_hub/utils/_auth.py:94: UserWarning: \n",
            "The secret `HF_TOKEN` does not exist in your Colab secrets.\n",
            "To authenticate with the Hugging Face Hub, create a token in your settings tab (https://huggingface.co/settings/tokens), set it as secret in your Google Colab and restart your session.\n",
            "You will be able to reuse this secret in all of your notebooks.\n",
            "Please note that authentication is recommended but still optional to access public models or datasets.\n",
            "  warnings.warn(\n"
          ]
        },
        {
          "output_type": "display_data",
          "data": {
            "text/plain": [
              "tokenizer_config.json:   0%|          | 0.00/48.0 [00:00<?, ?B/s]"
            ],
            "application/vnd.jupyter.widget-view+json": {
              "version_major": 2,
              "version_minor": 0,
              "model_id": "693f8e82ad074a46bbb53c1188b991d0"
            }
          },
          "metadata": {}
        },
        {
          "output_type": "display_data",
          "data": {
            "text/plain": [
              "vocab.txt:   0%|          | 0.00/232k [00:00<?, ?B/s]"
            ],
            "application/vnd.jupyter.widget-view+json": {
              "version_major": 2,
              "version_minor": 0,
              "model_id": "567cd07d17fb49b9b3dfa5ca293ffaf1"
            }
          },
          "metadata": {}
        },
        {
          "output_type": "display_data",
          "data": {
            "text/plain": [
              "tokenizer.json:   0%|          | 0.00/466k [00:00<?, ?B/s]"
            ],
            "application/vnd.jupyter.widget-view+json": {
              "version_major": 2,
              "version_minor": 0,
              "model_id": "e255fb514c6b4ed1ad6374fe6ea347da"
            }
          },
          "metadata": {}
        },
        {
          "output_type": "display_data",
          "data": {
            "text/plain": [
              "config.json:   0%|          | 0.00/570 [00:00<?, ?B/s]"
            ],
            "application/vnd.jupyter.widget-view+json": {
              "version_major": 2,
              "version_minor": 0,
              "model_id": "5f0e1cdf905a49669646a4dcaf3cd425"
            }
          },
          "metadata": {}
        },
        {
          "output_type": "stream",
          "name": "stdout",
          "text": [
            "\n",
            "\n",
            "\n",
            "2. Tạo dữ liệu giả...\n",
            "Tổng số câu mẫu: 10\n",
            "\n",
            "\n",
            "\n",
            "3. Tạo Dataset và DataLoader...\n",
            "Tổng số mẫu trong Dataset: 100\n",
            "Số lượng batch trong DataLoader: 50\n",
            "\n",
            "\n",
            "\n",
            "4. Khởi tạo mô hình BERT...\n",
            "Cấu hình mô hình: BertConfig(vocab_size=30522, hidden_size=256, num_hidden_layers=4, num_attention_heads=4, intermediate_size=1024, hidden_dropout_prob=0.1, attention_probs_dropout_prob=0.1, max_position_embeddings=64, type_vocab_size=2, initializer_range=0.02, layer_norm_eps=1e-12)\n",
            "Kích thước mô hình: 11150140 parameters\n",
            "\n",
            "\n",
            "\n",
            "5. Khởi tạo Trainer...\n",
            "Thiết bị huấn luyện: cuda\n",
            "\n",
            "\n",
            "\n",
            "6. Bắt đầu huấn luyện mô hình...\n",
            "Bắt đầu huấn luyện 3 epochs trên thiết bị: cuda\n",
            "==================================================\n",
            "Epoch 1/3\n",
            "==================================================\n"
          ]
        },
        {
          "output_type": "stream",
          "name": "stderr",
          "text": [
            "Đang huấn luyện: 100%|██████████| 50/50 [00:02<00:00, 20.28it/s, loss=11.1967, lr=2.50e-05]\n"
          ]
        },
        {
          "output_type": "stream",
          "name": "stdout",
          "text": [
            "\n",
            "Kết quả huấn luyện: Loss=10.9343, MLM Loss=10.3650, NSP Loss=0.5693\n",
            "==================================================\n",
            "Epoch 2/3\n",
            "==================================================\n"
          ]
        },
        {
          "output_type": "stream",
          "name": "stderr",
          "text": [
            "Đang huấn luyện: 100%|██████████| 50/50 [00:01<00:00, 26.94it/s, loss=10.7311, lr=5.00e-05]\n"
          ]
        },
        {
          "output_type": "stream",
          "name": "stdout",
          "text": [
            "\n",
            "Kết quả huấn luyện: Loss=10.6130, MLM Loss=10.1227, NSP Loss=0.4903\n",
            "==================================================\n",
            "Epoch 3/3\n",
            "==================================================\n"
          ]
        },
        {
          "output_type": "stream",
          "name": "stderr",
          "text": [
            "Đang huấn luyện: 100%|██████████| 50/50 [00:01<00:00, 31.39it/s, loss=10.5599, lr=4.37e-05]\n"
          ]
        },
        {
          "output_type": "stream",
          "name": "stdout",
          "text": [
            "\n",
            "Kết quả huấn luyện: Loss=10.3015, MLM Loss=9.5975, NSP Loss=0.7040\n",
            "Huấn luyện hoàn thành!\n",
            "\n",
            "\n",
            "\n",
            "7. Vẽ biểu đồ lịch sử huấn luyện...\n"
          ]
        },
        {
          "output_type": "display_data",
          "data": {
            "text/plain": [
              "<Figure size 1200x400 with 2 Axes>"
            ],
            "image/png": "[encoded data removed]"
          },
          "metadata": {}
        },
        {
          "output_type": "stream",
          "name": "stdout",
          "text": [
            "\n",
            "\n",
            "\n",
            "8. Testing...\n",
            "Câu mẫu cần dự đoán: BERT is a [MASK].\n",
            "\n",
            "Top 5 dự đoán cho [MASK]:\n",
            "- -: score=1.4201\n",
            "- a: score=1.0431\n",
            "- ##m: score=0.9195\n",
            "- by: score=0.8634\n",
            "- language: score=0.8590\n",
            "\n",
            "Visualize trọng số attention...\n"
          ]
        },
        {
          "output_type": "display_data",
          "data": {
            "text/plain": [
              "<Figure size 1000x800 with 2 Axes>"
            ],
            "image/png": "[encoded data removed]"
          },
          "metadata": {}
        },
        {
          "output_type": "stream",
          "name": "stdout",
          "text": [
            "\n",
            "\n",
            "\n",
            "✓ Ví dụ huấn luyện nhỏ hoàn thành.\n"
          ]
        }
      ]
    },
    {
      "cell_type": "markdown",
      "metadata": {
        "id": "XMWB-zvC8a6w"
      },
      "source": [
        "### A.3 Mô phỏng Pre-training trên Quy mô Nhỏ"
      ]
    },
    {
      "cell_type": "code",
      "execution_count": null,
      "metadata": {
        "id": "dTyHQQsz8a6w",
        "colab": {
          "base_uri": "https://localhost:8080/"
        },
        "outputId": "9d19bbfc-9558-424c-80ae-220d7b4e373b"
      },
      "outputs": [
        {
          "output_type": "stream",
          "name": "stdout",
          "text": [
            "Mô hình BERT tùy chỉnh được khởi tạo với:\n",
            "  Kích thước layer ẩn: 128\n",
            "  Số layer ẩn: 2\n",
            "  Số attention head: 4\n",
            "  Tổng số tham số: 4,383,548\n"
          ]
        }
      ],
      "source": [
        "# Tạo một cấu hình BERT tùy chỉnh nhỏ\n",
        "small_config = BertConfig(\n",
        "    vocab_size=30522,  # Kích thước từ vựng chuẩn của BERT\n",
        "    hidden_size=128,   # Kích thước nhỏ hơn để minh họa\n",
        "    num_hidden_layers=2,\n",
        "    num_attention_heads=4,\n",
        "    intermediate_size=512,\n",
        "    max_position_embeddings=128\n",
        ")\n",
        "\n",
        "# Khởi tạo mô hình\n",
        "custom_model = BertForPreTraining(small_config)\n",
        "custom_model = custom_model.to(device)\n",
        "\n",
        "print(f\"Mô hình BERT tùy chỉnh được khởi tạo với:\")\n",
        "print(f\"  Kích thước layer ẩn: {small_config.hidden_size}\")\n",
        "print(f\"  Số layer ẩn: {small_config.num_hidden_layers}\")\n",
        "print(f\"  Số attention head: {small_config.num_attention_heads}\")\n",
        "print(f\"  Tổng số tham số: {sum(p.numel() for p in custom_model.parameters()):,}\")"
      ]
    },
    {
      "cell_type": "code",
      "execution_count": null,
      "metadata": {
        "id": "RlKCKdPg8a6w",
        "colab": {
          "base_uri": "https://localhost:8080/"
        },
        "outputId": "fa05266a-e525-4830-d5ec-dcec3a6b993c"
      },
      "outputs": [
        {
          "output_type": "stream",
          "name": "stdout",
          "text": [
            "\n",
            "Đang chạy 1 epoch mô phỏng pre-training...\n"
          ]
        },
        {
          "output_type": "stream",
          "name": "stderr",
          "text": [
            "Đang huấn luyện: 100%|██████████| 25/25 [00:00<00:00, 64.37it/s, loss=10.5316, lr=9.38e-05]"
          ]
        },
        {
          "output_type": "stream",
          "name": "stdout",
          "text": [
            "\n",
            "Mô phỏng pre-training hoàn thành trong 0.39 giây\n",
            "Loss trung bình: 10.8799\n",
            "Loss MLM: 10.3091\n",
            "Loss NSP: 0.5708\n"
          ]
        },
        {
          "output_type": "stream",
          "name": "stderr",
          "text": [
            "\n"
          ]
        }
      ],
      "source": [
        "# Mô phỏng pre-training với một tập dữ liệu nhỏ\n",
        "sample_texts = [\n",
        "    \"BERT uses bidirectional context to understand language.\",\n",
        "    \"Machine learning models can learn from data.\",\n",
        "    \"Natural language processing is fascinating.\",\n",
        "    \"Transformers revolutionized NLP research.\",\n",
        "    \"Attention mechanisms capture dependencies.\"\n",
        "]\n",
        "\n",
        "# Tạo tokenizer và dataset\n",
        "tokenizer = BertTokenizer.from_pretrained(\"bert-base-uncased\")\n",
        "dataset = BertDataset(\n",
        "    texts=sample_texts,\n",
        "    tokenizer=tokenizer,\n",
        "    max_length=32,\n",
        "    mlm_probability=0.15\n",
        ")\n",
        "\n",
        "# Tạo dataloader\n",
        "dataloader = DataLoader(dataset, batch_size=2, shuffle=True)\n",
        "\n",
        "# Tạo trainer\n",
        "trainer = BertTrainer(\n",
        "    model=custom_model,\n",
        "    train_dataloader=dataloader,\n",
        "    learning_rate=1e-4,\n",
        "    warmup_steps=10,\n",
        "    device=device\n",
        ")\n",
        "\n",
        "# Huấn luyện trong một epoch\n",
        "print(\"\\nĐang chạy 1 epoch mô phỏng pre-training...\")\n",
        "start_time = time.time()\n",
        "metrics = trainer.train_epoch()\n",
        "end_time = time.time()\n",
        "\n",
        "print(f\"\\nMô phỏng pre-training hoàn thành trong {end_time - start_time:.2f} giây\")\n",
        "print(f\"Loss trung bình: {metrics['loss']:.4f}\")\n",
        "print(f\"Loss MLM: {metrics['mlm_loss']:.4f}\")\n",
        "print(f\"Loss NSP: {metrics['nsp_loss']:.4f}\")"
      ]
    },
    {
      "cell_type": "markdown",
      "metadata": {
        "id": "hamixp538a6w"
      },
      "source": [
        "## Giai đoạn B: Tinh chỉnh (Fine-tune) BERT đã được huấn luyện trước cho Phân loại Cảm xúc\n"
      ]
    },
    {
      "cell_type": "markdown",
      "source": [
        "### B.1 Tải và Chuẩn bị Tập dữ liệu IMDb"
      ],
      "metadata": {
        "id": "Pbdvfp07jUDF"
      }
    },
    {
      "cell_type": "code",
      "source": [
        "!rm -rf ~/.cache/huggingface/datasets"
      ],
      "metadata": {
        "id": "w2KCaSgL-Vvj"
      },
      "execution_count": null,
      "outputs": []
    },
    {
      "cell_type": "code",
      "execution_count": null,
      "metadata": {
        "id": "XE5BM7rc8a6x",
        "colab": {
          "base_uri": "https://localhost:8080/",
          "height": 222,
          "referenced_widgets": [
            "b4579411cf1543ce87027b47c48d5010",
            "bcd3f60c43154ccfa2e7ede7cee2a540",
            "00c59902be984740963916f6701a3b02",
            "af476776f33b46a7b2806ea08f5c11dc",
            "0305aa860d8841edafebecc57e8d8c3c",
            "5c4c4137c178462f8f1afeb10f0ba8c9",
            "a4336596e2cc47218e43fbe4a2008e57",
            "79b88702d7274944930bb492d24795b8",
            "6d1f4d7958aa4da193532d72cb2eadbf",
            "7432720c6a1846e3aba4d84419da45cd",
            "c2c72b23ea3c4ee2b6d5f5ecfd04c522",
            "3cee401db8e549299078b48c6bec88e3",
            "4c329a8c386642ec9dc988f838a90ed4",
            "fe9dd2e4b64f4c5fa3895afb917870e9",
            "2b5b08a66dbe4857a96f6073b80de5c3",
            "b28f3b67cd8e46619d3b83cdc0bce250",
            "ea825e92eeb945d689edbc69f72ee872",
            "bc1644c1080f4941ae665a615eb09de7",
            "52828a14068e47e2b1b21890e9956401",
            "f277b1cbe61f422ebd39fb9737361952",
            "803396ef0abe4d309db666992c90e80c",
            "e8dc965860054bb0aa94a06325e2bf89",
            "080454586a04486d8b09be85460c307a",
            "3b93d7b280a64565a07772047b863e6e",
            "29873537221c4482995d52fdbc5e6a18",
            "c95fef2e9d934d66b619a2835ae46297",
            "522f6e4702e940e6bed2f5538f26ec3f",
            "8ee25fe4838a488bac8204e179759774",
            "b03301a291df48ae8823a5281a948912",
            "aae26fa2b7ed4c61a93f8c6347c921c9",
            "772e3f93cb684ccc86feda646c1a5992",
            "c451d7dba86243beb14d5d2fad685d58",
            "374c5251285a47eb89ad36332fe62234"
          ]
        },
        "outputId": "9035ebdb-91c3-4ce3-aacf-0a5f130b9e69"
      },
      "outputs": [
        {
          "output_type": "stream",
          "name": "stderr",
          "text": [
            "/usr/local/lib/python3.11/dist-packages/huggingface_hub/utils/_auth.py:94: UserWarning: \n",
            "The secret `HF_TOKEN` does not exist in your Colab secrets.\n",
            "To authenticate with the Hugging Face Hub, create a token in your settings tab (https://huggingface.co/settings/tokens), set it as secret in your Google Colab and restart your session.\n",
            "You will be able to reuse this secret in all of your notebooks.\n",
            "Please note that authentication is recommended but still optional to access public models or datasets.\n",
            "  warnings.warn(\n"
          ]
        },
        {
          "output_type": "display_data",
          "data": {
            "text/plain": [
              "Map:   0%|          | 0/25000 [00:00<?, ? examples/s]"
            ],
            "application/vnd.jupyter.widget-view+json": {
              "version_major": 2,
              "version_minor": 0,
              "model_id": "b4579411cf1543ce87027b47c48d5010"
            }
          },
          "metadata": {}
        },
        {
          "output_type": "display_data",
          "data": {
            "text/plain": [
              "Map:   0%|          | 0/25000 [00:00<?, ? examples/s]"
            ],
            "application/vnd.jupyter.widget-view+json": {
              "version_major": 2,
              "version_minor": 0,
              "model_id": "3cee401db8e549299078b48c6bec88e3"
            }
          },
          "metadata": {}
        },
        {
          "output_type": "display_data",
          "data": {
            "text/plain": [
              "Map:   0%|          | 0/50000 [00:00<?, ? examples/s]"
            ],
            "application/vnd.jupyter.widget-view+json": {
              "version_major": 2,
              "version_minor": 0,
              "model_id": "080454586a04486d8b09be85460c307a"
            }
          },
          "metadata": {}
        }
      ],
      "source": [
        "# Full IMDB dataset loading\n",
        "from datasets import load_dataset\n",
        "import re\n",
        "from bs4 import BeautifulSoup\n",
        "\n",
        "# Load full IMDB dataset\n",
        "dataset = load_dataset('imdb')\n",
        "\n",
        "# Preprocessing function\n",
        "def preprocess_text(text):\n",
        "    # Remove HTML tags\n",
        "    text = BeautifulSoup(text, \"html.parser\").get_text()\n",
        "    # Remove extra whitespace\n",
        "    text = re.sub(r'\\s+', ' ', text).strip()\n",
        "    # Optional: lowercase (comment out if you want to preserve case)\n",
        "    # text = text.lower()\n",
        "    return text\n",
        "\n",
        "# Apply preprocessing\n",
        "dataset = dataset.map(lambda x: {'text': preprocess_text(x['text'])})\n",
        "\n",
        "# Create train/val split (90/10)\n",
        "train_val = dataset['train'].train_test_split(test_size=0.1, seed=42)\n",
        "train_dataset = train_val['train']\n",
        "val_dataset = train_val['test']\n",
        "test_dataset = dataset['test']"
      ]
    },
    {
      "cell_type": "markdown",
      "metadata": {
        "id": "L6Bx2gkI8a6x"
      },
      "source": [
        "### B.2 Tokenization và Tiền xử lý"
      ]
    },
    {
      "cell_type": "code",
      "execution_count": null,
      "metadata": {
        "id": "elmWTJng8a6x",
        "colab": {
          "base_uri": "https://localhost:8080/",
          "height": 117,
          "referenced_widgets": [
            "f9da5ca2c9914291bd0b10775a084969",
            "22a15001a4c54146a64be591f46303ed",
            "d4554f0679ca4516949f2ebedd970ed9",
            "e2decdaf1b414737930913c0ee78a979",
            "6a39fdbe2ac24e5eaa08cd5717f46d67",
            "b76ce23a4ed74cff8c5ad6764502bec5",
            "c739b1664dd24e749477c4733a6ddb88",
            "eae1b503655442b281ecaace0784941a",
            "2945af88062d44ea8bb42591a2d4052f",
            "656b02282fd14b848bb500ffdb105d9c",
            "c113114fff7047b6866c3e19566682a3",
            "602f332a2a5e4e349fa24f3eac0cc25f",
            "838b85b7463241e5a43e95465e9f4293",
            "eac0cb38d2ea4541b0735052d08ee8c9",
            "1b30fa471728419a8fcc854b3be0aff3",
            "74c6f5b9650f488d999b4664ae708653",
            "087f9ac27c0e4290a1da137fdfa0d982",
            "e017dd4be8514e43ae815588ebf04028",
            "cdf011f66b7a48a297df089d4c06c638",
            "82a5f9e5f23b46a092bce547c2c2adad",
            "52920d3a903449d5a56994574bfa5630",
            "9b6150b9d04941c7900aa1c4fce4be4c"
          ]
        },
        "outputId": "4a5f7e1f-febd-4f87-9be7-35710cd1d96d"
      },
      "outputs": [
        {
          "output_type": "stream",
          "name": "stdout",
          "text": [
            "Đang tokenize các tập dữ liệu...\n"
          ]
        },
        {
          "output_type": "display_data",
          "data": {
            "text/plain": [
              "Map:   0%|          | 0/25000 [00:00<?, ? examples/s]"
            ],
            "application/vnd.jupyter.widget-view+json": {
              "version_major": 2,
              "version_minor": 0,
              "model_id": "f9da5ca2c9914291bd0b10775a084969"
            }
          },
          "metadata": {}
        },
        {
          "output_type": "display_data",
          "data": {
            "text/plain": [
              "Map:   0%|          | 0/25000 [00:00<?, ? examples/s]"
            ],
            "application/vnd.jupyter.widget-view+json": {
              "version_major": 2,
              "version_minor": 0,
              "model_id": "602f332a2a5e4e349fa24f3eac0cc25f"
            }
          },
          "metadata": {}
        },
        {
          "output_type": "stream",
          "name": "stdout",
          "text": [
            "Tiền xử lý hoàn thành!\n"
          ]
        }
      ],
      "source": [
        "# Khởi tạo tokenizer\n",
        "tokenizer = BertTokenizer.from_pretrained(\"bert-base-uncased\")\n",
        "\n",
        "# Hàm tiền xử lý\n",
        "def preprocess_function(examples):\n",
        "    return tokenizer(\n",
        "        examples[\"text\"],\n",
        "        truncation=True,\n",
        "        padding=\"max_length\",\n",
        "        max_length=128\n",
        "    )\n",
        "\n",
        "# Áp dụng tiền xử lý\n",
        "print(\"Đang tokenize các tập dữ liệu...\")\n",
        "small_train_dataset = small_train_dataset.map(preprocess_function, batched=True)\n",
        "small_test_dataset = small_test_dataset.map(preprocess_function, batched=True)\n",
        "\n",
        "# Đổi tên cột 'label' thành 'labels' để tương thích với Trainer\n",
        "small_train_dataset = small_train_dataset.rename_column(\"label\", \"labels\")\n",
        "small_test_dataset = small_test_dataset.rename_column(\"label\", \"labels\")\n",
        "\n",
        "# Đặt định dạng cho PyTorch\n",
        "small_train_dataset.set_format(\"torch\", columns=[\"input_ids\", \"attention_mask\", \"labels\", \"text\"])\n",
        "small_test_dataset.set_format(\"torch\", columns=[\"input_ids\", \"attention_mask\", \"labels\"])\n",
        "\n",
        "print(\"Tiền xử lý hoàn thành!\")"
      ]
    },
    {
      "cell_type": "markdown",
      "metadata": {
        "id": "QGCFdy-m8a6x"
      },
      "source": [
        "### B.3 Tải Mô hình BERT đã được Huấn luyện trước"
      ]
    },
    {
      "cell_type": "code",
      "execution_count": null,
      "metadata": {
        "id": "7evtFazw8a6x",
        "colab": {
          "base_uri": "https://localhost:8080/"
        },
        "outputId": "1b6318c5-49c0-464b-f98b-fb569f0c8568"
      },
      "outputs": [
        {
          "output_type": "stream",
          "name": "stdout",
          "text": [
            "Đang tải mô hình BERT pre-trained...\n"
          ]
        },
        {
          "output_type": "stream",
          "name": "stderr",
          "text": [
            "Some weights of BertForSequenceClassification were not initialized from the model checkpoint at bert-base-uncased and are newly initialized: ['classifier.bias', 'classifier.weight']\n",
            "You should probably TRAIN this model on a down-stream task to be able to use it for predictions and inference.\n"
          ]
        },
        {
          "output_type": "stream",
          "name": "stdout",
          "text": [
            "Tải mô hình thành công!\n",
            "Tổng số tham số: 109,483,778\n"
          ]
        }
      ],
      "source": [
        "# Tải mô hình BERT đã được huấn luyện trước cho phân loại chuỗi\n",
        "print(\"Đang tải mô hình BERT pre-trained...\")\n",
        "model = BertForSequenceClassification.from_pretrained(\n",
        "    \"bert-base-uncased\",\n",
        "    num_labels=2\n",
        ")\n",
        "\n",
        "# Chuyển mô hình sang thiết bị\n",
        "model = model.to(device)\n",
        "\n",
        "print(f\"Tải mô hình thành công!\")\n",
        "print(f\"Tổng số tham số: {sum(p.numel() for p in model.parameters()):,}\")"
      ]
    },
    {
      "cell_type": "markdown",
      "metadata": {
        "id": "0a_Q9YxR8a6y"
      },
      "source": [
        "### B.4 Cấu hình các Tham số Huấn luyện"
      ]
    },
    {
      "cell_type": "code",
      "execution_count": null,
      "metadata": {
        "id": "vVUf9d9K8a6y"
      },
      "outputs": [],
      "source": [
        "# Định nghĩa các tham số huấn luyện\n",
        "training_args = TrainingArguments(\n",
        "    output_dir=\"./results\",\n",
        "    num_train_epochs=2,\n",
        "    per_device_train_batch_size=8,\n",
        "    per_device_eval_batch_size=8,\n",
        "    eval_strategy=\"epoch\",\n",
        "    logging_dir=\"./logs\",\n",
        "    logging_steps=10,\n",
        "    save_strategy=\"no\",  # Không lưu checkpoint trong demo này\n",
        "    load_best_model_at_end=False,\n",
        "    metric_for_best_model=\"accuracy\",\n",
        "    report_to=\"none\",  # Tắt wandb/tensorboard\n",
        "    fp16=torch.cuda.is_available(),  # Sử dụng mixed precision nếu có GPU\n",
        ")\n",
        "\n",
        "# Định nghĩa hàm tính toán metrics\n",
        "def compute_metrics(eval_pred):\n",
        "    predictions, labels = eval_pred\n",
        "    predictions = np.argmax(predictions, axis=1)\n",
        "    return {\"accuracy\": accuracy_score(labels, predictions)}"
      ]
    },
    {
      "cell_type": "markdown",
      "metadata": {
        "id": "pNRSBrFK8a6y"
      },
      "source": [
        "### B.5 Khởi tạo Trainer và Huấn luyện"
      ]
    },
    {
      "cell_type": "code",
      "execution_count": null,
      "metadata": {
        "id": "GpsYGWMi8a6y",
        "colab": {
          "base_uri": "https://localhost:8080/",
          "height": 246
        },
        "outputId": "0ec1cf02-3651-47cd-f540-ceeae2f80a92"
      },
      "outputs": [
        {
          "output_type": "stream",
          "name": "stderr",
          "text": [
            "<ipython-input-28-1d1a577fa320>:2: FutureWarning: `tokenizer` is deprecated and will be removed in version 5.0.0 for `Trainer.__init__`. Use `processing_class` instead.\n",
            "  trainer = Trainer(\n"
          ]
        },
        {
          "output_type": "stream",
          "name": "stdout",
          "text": [
            "Bắt đầu huấn luyện...\n"
          ]
        },
        {
          "output_type": "display_data",
          "data": {
            "text/plain": [
              "<IPython.core.display.HTML object>"
            ],
            "text/html": [
              "\n",
              "    <div>\n",
              "      \n",
              "      <progress value='6250' max='6250' style='width:300px; height:20px; vertical-align: middle;'></progress>\n",
              "      [6250/6250 11:47, Epoch 2/2]\n",
              "    </div>\n",
              "    <table border=\"1\" class=\"dataframe\">\n",
              "  <thead>\n",
              " <tr style=\"text-align: left;\">\n",
              "      <th>Epoch</th>\n",
              "      <th>Training Loss</th>\n",
              "      <th>Validation Loss</th>\n",
              "      <th>Accuracy</th>\n",
              "    </tr>\n",
              "  </thead>\n",
              "  <tbody>\n",
              "    <tr>\n",
              "      <td>1</td>\n",
              "      <td>0.957700</td>\n",
              "      <td>0.439733</td>\n",
              "      <td>0.827640</td>\n",
              "    </tr>\n",
              "    <tr>\n",
              "      <td>2</td>\n",
              "      <td>0.206900</td>\n",
              "      <td>0.469785</td>\n",
              "      <td>0.884880</td>\n",
              "    </tr>\n",
              "  </tbody>\n",
              "</table><p>"
            ]
          },
          "metadata": {}
        },
        {
          "output_type": "stream",
          "name": "stdout",
          "text": [
            "\n",
            "Huấn luyện hoàn thành!\n",
            "Loss huấn luyện: 0.3113\n"
          ]
        }
      ],
      "source": [
        "# Khởi tạo trainer\n",
        "trainer = Trainer(\n",
        "    model=model,\n",
        "    args=training_args,\n",
        "    train_dataset=small_train_dataset,\n",
        "    eval_dataset=small_test_dataset,\n",
        "    tokenizer=tokenizer,\n",
        "    compute_metrics=compute_metrics\n",
        ")\n",
        "\n",
        "# Huấn luyện mô hình\n",
        "print(\"Bắt đầu huấn luyện...\")\n",
        "train_result = trainer.train()\n",
        "\n",
        "# In kết quả huấn luyện\n",
        "print(\"\\nHuấn luyện hoàn thành!\")\n",
        "print(f\"Loss huấn luyện: {train_result.training_loss:.4f}\")"
      ]
    },
    {
      "cell_type": "markdown",
      "metadata": {
        "id": "fiVTTxsQ8a6y"
      },
      "source": [
        "### B.6 Đánh giá Hiệu suất Mô hình"
      ]
    },
    {
      "cell_type": "code",
      "execution_count": null,
      "metadata": {
        "id": "blsL4Xv58a6y",
        "colab": {
          "base_uri": "https://localhost:8080/",
          "height": 200
        },
        "outputId": "e73ff619-70b4-4ffc-d594-b9d0c52b7c2d"
      },
      "outputs": [
        {
          "output_type": "stream",
          "name": "stdout",
          "text": [
            "Đang đánh giá mô hình...\n"
          ]
        },
        {
          "output_type": "display_data",
          "data": {
            "text/plain": [
              "<IPython.core.display.HTML object>"
            ],
            "text/html": [
              "\n",
              "    <div>\n",
              "      \n",
              "      <progress value='3125' max='3125' style='width:300px; height:20px; vertical-align: middle;'></progress>\n",
              "      [3125/3125 00:57]\n",
              "    </div>\n",
              "    "
            ]
          },
          "metadata": {}
        },
        {
          "output_type": "stream",
          "name": "stdout",
          "text": [
            "\n",
            "Kết quả Đánh giá:\n",
            "  eval_loss: 0.4698\n",
            "  eval_accuracy: 0.8849\n",
            "  eval_runtime: 57.1246\n",
            "  eval_samples_per_second: 437.6390\n",
            "  eval_steps_per_second: 54.7050\n",
            "  epoch: 2.0000\n"
          ]
        }
      ],
      "source": [
        "# Đánh giá trên tập kiểm tra\n",
        "print(\"Đang đánh giá mô hình...\")\n",
        "eval_result = trainer.evaluate()\n",
        "\n",
        "print(\"\\nKết quả Đánh giá:\")\n",
        "for key, value in eval_result.items():\n",
        "    print(f\"  {key}: {value:.4f}\")\n",
        "\n",
        "# Lưu kết quả để báo cáo\n",
        "bert_accuracy = eval_result['eval_accuracy']"
      ]
    },
    {
      "cell_type": "markdown",
      "metadata": {
        "id": "0dNqNont8a6y"
      },
      "source": [
        "### B.7 Kiểm tra Mô hình với các Ví dụ"
      ]
    },
    {
      "cell_type": "code",
      "execution_count": null,
      "metadata": {
        "id": "Q2oJk59o8a6y",
        "colab": {
          "base_uri": "https://localhost:8080/"
        },
        "outputId": "fa22da1c-62e6-4db4-ca3a-17d61824fb14"
      },
      "outputs": [
        {
          "output_type": "stream",
          "name": "stdout",
          "text": [
            "Kiểm tra mô hình với các input tùy chỉnh:\n",
            "\n",
            "Văn bản: This movie was absolutely fantastic! I loved every minute of it.\n",
            "Dự đoán: Tích cực (độ tin cậy: 99.81%)\n",
            "\n",
            "Văn bản: Terrible film. Complete waste of time and money.\n",
            "Dự đoán: Tiêu cực (độ tin cậy: 99.91%)\n",
            "\n",
            "Văn bản: Not bad, but could have been better. Average at best.\n",
            "Dự đoán: Tiêu cực (độ tin cậy: 99.76%)\n",
            "\n"
          ]
        }
      ],
      "source": [
        "# Kiểm tra với các input tùy chỉnh\n",
        "test_texts = [\n",
        "    \"This movie was absolutely fantastic! I loved every minute of it.\",\n",
        "    \"Terrible film. Complete waste of time and money.\",\n",
        "    \"Not bad, but could have been better. Average at best.\"\n",
        "]\n",
        "\n",
        "print(\"Kiểm tra mô hình với các input tùy chỉnh:\\n\")\n",
        "\n",
        "for text in test_texts:\n",
        "    # Tokenize\n",
        "    inputs = tokenizer(\n",
        "        text,\n",
        "        return_tensors=\"pt\",\n",
        "        truncation=True,\n",
        "        padding=\"max_length\",\n",
        "        max_length=128\n",
        "    ).to(device)\n",
        "\n",
        "    # Dự đoán\n",
        "    with torch.no_grad():\n",
        "        outputs = model(**inputs)\n",
        "        predictions = torch.nn.functional.softmax(outputs.logits, dim=-1)\n",
        "        predicted_class = torch.argmax(predictions, dim=-1)\n",
        "\n",
        "    sentiment = \"Tích cực\" if predicted_class.item() == 1 else \"Tiêu cực\"\n",
        "    confidence = predictions[0][predicted_class].item()\n",
        "\n",
        "    print(f\"Văn bản: {text}\")\n",
        "    print(f\"Dự đoán: {sentiment} (độ tin cậy: {confidence:.2%})\")\n",
        "    print()"
      ]
    },
    {
      "cell_type": "markdown",
      "metadata": {
        "id": "fL_lyQfe8a6z"
      },
      "source": [
        "## Giai đoạn C: Trích xuất Embeddings và So sánh với TF-IDF\n"
      ]
    },
    {
      "cell_type": "markdown",
      "source": [
        "### C.1 Trích xuất BERT Embeddings"
      ],
      "metadata": {
        "id": "lt_1sVDRjhF9"
      }
    },
    {
      "cell_type": "code",
      "execution_count": null,
      "metadata": {
        "id": "PujchBI58a6z",
        "colab": {
          "base_uri": "https://localhost:8080/"
        },
        "outputId": "98a651ad-944b-41c7-db24-816936a11fc1"
      },
      "outputs": [
        {
          "output_type": "stream",
          "name": "stdout",
          "text": [
            "rích xuất BERT embeddings...\n"
          ]
        },
        {
          "output_type": "stream",
          "name": "stderr",
          "text": [
            "Đang trích xuất embeddings: 100%|██████████| 500/500 [00:06<00:00, 74.34it/s]"
          ]
        },
        {
          "output_type": "stream",
          "name": "stdout",
          "text": [
            "\n",
            "Hình dạng của BERT embeddings: (500, 768)\n",
            "Hình dạng của nhãn: (500,)\n",
            "Phân bố nhãn trong các mẫu được trích xuất: {np.int64(0): np.int64(254), np.int64(1): np.int64(246)}\n"
          ]
        },
        {
          "output_type": "stream",
          "name": "stderr",
          "text": [
            "\n"
          ]
        }
      ],
      "source": [
        "# Tải mô hình BERT để trích xuất embeddings\n",
        "bert_encoder = BertModel.from_pretrained(\"bert-base-uncased\")\n",
        "bert_encoder = bert_encoder.to(device)\n",
        "bert_encoder.eval()\n",
        "\n",
        "def get_cls_embedding(text, model, tokenizer, device):\n",
        "    \"\"\"Trích xuất embedding của token [CLS] từ BERT\"\"\"\n",
        "    inputs = tokenizer(\n",
        "        text,\n",
        "        return_tensors=\"pt\",\n",
        "        truncation=True,\n",
        "        padding=\"max_length\",\n",
        "        max_length=128\n",
        "    ).to(device)\n",
        "\n",
        "    with torch.no_grad():\n",
        "        outputs = model(**inputs)\n",
        "        # Lấy embedding của token [CLS] (token đầu tiên)\n",
        "        cls_embedding = outputs.last_hidden_state[:, 0, :].squeeze()\n",
        "\n",
        "    return cls_embedding.cpu().numpy()\n",
        "\n",
        "print(\"rích xuất BERT embeddings...\")\n",
        "# Xáo trộn tập dữ liệu và sau đó chọn 500 mẫu\n",
        "shuffled_subset = dataset['train'].shuffle(seed=42).select(range(500))\n",
        "texts = [item['text'] for item in shuffled_subset]\n",
        "labels = [item['label'] for item in shuffled_subset]\n",
        "\n",
        "\n",
        "embeddings = []\n",
        "# Lặp qua tất cả 500 văn bản để trích xuất embeddings\n",
        "for text in tqdm(texts, desc=\"Đang trích xuất embeddings\"):\n",
        "    embedding = get_cls_embedding(text, bert_encoder, tokenizer, device)\n",
        "    embeddings.append(embedding)\n",
        "\n",
        "X_bert = np.vstack(embeddings)\n",
        "y = np.array(labels)\n",
        "\n",
        "print(f\"\\nHình dạng của BERT embeddings: {X_bert.shape}\")\n",
        "print(f\"Hình dạng của nhãn: {y.shape}\")\n",
        "# Thêm kiểm tra để xem sự phân bố của các nhãn\n",
        "unique_labels, counts = np.unique(y, return_counts=True)\n",
        "print(f\"Phân bố nhãn trong các mẫu được trích xuất: {dict(zip(unique_labels, counts))}\")"
      ]
    },
    {
      "cell_type": "markdown",
      "metadata": {
        "id": "E61Vj42w8a6z"
      },
      "source": [
        "### C.2 Huấn luyện Bộ phân loại với BERT Embeddings"
      ]
    },
    {
      "cell_type": "code",
      "execution_count": null,
      "metadata": {
        "id": "YfEPINnl8a60",
        "colab": {
          "base_uri": "https://localhost:8080/"
        },
        "outputId": "edb3792e-776b-46b2-a069-eb6ef9b0e719"
      },
      "outputs": [
        {
          "output_type": "stream",
          "name": "stdout",
          "text": [
            "Đang huấn luyện Logistic Regression trên BERT embeddings...\n",
            "\n",
            "Độ chính xác của BERT Embeddings + LR: 0.7600\n",
            "\n",
            "Báo cáo Phân loại:\n",
            "              precision    recall  f1-score   support\n",
            "\n",
            "    Tiêu cực       0.76      0.76      0.76        76\n",
            "    Tích cực       0.76      0.76      0.76        74\n",
            "\n",
            "    accuracy                           0.76       150\n",
            "   macro avg       0.76      0.76      0.76       150\n",
            "weighted avg       0.76      0.76      0.76       150\n",
            "\n"
          ]
        }
      ],
      "source": [
        "# Chia dữ liệu, phân tầng (stratify) để duy trì cùng một phân bố lớp trong tập huấn luyện/kiểm tra\n",
        "X_train_bert, X_test_bert, y_train, y_test = train_test_split(\n",
        "    X_bert, y, test_size=0.3, random_state=42, stratify=y\n",
        ")\n",
        "\n",
        "# Huấn luyện Logistic Regression trên BERT embeddings\n",
        "print(\"Đang huấn luyện Logistic Regression trên BERT embeddings...\")\n",
        "clf_bert = LogisticRegression(max_iter=1000, random_state=42)\n",
        "clf_bert.fit(X_train_bert, y_train)\n",
        "\n",
        "# Dự đoán và đánh giá\n",
        "y_pred_bert = clf_bert.predict(X_test_bert)\n",
        "bert_embedding_accuracy = accuracy_score(y_test, y_pred_bert)\n",
        "\n",
        "print(f\"\\nĐộ chính xác của BERT Embeddings + LR: {bert_embedding_accuracy:.4f}\")\n",
        "print(\"\\nBáo cáo Phân loại:\")\n",
        "print(classification_report(y_test, y_pred_bert, target_names=['Tiêu cực', 'Tích cực']))"
      ]
    },
    {
      "cell_type": "markdown",
      "metadata": {
        "id": "5BetxzF98a60"
      },
      "source": [
        "### C.3 So sánh với TF-IDF"
      ]
    },
    {
      "cell_type": "code",
      "execution_count": null,
      "metadata": {
        "id": "zvziw6BR8a60",
        "colab": {
          "base_uri": "https://localhost:8080/"
        },
        "outputId": "7346eabf-0487-44f7-f9f4-5600d023838a"
      },
      "outputs": [
        {
          "output_type": "stream",
          "name": "stdout",
          "text": [
            "Đang tạo các đặc trưng TF-IDF...\n",
            "Đang huấn luyện Logistic Regression trên các đặc trưng TF-IDF...\n",
            "\n",
            "Độ chính xác của TF-IDF + LR: 0.7467\n",
            "\n",
            "Báo cáo Phân loại:\n",
            "              precision    recall  f1-score   support\n",
            "\n",
            "    Tiêu cực       0.75      0.75      0.75        76\n",
            "    Tích cực       0.74      0.74      0.74        74\n",
            "\n",
            "    accuracy                           0.75       150\n",
            "   macro avg       0.75      0.75      0.75       150\n",
            "weighted avg       0.75      0.75      0.75       150\n",
            "\n"
          ]
        }
      ],
      "source": [
        "# Tạo các đặc trưng TF-IDF sử dụng cùng 500 văn bản để so sánh\n",
        "print(\"Đang tạo các đặc trưng TF-IDF...\")\n",
        "tfidf = TfidfVectorizer(max_features=1000, stop_words='english')\n",
        "# Sử dụng tất cả 500 văn bản đã được dùng cho BERT embeddings\n",
        "X_tfidf = tfidf.fit_transform(texts)\n",
        "\n",
        "# Chia dữ liệu TF-IDF. Việc thực hiện một lần chia mới, độc lập là rất quan trọng.\n",
        "# sử dụng cùng 'y' (nhãn cho 500 mẫu) và cùng các tham số chia.\n",
        "X_train_tfidf, X_test_tfidf, y_train_tfidf, y_test_tfidf = train_test_split(\n",
        "    X_tfidf, y, test_size=0.3, random_state=42, stratify=y\n",
        ")\n",
        "\n",
        "# Huấn luyện Logistic Regression trên các đặc trưng TF-IDF\n",
        "print(\"Đang huấn luyện Logistic Regression trên các đặc trưng TF-IDF...\")\n",
        "clf_tfidf = LogisticRegression(max_iter=1000, random_state=42)\n",
        "# Sử dụng nhãn huấn luyện chính xác từ lần chia mới\n",
        "clf_tfidf.fit(X_train_tfidf, y_train_tfidf)\n",
        "\n",
        "# Dự đoán và đánh giá\n",
        "y_pred_tfidf = clf_tfidf.predict(X_test_tfidf)\n",
        "# Sử dụng nhãn kiểm tra chính xác từ lần chia mới\n",
        "tfidf_accuracy = accuracy_score(y_test_tfidf, y_pred_tfidf)\n",
        "\n",
        "print(f\"\\nĐộ chính xác của TF-IDF + LR: {tfidf_accuracy:.4f}\")\n",
        "print(\"\\nBáo cáo Phân loại:\")\n",
        "print(classification_report(y_test_tfidf, y_pred_tfidf, target_names=['Tiêu cực', 'Tích cực']))"
      ]
    },
    {
      "cell_type": "markdown",
      "metadata": {
        "id": "qhN6548H8a60"
      },
      "source": [
        "### C.4 Tóm tắt So sánh"
      ]
    },
    {
      "cell_type": "code",
      "execution_count": null,
      "metadata": {
        "id": "tHnuk3Kb8a60",
        "colab": {
          "base_uri": "https://localhost:8080/",
          "height": 806
        },
        "outputId": "b5f35d1b-7897-459b-d9d7-55f42b3c0ba6"
      },
      "outputs": [
        {
          "output_type": "display_data",
          "data": {
            "text/plain": [
              "<Figure size 1000x600 with 1 Axes>"
            ],
            "image/png": "[encoded data removed]"
          },
          "metadata": {}
        },
        {
          "output_type": "stream",
          "name": "stdout",
          "text": [
            "\n",
            "So sánh Hiệu suất:\n",
            "----------------------------------------\n",
            "Phương pháp               Độ chính xác\n",
            "----------------------------------------\n",
            "BERT Fine-tuned               0.8849\n",
            "BERT Embeddings + LR          0.7600\n",
            "TF-IDF + LR                   0.7467\n",
            "----------------------------------------\n",
            "\n",
            "BERT embeddings cho thấy sự cải thiện 1.8% so với TF-IDF\n"
          ]
        }
      ],
      "source": [
        "# Tạo biểu đồ so sánh\n",
        "methods = ['BERT Fine-tuned', 'BERT Embeddings + LR', 'TF-IDF + LR']\n",
        "accuracies = [bert_accuracy, bert_embedding_accuracy, tfidf_accuracy]\n",
        "\n",
        "plt.figure(figsize=(10, 6))\n",
        "bars = plt.bar(methods, accuracies, color=['#1f77b4', '#ff7f0e', '#2ca02c'])\n",
        "plt.ylim(0, 1)\n",
        "plt.ylabel('Độ chính xác', fontsize=12)\n",
        "plt.title('So sánh Hiệu suất Phân loại Cảm xúc', fontsize=14)\n",
        "\n",
        "# Thêm nhãn giá trị trên các cột\n",
        "for bar, acc in zip(bars, accuracies):\n",
        "    plt.text(bar.get_x() + bar.get_width()/2, bar.get_height() + 0.01,\n",
        "             f'{acc:.3f}', ha='center', va='bottom')\n",
        "\n",
        "plt.tight_layout()\n",
        "plt.show()\n",
        "\n",
        "# In bảng so sánh\n",
        "print(\"\\nSo sánh Hiệu suất:\")\n",
        "print(\"-\" * 40)\n",
        "print(f\"{'Phương pháp':<25} {'Độ chính xác':>10}\")\n",
        "print(\"-\" * 40)\n",
        "for method, acc in zip(methods, accuracies):\n",
        "    print(f\"{method:<25} {acc:>10.4f}\")\n",
        "print(\"-\" * 40)\n",
        "\n",
        "# Phân tích\n",
        "improvement_bert_vs_tfidf = ((bert_embedding_accuracy - tfidf_accuracy) / tfidf_accuracy) * 100\n",
        "print(f\"\\nBERT embeddings cho thấy sự cải thiện {improvement_bert_vs_tfidf:.1f}% so với TF-IDF\")"
      ]
    },
    {
      "cell_type": "markdown",
      "metadata": {
        "id": "uhHrI0pc8a60"
      },
      "source": [
        "## Giai đoạn D: Trực quan hóa các Mẫu Attention"
      ]
    },
    {
      "cell_type": "markdown",
      "source": [
        "### D.1 Trích xuất và Trực quan hóa Attention"
      ],
      "metadata": {
        "id": "uah37OW3jlbT"
      }
    },
    {
      "cell_type": "code",
      "execution_count": null,
      "metadata": {
        "id": "YT_dN_CF8a60"
      },
      "outputs": [],
      "source": [
        "def visualize_attention(model, tokenizer, text, layer_idx=11, head_idx=0):\n",
        "    \"\"\"Trực quan hóa trọng số attention cho một văn bản cụ thể\"\"\"\n",
        "    # Tokenize đầu vào\n",
        "    inputs = tokenizer(\n",
        "        text,\n",
        "        return_tensors=\"pt\",\n",
        "        truncation=True,\n",
        "        padding=\"max_length\",\n",
        "        max_length=64\n",
        "    ).to(device)\n",
        "\n",
        "    # Lấy đầu ra của mô hình với attention\n",
        "    with torch.no_grad():\n",
        "        outputs = model.bert(**inputs, output_attentions=True)\n",
        "\n",
        "    # Trích xuất trọng số attention\n",
        "    attention = outputs.attentions[layer_idx][0, head_idx].cpu().numpy()\n",
        "    tokens = tokenizer.convert_ids_to_tokens(inputs[\"input_ids\"][0])\n",
        "\n",
        "    # Lọc bỏ các token padding\n",
        "    num_tokens = (inputs[\"attention_mask\"][0] == 1).sum()\n",
        "    attention = attention[:num_tokens, :num_tokens]\n",
        "    tokens = tokens[:num_tokens]\n",
        "\n",
        "    # Tạo biểu đồ trực quan\n",
        "    plt.figure(figsize=(10, 8))\n",
        "    sns.heatmap(\n",
        "        attention,\n",
        "        xticklabels=tokens,\n",
        "        yticklabels=tokens,\n",
        "        cmap='Blues',\n",
        "        cbar_kws={'label': 'Trọng số Attention'}\n",
        "    )\n",
        "    plt.title(f'Trọng số Attention - Tầng {layer_idx}, Head {head_idx}\\nVăn bản: \"{text}\"')\n",
        "    plt.xlabel('Keys (Tokens)', fontsize=12)\n",
        "    plt.ylabel('Queries (Tokens)', fontsize=12)\n",
        "    plt.xticks(rotation=45, ha='right')\n",
        "    plt.tight_layout()\n",
        "    plt.show()\n",
        "\n",
        "    return attention, tokens"
      ]
    },
    {
      "cell_type": "code",
      "execution_count": null,
      "metadata": {
        "id": "1MFgBB578a60",
        "colab": {
          "base_uri": "https://localhost:8080/",
          "height": 1000
        },
        "outputId": "6ab3cd8b-d383-49bf-e465-081f9f0f2538"
      },
      "outputs": [
        {
          "output_type": "stream",
          "name": "stdout",
          "text": [
            "\n",
            "Đang trực quan hóa attention cho: 'I absolutely love this amazing movie!'\n"
          ]
        },
        {
          "output_type": "display_data",
          "data": {
            "text/plain": [
              "<Figure size 1000x800 with 2 Axes>"
            ],
            "image/png": "[encoded data removed]"
          },
          "metadata": {}
        },
        {
          "output_type": "stream",
          "name": "stdout",
          "text": [
            "Top 5 token mà [CLS] chú ý đến nhiều nhất:\n",
            "  - amazing: 0.121\n",
            "  - love: 0.118\n",
            "  - [SEP]: 0.112\n",
            "  - this: 0.110\n",
            "  - absolutely: 0.110\n",
            "\n",
            "Đang trực quan hóa attention cho: 'This film is terrible and boring.'\n"
          ]
        },
        {
          "output_type": "display_data",
          "data": {
            "text/plain": [
              "<Figure size 1000x800 with 2 Axes>"
            ],
            "image/png": "[encoded data removed]"
          },
          "metadata": {}
        },
        {
          "output_type": "stream",
          "name": "stdout",
          "text": [
            "Top 5 token mà [CLS] chú ý đến nhiều nhất:\n",
            "  - [SEP]: 0.135\n",
            "  - and: 0.125\n",
            "  - boring: 0.123\n",
            "  - terrible: 0.118\n",
            "  - .: 0.110\n"
          ]
        }
      ],
      "source": [
        "# Trực quan hóa attention cho các ví dụ về cảm xúc\n",
        "sentiment_examples = [\n",
        "    \"I absolutely love this amazing movie!\",\n",
        "    \"This film is terrible and boring.\"\n",
        "]\n",
        "\n",
        "for text in sentiment_examples:\n",
        "    print(f\"\\nĐang trực quan hóa attention cho: '{text}'\")\n",
        "    attention, tokens = visualize_attention(model, tokenizer, text, layer_idx=11, head_idx=2)\n",
        "\n",
        "    # Phân tích attention của token [CLS]\n",
        "    cls_attention = attention[0, :]\n",
        "    top_indices = np.argsort(cls_attention)[-5:]\n",
        "\n",
        "    print(\"Top 5 token mà [CLS] chú ý đến nhiều nhất:\")\n",
        "    for idx in reversed(top_indices):\n",
        "        if idx < len(tokens):\n",
        "            print(f\"  - {tokens[idx]}: {cls_attention[idx]:.3f}\")"
      ]
    },
    {
      "cell_type": "markdown",
      "metadata": {
        "id": "ITpwpgUV8a61"
      },
      "source": [
        "### D.2 Phân tích Attention Tổng hợp"
      ]
    },
    {
      "cell_type": "code",
      "execution_count": null,
      "metadata": {
        "id": "NX36G2AN8a61",
        "colab": {
          "base_uri": "https://localhost:8080/",
          "height": 525
        },
        "outputId": "af6226d0-27ce-4274-970c-9287013eb226"
      },
      "outputs": [
        {
          "output_type": "stream",
          "name": "stdout",
          "text": [
            "Đang phân tích các mẫu attention...\n"
          ]
        },
        {
          "output_type": "display_data",
          "data": {
            "text/plain": [
              "<Figure size 1200x500 with 2 Axes>"
            ],
            "image/png": "[encoded data removed]"
          },
          "metadata": {}
        }
      ],
      "source": [
        "def get_average_attention_to_cls(model, tokenizer, texts, layer_idx=11):\n",
        "    \"\"\"Lấy trọng số attention trung bình đến token CLS trên nhiều văn bản\"\"\"\n",
        "    all_attentions = []\n",
        "\n",
        "    for text in texts:\n",
        "        inputs = tokenizer(\n",
        "            text,\n",
        "            return_tensors=\"pt\",\n",
        "            truncation=True,\n",
        "            padding=\"max_length\",\n",
        "            max_length=64\n",
        "        ).to(device)\n",
        "\n",
        "        with torch.no_grad():\n",
        "            outputs = model.bert(**inputs, output_attentions=True)\n",
        "\n",
        "        # Lấy trung bình attention trên tất cả các head\n",
        "        attention = outputs.attentions[layer_idx][0].mean(dim=0).cpu().numpy()\n",
        "        # Lấy attention đến token CLS (cột 0)\n",
        "        cls_attention = attention[:, 0]\n",
        "        all_attentions.append(cls_attention)\n",
        "\n",
        "    return np.mean(all_attentions, axis=0)\n",
        "\n",
        "# Phân tích các mẫu attention cho các ví dụ tích cực và tiêu cực\n",
        "positive_texts = [item['text'] for item in small_train_dataset if item['labels'] == 1][:10]\n",
        "negative_texts = [item['text'] for item in small_train_dataset if item['labels'] == 0][:10]\n",
        "\n",
        "print(\"Đang phân tích các mẫu attention...\")\n",
        "pos_attention = get_average_attention_to_cls(model, tokenizer, positive_texts)\n",
        "neg_attention = get_average_attention_to_cls(model, tokenizer, negative_texts)\n",
        "\n",
        "# Trực quan hóa so sánh\n",
        "plt.figure(figsize=(12, 5))\n",
        "positions = np.arange(20)\n",
        "\n",
        "plt.subplot(1, 2, 1)\n",
        "plt.bar(positions, pos_attention[:20], color='green', alpha=0.7)\n",
        "plt.title('Attention Trung bình đến [CLS] - Cảm xúc Tích cực')\n",
        "plt.xlabel('Vị trí Token')\n",
        "plt.ylabel('Trọng số Attention')\n",
        "\n",
        "plt.subplot(1, 2, 2)\n",
        "plt.bar(positions, neg_attention[:20], color='red', alpha=0.7)\n",
        "plt.title('Attention Trung bình đến [CLS] - Cảm xúc Tiêu cực')\n",
        "plt.xlabel('Vị trí Token')\n",
        "plt.ylabel('Trọng số Attention')\n",
        "\n",
        "plt.tight_layout()\n",
        "plt.show()"
      ]
    },
    {
      "cell_type": "markdown",
      "metadata": {
        "id": "1Gb0WaIS8a61"
      },
      "source": [
        "## Tóm tắt và Kết luận"
      ]
    },
    {
      "cell_type": "code",
      "execution_count": null,
      "metadata": {
        "id": "B4okBAan8a61",
        "colab": {
          "base_uri": "https://localhost:8080/"
        },
        "outputId": "173985c7-11ba-4eaf-9205-500446e5db1e"
      },
      "outputs": [
        {
          "output_type": "stream",
          "name": "stdout",
          "text": [
            "============================================================\n",
            "TÓM TẮT ỨNG DỤNG BERT\n",
            "============================================================\n",
            "\n",
            "1. Xác minh Cài đặt BERT:\n",
            "   ✓ Kiểm tra cơ chế attention: PASSED\n",
            "   ✓ Kiểm tra mô hình BERT: PASSED\n",
            "   ✓ Mô phỏng pre-training hoàn thành thành công\n",
            "\n",
            "2. Kết quả Fine-tuning:\n",
            "   ✓ Độ chính xác của BERT sau fine-tuning: 0.8849\n",
            "   ✓ Mô hình phân loại cảm xúc thành công\n",
            "\n",
            "3. So sánh Embedding:\n",
            "   ✓ BERT embeddings + LR: 0.7600\n",
            "   ✓ TF-IDF + LR: 0.7467\n",
            "   ✓ BERT embeddings vượt trội hơn TF-IDF 1.8%\n",
            "\n",
            "4. Phân tích Attention:\n",
            "   ✓ Trực quan hóa thành công các mẫu attention\n",
            "   ✓ Xác định các token chính cho việc phân loại cảm xúc\n",
            "\n",
            "5. Các Điểm Chính:\n",
            "   - Ngữ cảnh hai chiều của BERT cung cấp các biểu diễn vượt trội\n",
            "   - Fine-tuning đạt hiệu suất tốt nhất ngay cả với dữ liệu hạn chế\n",
            "   - Các cơ chế attention tập trung vào các từ mang cảm xúc\n",
            "   - Các embedding được huấn luyện trước vượt trội đáng kể so với các đặc trưng truyền thống\n",
            "\n",
            "============================================================\n"
          ]
        }
      ],
      "source": [
        "print(\"=\" * 60)\n",
        "print(\"TÓM TẮT ỨNG DỤNG BERT\")\n",
        "print(\"=\" * 60)\n",
        "\n",
        "print(\"\\n1. Xác minh Cài đặt BERT:\")\n",
        "print(\"   ✓ Kiểm tra cơ chế attention: PASSED\")\n",
        "print(\"   ✓ Kiểm tra mô hình BERT: PASSED\")\n",
        "print(\"   ✓ Mô phỏng pre-training hoàn thành thành công\")\n",
        "\n",
        "print(\"\\n2. Kết quả Fine-tuning:\")\n",
        "print(f\"   ✓ Độ chính xác của BERT sau fine-tuning: {bert_accuracy:.4f}\")\n",
        "print(\"   ✓ Mô hình phân loại cảm xúc thành công\")\n",
        "\n",
        "print(\"\\n3. So sánh Embedding:\")\n",
        "print(f\"   ✓ BERT embeddings + LR: {bert_embedding_accuracy:.4f}\")\n",
        "print(f\"   ✓ TF-IDF + LR: {tfidf_accuracy:.4f}\")\n",
        "print(f\"   ✓ BERT embeddings vượt trội hơn TF-IDF {improvement_bert_vs_tfidf:.1f}%\")\n",
        "\n",
        "print(\"\\n4. Phân tích Attention:\")\n",
        "print(\"   ✓ Trực quan hóa thành công các mẫu attention\")\n",
        "print(\"   ✓ Xác định các token chính cho việc phân loại cảm xúc\")\n",
        "\n",
        "print(\"\\n5. Các Điểm Chính:\")\n",
        "print(\"   - Ngữ cảnh hai chiều của BERT cung cấp các biểu diễn vượt trội\")\n",
        "print(\"   - Fine-tuning đạt hiệu suất tốt nhất ngay cả với dữ liệu hạn chế\")\n",
        "print(\"   - Các cơ chế attention tập trung vào các từ mang cảm xúc\")\n",
        "print(\"   - Các embedding được huấn luyện trước vượt trội đáng kể so với các đặc trưng truyền thống\")\n",
        "\n",
        "print(\"\\n\" + \"=\" * 60)"
      ]
    },
    {
      "cell_type": "markdown",
      "metadata": {
        "id": "c6-_rVZb8a61"
      },
      "source": [
        "## Lưu Kết quả để Báo cáo"
      ]
    },
    {
      "cell_type": "code",
      "execution_count": null,
      "metadata": {
        "id": "MaLxZRzC8a62",
        "colab": {
          "base_uri": "https://localhost:8080/"
        },
        "outputId": "76a3db5a-e483-4ef9-8d93-6b112ca48e84"
      },
      "outputs": [
        {
          "output_type": "stream",
          "name": "stdout",
          "text": [
            "Kết quả đã được lưu vào \"bert_application_results.json\"\n",
            "\n",
            "Thực thi notebook hoàn thành thành công!\n"
          ]
        }
      ],
      "source": [
        "# Lưu các kết quả chính\n",
        "results = {\n",
        "    'custom_bert_test': 'Passed',\n",
        "    'pretraining_loss': metrics['loss'],\n",
        "    'bert_finetuned_accuracy': bert_accuracy,\n",
        "    'bert_embedding_accuracy': bert_embedding_accuracy,\n",
        "    'tfidf_accuracy': tfidf_accuracy,\n",
        "    'improvement_percentage': improvement_bert_vs_tfidf\n",
        "}\n",
        "\n",
        "# Lưu vào file\n",
        "import json\n",
        "with open('bert_application_results.json', 'w') as f:\n",
        "    json.dump(results, f, indent=2)\n",
        "\n",
        "print(\"Kết quả đã được lưu vào \\\"bert_application_results.json\\\"\")\n",
        "print(\"\\nThực thi notebook hoàn thành thành công!\")"
      ]
    }
  ],
  "metadata": {
    "kernelspec": {
      "display_name": "Python 3",
      "name": "python3"
    },
    "language_info": {
      "codemirror_mode": {
        "name": "ipython",
        "version": 3
      },
      "file_extension": ".py",
      "mimetype": "text/x-python",
      "name": "python",
      "nbconvert_exporter": "python",
      "pygments_lexer": "ipython3",
      "version": "3.12.3"
    },
    "colab": {
      "provenance": [],
      "gpuType": "T4"
    },
    "accelerator": "GPU",
    "widgets": {
      "application/vnd.jupyter.widget-state+json": {
        "693f8e82ad074a46bbb53c1188b991d0": {
          "model_module": "@jupyter-widgets/controls",
          "model_name": "HBoxModel",
          "model_module_version": "1.5.0",
          "state": {
            "_dom_classes": [],
            "_model_module": "@jupyter-widgets/controls",
            "_model_module_version": "1.5.0",
            "_model_name": "HBoxModel",
            "_view_count": null,
            "_view_module": "@jupyter-widgets/controls",
            "_view_module_version": "1.5.0",
            "_view_name": "HBoxView",
            "box_style": "",
            "children": [
              "IPY_MODEL_04ffe2c482e24dcd92df4f06095fdbee",
              "IPY_MODEL_54c6c6a89ad641159d82b521ac63809b",
              "IPY_MODEL_077abf2a25724ea793cab7ad605f0d27"
            ],
            "layout": "IPY_MODEL_3f47361920dd4ddc9c7e3244af5dd7ff"
          }
        },
        "04ffe2c482e24dcd92df4f06095fdbee": {
          "model_module": "@jupyter-widgets/controls",
          "model_name": "HTMLModel",
          "model_module_version": "1.5.0",
          "state": {
            "_dom_classes": [],
            "_model_module": "@jupyter-widgets/controls",
            "_model_module_version": "1.5.0",
            "_model_name": "HTMLModel",
            "_view_count": null,
            "_view_module": "@jupyter-widgets/controls",
            "_view_module_version": "1.5.0",
            "_view_name": "HTMLView",
            "description": "",
            "description_tooltip": null,
            "layout": "IPY_MODEL_f74b52558ee14e21a2e558a4184492cb",
            "placeholder": "​",
            "style": "IPY_MODEL_bdc1e5d389e944d082bb1b79fa933154",
            "value": "tokenizer_config.json: 100%"
          }
        },
        "54c6c6a89ad641159d82b521ac63809b": {
          "model_module": "@jupyter-widgets/controls",
          "model_name": "FloatProgressModel",
          "model_module_version": "1.5.0",
          "state": {
            "_dom_classes": [],
            "_model_module": "@jupyter-widgets/controls",
            "_model_module_version": "1.5.0",
            "_model_name": "FloatProgressModel",
            "_view_count": null,
            "_view_module": "@jupyter-widgets/controls",
            "_view_module_version": "1.5.0",
            "_view_name": "ProgressView",
            "bar_style": "success",
            "description": "",
            "description_tooltip": null,
            "layout": "IPY_MODEL_b943d104f9614b6b859506fef31765af",
            "max": 48,
            "min": 0,
            "orientation": "horizontal",
            "style": "IPY_MODEL_49b9c7eb8d784b7ca165786d5a2db670",
            "value": 48
          }
        },
        "077abf2a25724ea793cab7ad605f0d27": {
          "model_module": "@jupyter-widgets/controls",
          "model_name": "HTMLModel",
          "model_module_version": "1.5.0",
          "state": {
            "_dom_classes": [],
            "_model_module": "@jupyter-widgets/controls",
            "_model_module_version": "1.5.0",
            "_model_name": "HTMLModel",
            "_view_count": null,
            "_view_module": "@jupyter-widgets/controls",
            "_view_module_version": "1.5.0",
            "_view_name": "HTMLView",
            "description": "",
            "description_tooltip": null,
            "layout": "IPY_MODEL_239a8ee288574590bd5b6d686a652e47",
            "placeholder": "​",
            "style": "IPY_MODEL_6674a88a5f3a4422a1dde5f34bfcd01e",
            "value": " 48.0/48.0 [00:00&lt;00:00, 4.50kB/s]"
          }
        },
        "3f47361920dd4ddc9c7e3244af5dd7ff": {
          "model_module": "@jupyter-widgets/base",
          "model_name": "LayoutModel",
          "model_module_version": "1.2.0",
          "state": {
            "_model_module": "@jupyter-widgets/base",
            "_model_module_version": "1.2.0",
            "_model_name": "LayoutModel",
            "_view_count": null,
            "_view_module": "@jupyter-widgets/base",
            "_view_module_version": "1.2.0",
            "_view_name": "LayoutView",
            "align_content": null,
            "align_items": null,
            "align_self": null,
            "border": null,
            "bottom": null,
            "display": null,
            "flex": null,
            "flex_flow": null,
            "grid_area": null,
            "grid_auto_columns": null,
            "grid_auto_flow": null,
            "grid_auto_rows": null,
            "grid_column": null,
            "grid_gap": null,
            "grid_row": null,
            "grid_template_areas": null,
            "grid_template_columns": null,
            "grid_template_rows": null,
            "height": null,
            "justify_content": null,
            "justify_items": null,
            "left": null,
            "margin": null,
            "max_height": null,
            "max_width": null,
            "min_height": null,
            "min_width": null,
            "object_fit": null,
            "object_position": null,
            "order": null,
            "overflow": null,
            "overflow_x": null,
            "overflow_y": null,
            "padding": null,
            "right": null,
            "top": null,
            "visibility": null,
            "width": null
          }
        },
        "f74b52558ee14e21a2e558a4184492cb": {
          "model_module": "@jupyter-widgets/base",
          "model_name": "LayoutModel",
          "model_module_version": "1.2.0",
          "state": {
            "_model_module": "@jupyter-widgets/base",
            "_model_module_version": "1.2.0",
            "_model_name": "LayoutModel",
            "_view_count": null,
            "_view_module": "@jupyter-widgets/base",
            "_view_module_version": "1.2.0",
            "_view_name": "LayoutView",
            "align_content": null,
            "align_items": null,
            "align_self": null,
            "border": null,
            "bottom": null,
            "display": null,
            "flex": null,
            "flex_flow": null,
            "grid_area": null,
            "grid_auto_columns": null,
            "grid_auto_flow": null,
            "grid_auto_rows": null,
            "grid_column": null,
            "grid_gap": null,
            "grid_row": null,
            "grid_template_areas": null,
            "grid_template_columns": null,
            "grid_template_rows": null,
            "height": null,
            "justify_content": null,
            "justify_items": null,
            "left": null,
            "margin": null,
            "max_height": null,
            "max_width": null,
            "min_height": null,
            "min_width": null,
            "object_fit": null,
            "object_position": null,
            "order": null,
            "overflow": null,
            "overflow_x": null,
            "overflow_y": null,
            "padding": null,
            "right": null,
            "top": null,
            "visibility": null,
            "width": null
          }
        },
        "bdc1e5d389e944d082bb1b79fa933154": {
          "model_module": "@jupyter-widgets/controls",
          "model_name": "DescriptionStyleModel",
          "model_module_version": "1.5.0",
          "state": {
            "_model_module": "@jupyter-widgets/controls",
            "_model_module_version": "1.5.0",
            "_model_name": "DescriptionStyleModel",
            "_view_count": null,
            "_view_module": "@jupyter-widgets/base",
            "_view_module_version": "1.2.0",
            "_view_name": "StyleView",
            "description_width": ""
          }
        },
        "b943d104f9614b6b859506fef31765af": {
          "model_module": "@jupyter-widgets/base",
          "model_name": "LayoutModel",
          "model_module_version": "1.2.0",
          "state": {
            "_model_module": "@jupyter-widgets/base",
            "_model_module_version": "1.2.0",
            "_model_name": "LayoutModel",
            "_view_count": null,
            "_view_module": "@jupyter-widgets/base",
            "_view_module_version": "1.2.0",
            "_view_name": "LayoutView",
            "align_content": null,
            "align_items": null,
            "align_self": null,
            "border": null,
            "bottom": null,
            "display": null,
            "flex": null,
            "flex_flow": null,
            "grid_area": null,
            "grid_auto_columns": null,
            "grid_auto_flow": null,
            "grid_auto_rows": null,
            "grid_column": null,
            "grid_gap": null,
            "grid_row": null,
            "grid_template_areas": null,
            "grid_template_columns": null,
            "grid_template_rows": null,
            "height": null,
            "justify_content": null,
            "justify_items": null,
            "left": null,
            "margin": null,
            "max_height": null,
            "max_width": null,
            "min_height": null,
            "min_width": null,
            "object_fit": null,
            "object_position": null,
            "order": null,
            "overflow": null,
            "overflow_x": null,
            "overflow_y": null,
            "padding": null,
            "right": null,
            "top": null,
            "visibility": null,
            "width": null
          }
        },
        "49b9c7eb8d784b7ca165786d5a2db670": {
          "model_module": "@jupyter-widgets/controls",
          "model_name": "ProgressStyleModel",
          "model_module_version": "1.5.0",
          "state": {
            "_model_module": "@jupyter-widgets/controls",
            "_model_module_version": "1.5.0",
            "_model_name": "ProgressStyleModel",
            "_view_count": null,
            "_view_module": "@jupyter-widgets/base",
            "_view_module_version": "1.2.0",
            "_view_name": "StyleView",
            "bar_color": null,
            "description_width": ""
          }
        },
        "239a8ee288574590bd5b6d686a652e47": {
          "model_module": "@jupyter-widgets/base",
          "model_name": "LayoutModel",
          "model_module_version": "1.2.0",
          "state": {
            "_model_module": "@jupyter-widgets/base",
            "_model_module_version": "1.2.0",
            "_model_name": "LayoutModel",
            "_view_count": null,
            "_view_module": "@jupyter-widgets/base",
            "_view_module_version": "1.2.0",
            "_view_name": "LayoutView",
            "align_content": null,
            "align_items": null,
            "align_self": null,
            "border": null,
            "bottom": null,
            "display": null,
            "flex": null,
            "flex_flow": null,
            "grid_area": null,
            "grid_auto_columns": null,
            "grid_auto_flow": null,
            "grid_auto_rows": null,
            "grid_column": null,
            "grid_gap": null,
            "grid_row": null,
            "grid_template_areas": null,
            "grid_template_columns": null,
            "grid_template_rows": null,
            "height": null,
            "justify_content": null,
            "justify_items": null,
            "left": null,
            "margin": null,
            "max_height": null,
            "max_width": null,
            "min_height": null,
            "min_width": null,
            "object_fit": null,
            "object_position": null,
            "order": null,
            "overflow": null,
            "overflow_x": null,
            "overflow_y": null,
            "padding": null,
            "right": null,
            "top": null,
            "visibility": null,
            "width": null
          }
        },
        "6674a88a5f3a4422a1dde5f34bfcd01e": {
          "model_module": "@jupyter-widgets/controls",
          "model_name": "DescriptionStyleModel",
          "model_module_version": "1.5.0",
          "state": {
            "_model_module": "@jupyter-widgets/controls",
            "_model_module_version": "1.5.0",
            "_model_name": "DescriptionStyleModel",
            "_view_count": null,
            "_view_module": "@jupyter-widgets/base",
            "_view_module_version": "1.2.0",
            "_view_name": "StyleView",
            "description_width": ""
          }
        },
        "567cd07d17fb49b9b3dfa5ca293ffaf1": {
          "model_module": "@jupyter-widgets/controls",
          "model_name": "HBoxModel",
          "model_module_version": "1.5.0",
          "state": {
            "_dom_classes": [],
            "_model_module": "@jupyter-widgets/controls",
            "_model_module_version": "1.5.0",
            "_model_name": "HBoxModel",
            "_view_count": null,
            "_view_module": "@jupyter-widgets/controls",
            "_view_module_version": "1.5.0",
            "_view_name": "HBoxView",
            "box_style": "",
            "children": [
              "IPY_MODEL_f076e5bcac3747fa99eaea983b6b8ee0",
              "IPY_MODEL_2054a2fdfd69449c896b14d24e15c815",
              "IPY_MODEL_6fae036b21ae4f288d48864e1f86da36"
            ],
            "layout": "IPY_MODEL_7efd7c1439c64c17b5a642fae8a887e5"
          }
        },
        "f076e5bcac3747fa99eaea983b6b8ee0": {
          "model_module": "@jupyter-widgets/controls",
          "model_name": "HTMLModel",
          "model_module_version": "1.5.0",
          "state": {
            "_dom_classes": [],
            "_model_module": "@jupyter-widgets/controls",
            "_model_module_version": "1.5.0",
            "_model_name": "HTMLModel",
            "_view_count": null,
            "_view_module": "@jupyter-widgets/controls",
            "_view_module_version": "1.5.0",
            "_view_name": "HTMLView",
            "description": "",
            "description_tooltip": null,
            "layout": "IPY_MODEL_fb14d5ad074c4ef080e2379af75ee8f1",
            "placeholder": "​",
            "style": "IPY_MODEL_fa6b5cc5e98b4143bef3b81269065aa3",
            "value": "vocab.txt: 100%"
          }
        },
        "2054a2fdfd69449c896b14d24e15c815": {
          "model_module": "@jupyter-widgets/controls",
          "model_name": "FloatProgressModel",
          "model_module_version": "1.5.0",
          "state": {
            "_dom_classes": [],
            "_model_module": "@jupyter-widgets/controls",
            "_model_module_version": "1.5.0",
            "_model_name": "FloatProgressModel",
            "_view_count": null,
            "_view_module": "@jupyter-widgets/controls",
            "_view_module_version": "1.5.0",
            "_view_name": "ProgressView",
            "bar_style": "success",
            "description": "",
            "description_tooltip": null,
            "layout": "IPY_MODEL_0f9ad6f85da248d794679160b31611f7",
            "max": 231508,
            "min": 0,
            "orientation": "horizontal",
            "style": "IPY_MODEL_9e72ddb0b63c40e6b6526db5b972b127",
            "value": 231508
          }
        },
        "6fae036b21ae4f288d48864e1f86da36": {
          "model_module": "@jupyter-widgets/controls",
          "model_name": "HTMLModel",
          "model_module_version": "1.5.0",
          "state": {
            "_dom_classes": [],
            "_model_module": "@jupyter-widgets/controls",
            "_model_module_version": "1.5.0",
            "_model_name": "HTMLModel",
            "_view_count": null,
            "_view_module": "@jupyter-widgets/controls",
            "_view_module_version": "1.5.0",
            "_view_name": "HTMLView",
            "description": "",
            "description_tooltip": null,
            "layout": "IPY_MODEL_114a667d3e3d40e682825abc6a27d6cf",
            "placeholder": "​",
            "style": "IPY_MODEL_2db83f6cd5ff45848b457bb954bc2f12",
            "value": " 232k/232k [00:00&lt;00:00, 1.08MB/s]"
          }
        },
        "7efd7c1439c64c17b5a642fae8a887e5": {
          "model_module": "@jupyter-widgets/base",
          "model_name": "LayoutModel",
          "model_module_version": "1.2.0",
          "state": {
            "_model_module": "@jupyter-widgets/base",
            "_model_module_version": "1.2.0",
            "_model_name": "LayoutModel",
            "_view_count": null,
            "_view_module": "@jupyter-widgets/base",
            "_view_module_version": "1.2.0",
            "_view_name": "LayoutView",
            "align_content": null,
            "align_items": null,
            "align_self": null,
            "border": null,
            "bottom": null,
            "display": null,
            "flex": null,
            "flex_flow": null,
            "grid_area": null,
            "grid_auto_columns": null,
            "grid_auto_flow": null,
            "grid_auto_rows": null,
            "grid_column": null,
            "grid_gap": null,
            "grid_row": null,
            "grid_template_areas": null,
            "grid_template_columns": null,
            "grid_template_rows": null,
            "height": null,
            "justify_content": null,
            "justify_items": null,
            "left": null,
            "margin": null,
            "max_height": null,
            "max_width": null,
            "min_height": null,
            "min_width": null,
            "object_fit": null,
            "object_position": null,
            "order": null,
            "overflow": null,
            "overflow_x": null,
            "overflow_y": null,
            "padding": null,
            "right": null,
            "top": null,
            "visibility": null,
            "width": null
          }
        },
        "fb14d5ad074c4ef080e2379af75ee8f1": {
          "model_module": "@jupyter-widgets/base",
          "model_name": "LayoutModel",
          "model_module_version": "1.2.0",
          "state": {
            "_model_module": "@jupyter-widgets/base",
            "_model_module_version": "1.2.0",
            "_model_name": "LayoutModel",
            "_view_count": null,
            "_view_module": "@jupyter-widgets/base",
            "_view_module_version": "1.2.0",
            "_view_name": "LayoutView",
            "align_content": null,
            "align_items": null,
            "align_self": null,
            "border": null,
            "bottom": null,
            "display": null,
            "flex": null,
            "flex_flow": null,
            "grid_area": null,
            "grid_auto_columns": null,
            "grid_auto_flow": null,
            "grid_auto_rows": null,
            "grid_column": null,
            "grid_gap": null,
            "grid_row": null,
            "grid_template_areas": null,
            "grid_template_columns": null,
            "grid_template_rows": null,
            "height": null,
            "justify_content": null,
            "justify_items": null,
            "left": null,
            "margin": null,
            "max_height": null,
            "max_width": null,
            "min_height": null,
            "min_width": null,
            "object_fit": null,
            "object_position": null,
            "order": null,
            "overflow": null,
            "overflow_x": null,
            "overflow_y": null,
            "padding": null,
            "right": null,
            "top": null,
            "visibility": null,
            "width": null
          }
        },
        "fa6b5cc5e98b4143bef3b81269065aa3": {
          "model_module": "@jupyter-widgets/controls",
          "model_name": "DescriptionStyleModel",
          "model_module_version": "1.5.0",
          "state": {
            "_model_module": "@jupyter-widgets/controls",
            "_model_module_version": "1.5.0",
            "_model_name": "DescriptionStyleModel",
            "_view_count": null,
            "_view_module": "@jupyter-widgets/base",
            "_view_module_version": "1.2.0",
            "_view_name": "StyleView",
            "description_width": ""
          }
        },
        "0f9ad6f85da248d794679160b31611f7": {
          "model_module": "@jupyter-widgets/base",
          "model_name": "LayoutModel",
          "model_module_version": "1.2.0",
          "state": {
            "_model_module": "@jupyter-widgets/base",
            "_model_module_version": "1.2.0",
            "_model_name": "LayoutModel",
            "_view_count": null,
            "_view_module": "@jupyter-widgets/base",
            "_view_module_version": "1.2.0",
            "_view_name": "LayoutView",
            "align_content": null,
            "align_items": null,
            "align_self": null,
            "border": null,
            "bottom": null,
            "display": null,
            "flex": null,
            "flex_flow": null,
            "grid_area": null,
            "grid_auto_columns": null,
            "grid_auto_flow": null,
            "grid_auto_rows": null,
            "grid_column": null,
            "grid_gap": null,
            "grid_row": null,
            "grid_template_areas": null,
            "grid_template_columns": null,
            "grid_template_rows": null,
            "height": null,
            "justify_content": null,
            "justify_items": null,
            "left": null,
            "margin": null,
            "max_height": null,
            "max_width": null,
            "min_height": null,
            "min_width": null,
            "object_fit": null,
            "object_position": null,
            "order": null,
            "overflow": null,
            "overflow_x": null,
            "overflow_y": null,
            "padding": null,
            "right": null,
            "top": null,
            "visibility": null,
            "width": null
          }
        },
        "9e72ddb0b63c40e6b6526db5b972b127": {
          "model_module": "@jupyter-widgets/controls",
          "model_name": "ProgressStyleModel",
          "model_module_version": "1.5.0",
          "state": {
            "_model_module": "@jupyter-widgets/controls",
            "_model_module_version": "1.5.0",
            "_model_name": "ProgressStyleModel",
            "_view_count": null,
            "_view_module": "@jupyter-widgets/base",
            "_view_module_version": "1.2.0",
            "_view_name": "StyleView",
            "bar_color": null,
            "description_width": ""
          }
        },
        "114a667d3e3d40e682825abc6a27d6cf": {
          "model_module": "@jupyter-widgets/base",
          "model_name": "LayoutModel",
          "model_module_version": "1.2.0",
          "state": {
            "_model_module": "@jupyter-widgets/base",
            "_model_module_version": "1.2.0",
            "_model_name": "LayoutModel",
            "_view_count": null,
            "_view_module": "@jupyter-widgets/base",
            "_view_module_version": "1.2.0",
            "_view_name": "LayoutView",
            "align_content": null,
            "align_items": null,
            "align_self": null,
            "border": null,
            "bottom": null,
            "display": null,
            "flex": null,
            "flex_flow": null,
            "grid_area": null,
            "grid_auto_columns": null,
            "grid_auto_flow": null,
            "grid_auto_rows": null,
            "grid_column": null,
            "grid_gap": null,
            "grid_row": null,
            "grid_template_areas": null,
            "grid_template_columns": null,
            "grid_template_rows": null,
            "height": null,
            "justify_content": null,
            "justify_items": null,
            "left": null,
            "margin": null,
            "max_height": null,
            "max_width": null,
            "min_height": null,
            "min_width": null,
            "object_fit": null,
            "object_position": null,
            "order": null,
            "overflow": null,
            "overflow_x": null,
            "overflow_y": null,
            "padding": null,
            "right": null,
            "top": null,
            "visibility": null,
            "width": null
          }
        },
        "2db83f6cd5ff45848b457bb954bc2f12": {
          "model_module": "@jupyter-widgets/controls",
          "model_name": "DescriptionStyleModel",
          "model_module_version": "1.5.0",
          "state": {
            "_model_module": "@jupyter-widgets/controls",
            "_model_module_version": "1.5.0",
            "_model_name": "DescriptionStyleModel",
            "_view_count": null,
            "_view_module": "@jupyter-widgets/base",
            "_view_module_version": "1.2.0",
            "_view_name": "StyleView",
            "description_width": ""
          }
        },
        "e255fb514c6b4ed1ad6374fe6ea347da": {
          "model_module": "@jupyter-widgets/controls",
          "model_name": "HBoxModel",
          "model_module_version": "1.5.0",
          "state": {
            "_dom_classes": [],
            "_model_module": "@jupyter-widgets/controls",
            "_model_module_version": "1.5.0",
            "_model_name": "HBoxModel",
            "_view_count": null,
            "_view_module": "@jupyter-widgets/controls",
            "_view_module_version": "1.5.0",
            "_view_name": "HBoxView",
            "box_style": "",
            "children": [
              "IPY_MODEL_0b632a0bb5ed40a69b23d72a78365bba",
              "IPY_MODEL_d5b1a4e56b1c413cb4486b94847fbbce",
              "IPY_MODEL_242eb02eb6754f629a4680d3f7783ddd"
            ],
            "layout": "IPY_MODEL_94bd2b0823ac4d7996cf0eb9b5192ffd"
          }
        },
        "0b632a0bb5ed40a69b23d72a78365bba": {
          "model_module": "@jupyter-widgets/controls",
          "model_name": "HTMLModel",
          "model_module_version": "1.5.0",
          "state": {
            "_dom_classes": [],
            "_model_module": "@jupyter-widgets/controls",
            "_model_module_version": "1.5.0",
            "_model_name": "HTMLModel",
            "_view_count": null,
            "_view_module": "@jupyter-widgets/controls",
            "_view_module_version": "1.5.0",
            "_view_name": "HTMLView",
            "description": "",
            "description_tooltip": null,
            "layout": "IPY_MODEL_cd441c420bae439e84a641a8ee15689e",
            "placeholder": "​",
            "style": "IPY_MODEL_5bb73eb27e5d4096ae7785abd4d3a296",
            "value": "tokenizer.json: 100%"
          }
        },
        "d5b1a4e56b1c413cb4486b94847fbbce": {
          "model_module": "@jupyter-widgets/controls",
          "model_name": "FloatProgressModel",
          "model_module_version": "1.5.0",
          "state": {
            "_dom_classes": [],
            "_model_module": "@jupyter-widgets/controls",
            "_model_module_version": "1.5.0",
            "_model_name": "FloatProgressModel",
            "_view_count": null,
            "_view_module": "@jupyter-widgets/controls",
            "_view_module_version": "1.5.0",
            "_view_name": "ProgressView",
            "bar_style": "success",
            "description": "",
            "description_tooltip": null,
            "layout": "IPY_MODEL_61eb6cefde4a485e80cc3d40940f0955",
            "max": 466062,
            "min": 0,
            "orientation": "horizontal",
            "style": "IPY_MODEL_964f6fb31a2947a4899d9a87cd701f7e",
            "value": 466062
          }
        },
        "242eb02eb6754f629a4680d3f7783ddd": {
          "model_module": "@jupyter-widgets/controls",
          "model_name": "HTMLModel",
          "model_module_version": "1.5.0",
          "state": {
            "_dom_classes": [],
            "_model_module": "@jupyter-widgets/controls",
            "_model_module_version": "1.5.0",
            "_model_name": "HTMLModel",
            "_view_count": null,
            "_view_module": "@jupyter-widgets/controls",
            "_view_module_version": "1.5.0",
            "_view_name": "HTMLView",
            "description": "",
            "description_tooltip": null,
            "layout": "IPY_MODEL_bfda865e5e224835af9b88515f93d213",
            "placeholder": "​",
            "style": "IPY_MODEL_886a116a79034256928caf709a5f3f68",
            "value": " 466k/466k [00:00&lt;00:00, 2.05MB/s]"
          }
        },
        "94bd2b0823ac4d7996cf0eb9b5192ffd": {
          "model_module": "@jupyter-widgets/base",
          "model_name": "LayoutModel",
          "model_module_version": "1.2.0",
          "state": {
            "_model_module": "@jupyter-widgets/base",
            "_model_module_version": "1.2.0",
            "_model_name": "LayoutModel",
            "_view_count": null,
            "_view_module": "@jupyter-widgets/base",
            "_view_module_version": "1.2.0",
            "_view_name": "LayoutView",
            "align_content": null,
            "align_items": null,
            "align_self": null,
            "border": null,
            "bottom": null,
            "display": null,
            "flex": null,
            "flex_flow": null,
            "grid_area": null,
            "grid_auto_columns": null,
            "grid_auto_flow": null,
            "grid_auto_rows": null,
            "grid_column": null,
            "grid_gap": null,
            "grid_row": null,
            "grid_template_areas": null,
            "grid_template_columns": null,
            "grid_template_rows": null,
            "height": null,
            "justify_content": null,
            "justify_items": null,
            "left": null,
            "margin": null,
            "max_height": null,
            "max_width": null,
            "min_height": null,
            "min_width": null,
            "object_fit": null,
            "object_position": null,
            "order": null,
            "overflow": null,
            "overflow_x": null,
            "overflow_y": null,
            "padding": null,
            "right": null,
            "top": null,
            "visibility": null,
            "width": null
          }
        },
        "cd441c420bae439e84a641a8ee15689e": {
          "model_module": "@jupyter-widgets/base",
          "model_name": "LayoutModel",
          "model_module_version": "1.2.0",
          "state": {
            "_model_module": "@jupyter-widgets/base",
            "_model_module_version": "1.2.0",
            "_model_name": "LayoutModel",
            "_view_count": null,
            "_view_module": "@jupyter-widgets/base",
            "_view_module_version": "1.2.0",
            "_view_name": "LayoutView",
            "align_content": null,
            "align_items": null,
            "align_self": null,
            "border": null,
            "bottom": null,
            "display": null,
            "flex": null,
            "flex_flow": null,
            "grid_area": null,
            "grid_auto_columns": null,
            "grid_auto_flow": null,
            "grid_auto_rows": null,
            "grid_column": null,
            "grid_gap": null,
            "grid_row": null,
            "grid_template_areas": null,
            "grid_template_columns": null,
            "grid_template_rows": null,
            "height": null,
            "justify_content": null,
            "justify_items": null,
            "left": null,
            "margin": null,
            "max_height": null,
            "max_width": null,
            "min_height": null,
            "min_width": null,
            "object_fit": null,
            "object_position": null,
            "order": null,
            "overflow": null,
            "overflow_x": null,
            "overflow_y": null,
            "padding": null,
            "right": null,
            "top": null,
            "visibility": null,
            "width": null
          }
        },
        "5bb73eb27e5d4096ae7785abd4d3a296": {
          "model_module": "@jupyter-widgets/controls",
          "model_name": "DescriptionStyleModel",
          "model_module_version": "1.5.0",
          "state": {
            "_model_module": "@jupyter-widgets/controls",
            "_model_module_version": "1.5.0",
            "_model_name": "DescriptionStyleModel",
            "_view_count": null,
            "_view_module": "@jupyter-widgets/base",
            "_view_module_version": "1.2.0",
            "_view_name": "StyleView",
            "description_width": ""
          }
        },
        "61eb6cefde4a485e80cc3d40940f0955": {
          "model_module": "@jupyter-widgets/base",
          "model_name": "LayoutModel",
          "model_module_version": "1.2.0",
          "state": {
            "_model_module": "@jupyter-widgets/base",
            "_model_module_version": "1.2.0",
            "_model_name": "LayoutModel",
            "_view_count": null,
            "_view_module": "@jupyter-widgets/base",
            "_view_module_version": "1.2.0",
            "_view_name": "LayoutView",
            "align_content": null,
            "align_items": null,
            "align_self": null,
            "border": null,
            "bottom": null,
            "display": null,
            "flex": null,
            "flex_flow": null,
            "grid_area": null,
            "grid_auto_columns": null,
            "grid_auto_flow": null,
            "grid_auto_rows": null,
            "grid_column": null,
            "grid_gap": null,
            "grid_row": null,
            "grid_template_areas": null,
            "grid_template_columns": null,
            "grid_template_rows": null,
            "height": null,
            "justify_content": null,
            "justify_items": null,
            "left": null,
            "margin": null,
            "max_height": null,
            "max_width": null,
            "min_height": null,
            "min_width": null,
            "object_fit": null,
            "object_position": null,
            "order": null,
            "overflow": null,
            "overflow_x": null,
            "overflow_y": null,
            "padding": null,
            "right": null,
            "top": null,
            "visibility": null,
            "width": null
          }
        },
        "964f6fb31a2947a4899d9a87cd701f7e": {
          "model_module": "@jupyter-widgets/controls",
          "model_name": "ProgressStyleModel",
          "model_module_version": "1.5.0",
          "state": {
            "_model_module": "@jupyter-widgets/controls",
            "_model_module_version": "1.5.0",
            "_model_name": "ProgressStyleModel",
            "_view_count": null,
            "_view_module": "@jupyter-widgets/base",
            "_view_module_version": "1.2.0",
            "_view_name": "StyleView",
            "bar_color": null,
            "description_width": ""
          }
        },
        "bfda865e5e224835af9b88515f93d213": {
          "model_module": "@jupyter-widgets/base",
          "model_name": "LayoutModel",
          "model_module_version": "1.2.0",
          "state": {
            "_model_module": "@jupyter-widgets/base",
            "_model_module_version": "1.2.0",
            "_model_name": "LayoutModel",
            "_view_count": null,
            "_view_module": "@jupyter-widgets/base",
            "_view_module_version": "1.2.0",
            "_view_name": "LayoutView",
            "align_content": null,
            "align_items": null,
            "align_self": null,
            "border": null,
            "bottom": null,
            "display": null,
            "flex": null,
            "flex_flow": null,
            "grid_area": null,
            "grid_auto_columns": null,
            "grid_auto_flow": null,
            "grid_auto_rows": null,
            "grid_column": null,
            "grid_gap": null,
            "grid_row": null,
            "grid_template_areas": null,
            "grid_template_columns": null,
            "grid_template_rows": null,
            "height": null,
            "justify_content": null,
            "justify_items": null,
            "left": null,
            "margin": null,
            "max_height": null,
            "max_width": null,
            "min_height": null,
            "min_width": null,
            "object_fit": null,
            "object_position": null,
            "order": null,
            "overflow": null,
            "overflow_x": null,
            "overflow_y": null,
            "padding": null,
            "right": null,
            "top": null,
            "visibility": null,
            "width": null
          }
        },
        "886a116a79034256928caf709a5f3f68": {
          "model_module": "@jupyter-widgets/controls",
          "model_name": "DescriptionStyleModel",
          "model_module_version": "1.5.0",
          "state": {
            "_model_module": "@jupyter-widgets/controls",
            "_model_module_version": "1.5.0",
            "_model_name": "DescriptionStyleModel",
            "_view_count": null,
            "_view_module": "@jupyter-widgets/base",
            "_view_module_version": "1.2.0",
            "_view_name": "StyleView",
            "description_width": ""
          }
        },
        "5f0e1cdf905a49669646a4dcaf3cd425": {
          "model_module": "@jupyter-widgets/controls",
          "model_name": "HBoxModel",
          "model_module_version": "1.5.0",
          "state": {
            "_dom_classes": [],
            "_model_module": "@jupyter-widgets/controls",
            "_model_module_version": "1.5.0",
            "_model_name": "HBoxModel",
            "_view_count": null,
            "_view_module": "@jupyter-widgets/controls",
            "_view_module_version": "1.5.0",
            "_view_name": "HBoxView",
            "box_style": "",
            "children": [
              "IPY_MODEL_fe9ed661052a4e7da4dcba12b7698e4b",
              "IPY_MODEL_b5828ed524d44e8f862bfc6d024b6205",
              "IPY_MODEL_1451fcd2c8dc4bcbbd60bbc797f2dbc1"
            ],
            "layout": "IPY_MODEL_f3660a956f9f43b19d425bce262f210c"
          }
        },
        "fe9ed661052a4e7da4dcba12b7698e4b": {
          "model_module": "@jupyter-widgets/controls",
          "model_name": "HTMLModel",
          "model_module_version": "1.5.0",
          "state": {
            "_dom_classes": [],
            "_model_module": "@jupyter-widgets/controls",
            "_model_module_version": "1.5.0",
            "_model_name": "HTMLModel",
            "_view_count": null,
            "_view_module": "@jupyter-widgets/controls",
            "_view_module_version": "1.5.0",
            "_view_name": "HTMLView",
            "description": "",
            "description_tooltip": null,
            "layout": "IPY_MODEL_e49c63ae315e4d5b84f6628c6364fc9b",
            "placeholder": "​",
            "style": "IPY_MODEL_84241e3ed1534cde96e6753e05d59e45",
            "value": "config.json: 100%"
          }
        },
        "b5828ed524d44e8f862bfc6d024b6205": {
          "model_module": "@jupyter-widgets/controls",
          "model_name": "FloatProgressModel",
          "model_module_version": "1.5.0",
          "state": {
            "_dom_classes": [],
            "_model_module": "@jupyter-widgets/controls",
            "_model_module_version": "1.5.0",
            "_model_name": "FloatProgressModel",
            "_view_count": null,
            "_view_module": "@jupyter-widgets/controls",
            "_view_module_version": "1.5.0",
            "_view_name": "ProgressView",
            "bar_style": "success",
            "description": "",
            "description_tooltip": null,
            "layout": "IPY_MODEL_2359569b28d1411ab9200781138b9cf3",
            "max": 570,
            "min": 0,
            "orientation": "horizontal",
            "style": "IPY_MODEL_6bf4279f35f24d4086c65eb5f26433ed",
            "value": 570
          }
        },
        "1451fcd2c8dc4bcbbd60bbc797f2dbc1": {
          "model_module": "@jupyter-widgets/controls",
          "model_name": "HTMLModel",
          "model_module_version": "1.5.0",
          "state": {
            "_dom_classes": [],
            "_model_module": "@jupyter-widgets/controls",
            "_model_module_version": "1.5.0",
            "_model_name": "HTMLModel",
            "_view_count": null,
            "_view_module": "@jupyter-widgets/controls",
            "_view_module_version": "1.5.0",
            "_view_name": "HTMLView",
            "description": "",
            "description_tooltip": null,
            "layout": "IPY_MODEL_a0373f15c442459c83986aa8728ef036",
            "placeholder": "​",
            "style": "IPY_MODEL_f7138d9986e4446c89a51d6af09f2373",
            "value": " 570/570 [00:00&lt;00:00, 63.2kB/s]"
          }
        },
        "f3660a956f9f43b19d425bce262f210c": {
          "model_module": "@jupyter-widgets/base",
          "model_name": "LayoutModel",
          "model_module_version": "1.2.0",
          "state": {
            "_model_module": "@jupyter-widgets/base",
            "_model_module_version": "1.2.0",
            "_model_name": "LayoutModel",
            "_view_count": null,
            "_view_module": "@jupyter-widgets/base",
            "_view_module_version": "1.2.0",
            "_view_name": "LayoutView",
            "align_content": null,
            "align_items": null,
            "align_self": null,
            "border": null,
            "bottom": null,
            "display": null,
            "flex": null,
            "flex_flow": null,
            "grid_area": null,
            "grid_auto_columns": null,
            "grid_auto_flow": null,
            "grid_auto_rows": null,
            "grid_column": null,
            "grid_gap": null,
            "grid_row": null,
            "grid_template_areas": null,
            "grid_template_columns": null,
            "grid_template_rows": null,
            "height": null,
            "justify_content": null,
            "justify_items": null,
            "left": null,
            "margin": null,
            "max_height": null,
            "max_width": null,
            "min_height": null,
            "min_width": null,
            "object_fit": null,
            "object_position": null,
            "order": null,
            "overflow": null,
            "overflow_x": null,
            "overflow_y": null,
            "padding": null,
            "right": null,
            "top": null,
            "visibility": null,
            "width": null
          }
        },
        "e49c63ae315e4d5b84f6628c6364fc9b": {
          "model_module": "@jupyter-widgets/base",
          "model_name": "LayoutModel",
          "model_module_version": "1.2.0",
          "state": {
            "_model_module": "@jupyter-widgets/base",
            "_model_module_version": "1.2.0",
            "_model_name": "LayoutModel",
            "_view_count": null,
            "_view_module": "@jupyter-widgets/base",
            "_view_module_version": "1.2.0",
            "_view_name": "LayoutView",
            "align_content": null,
            "align_items": null,
            "align_self": null,
            "border": null,
            "bottom": null,
            "display": null,
            "flex": null,
            "flex_flow": null,
            "grid_area": null,
            "grid_auto_columns": null,
            "grid_auto_flow": null,
            "grid_auto_rows": null,
            "grid_column": null,
            "grid_gap": null,
            "grid_row": null,
            "grid_template_areas": null,
            "grid_template_columns": null,
            "grid_template_rows": null,
            "height": null,
            "justify_content": null,
            "justify_items": null,
            "left": null,
            "margin": null,
            "max_height": null,
            "max_width": null,
            "min_height": null,
            "min_width": null,
            "object_fit": null,
            "object_position": null,
            "order": null,
            "overflow": null,
            "overflow_x": null,
            "overflow_y": null,
            "padding": null,
            "right": null,
            "top": null,
            "visibility": null,
            "width": null
          }
        },
        "84241e3ed1534cde96e6753e05d59e45": {
          "model_module": "@jupyter-widgets/controls",
          "model_name": "DescriptionStyleModel",
          "model_module_version": "1.5.0",
          "state": {
            "_model_module": "@jupyter-widgets/controls",
            "_model_module_version": "1.5.0",
            "_model_name": "DescriptionStyleModel",
            "_view_count": null,
            "_view_module": "@jupyter-widgets/base",
            "_view_module_version": "1.2.0",
            "_view_name": "StyleView",
            "description_width": ""
          }
        },
        "2359569b28d1411ab9200781138b9cf3": {
          "model_module": "@jupyter-widgets/base",
          "model_name": "LayoutModel",
          "model_module_version": "1.2.0",
          "state": {
            "_model_module": "@jupyter-widgets/base",
            "_model_module_version": "1.2.0",
            "_model_name": "LayoutModel",
            "_view_count": null,
            "_view_module": "@jupyter-widgets/base",
            "_view_module_version": "1.2.0",
            "_view_name": "LayoutView",
            "align_content": null,
            "align_items": null,
            "align_self": null,
            "border": null,
            "bottom": null,
            "display": null,
            "flex": null,
            "flex_flow": null,
            "grid_area": null,
            "grid_auto_columns": null,
            "grid_auto_flow": null,
            "grid_auto_rows": null,
            "grid_column": null,
            "grid_gap": null,
            "grid_row": null,
            "grid_template_areas": null,
            "grid_template_columns": null,
            "grid_template_rows": null,
            "height": null,
            "justify_content": null,
            "justify_items": null,
            "left": null,
            "margin": null,
            "max_height": null,
            "max_width": null,
            "min_height": null,
            "min_width": null,
            "object_fit": null,
            "object_position": null,
            "order": null,
            "overflow": null,
            "overflow_x": null,
            "overflow_y": null,
            "padding": null,
            "right": null,
            "top": null,
            "visibility": null,
            "width": null
          }
        },
        "6bf4279f35f24d4086c65eb5f26433ed": {
          "model_module": "@jupyter-widgets/controls",
          "model_name": "ProgressStyleModel",
          "model_module_version": "1.5.0",
          "state": {
            "_model_module": "@jupyter-widgets/controls",
            "_model_module_version": "1.5.0",
            "_model_name": "ProgressStyleModel",
            "_view_count": null,
            "_view_module": "@jupyter-widgets/base",
            "_view_module_version": "1.2.0",
            "_view_name": "StyleView",
            "bar_color": null,
            "description_width": ""
          }
        },
        "a0373f15c442459c83986aa8728ef036": {
          "model_module": "@jupyter-widgets/base",
          "model_name": "LayoutModel",
          "model_module_version": "1.2.0",
          "state": {
            "_model_module": "@jupyter-widgets/base",
            "_model_module_version": "1.2.0",
            "_model_name": "LayoutModel",
            "_view_count": null,
            "_view_module": "@jupyter-widgets/base",
            "_view_module_version": "1.2.0",
            "_view_name": "LayoutView",
            "align_content": null,
            "align_items": null,
            "align_self": null,
            "border": null,
            "bottom": null,
            "display": null,
            "flex": null,
            "flex_flow": null,
            "grid_area": null,
            "grid_auto_columns": null,
            "grid_auto_flow": null,
            "grid_auto_rows": null,
            "grid_column": null,
            "grid_gap": null,
            "grid_row": null,
            "grid_template_areas": null,
            "grid_template_columns": null,
            "grid_template_rows": null,
            "height": null,
            "justify_content": null,
            "justify_items": null,
            "left": null,
            "margin": null,
            "max_height": null,
            "max_width": null,
            "min_height": null,
            "min_width": null,
            "object_fit": null,
            "object_position": null,
            "order": null,
            "overflow": null,
            "overflow_x": null,
            "overflow_y": null,
            "padding": null,
            "right": null,
            "top": null,
            "visibility": null,
            "width": null
          }
        },
        "f7138d9986e4446c89a51d6af09f2373": {
          "model_module": "@jupyter-widgets/controls",
          "model_name": "DescriptionStyleModel",
          "model_module_version": "1.5.0",
          "state": {
            "_model_module": "@jupyter-widgets/controls",
            "_model_module_version": "1.5.0",
            "_model_name": "DescriptionStyleModel",
            "_view_count": null,
            "_view_module": "@jupyter-widgets/base",
            "_view_module_version": "1.2.0",
            "_view_name": "StyleView",
            "description_width": ""
          }
        },
        "b4579411cf1543ce87027b47c48d5010": {
          "model_module": "@jupyter-widgets/controls",
          "model_name": "HBoxModel",
          "model_module_version": "1.5.0",
          "state": {
            "_dom_classes": [],
            "_model_module": "@jupyter-widgets/controls",
            "_model_module_version": "1.5.0",
            "_model_name": "HBoxModel",
            "_view_count": null,
            "_view_module": "@jupyter-widgets/controls",
            "_view_module_version": "1.5.0",
            "_view_name": "HBoxView",
            "box_style": "",
            "children": [
              "IPY_MODEL_bcd3f60c43154ccfa2e7ede7cee2a540",
              "IPY_MODEL_00c59902be984740963916f6701a3b02",
              "IPY_MODEL_af476776f33b46a7b2806ea08f5c11dc"
            ],
            "layout": "IPY_MODEL_0305aa860d8841edafebecc57e8d8c3c"
          }
        },
        "bcd3f60c43154ccfa2e7ede7cee2a540": {
          "model_module": "@jupyter-widgets/controls",
          "model_name": "HTMLModel",
          "model_module_version": "1.5.0",
          "state": {
            "_dom_classes": [],
            "_model_module": "@jupyter-widgets/controls",
            "_model_module_version": "1.5.0",
            "_model_name": "HTMLModel",
            "_view_count": null,
            "_view_module": "@jupyter-widgets/controls",
            "_view_module_version": "1.5.0",
            "_view_name": "HTMLView",
            "description": "",
            "description_tooltip": null,
            "layout": "IPY_MODEL_5c4c4137c178462f8f1afeb10f0ba8c9",
            "placeholder": "​",
            "style": "IPY_MODEL_a4336596e2cc47218e43fbe4a2008e57",
            "value": "Map: 100%"
          }
        },
        "00c59902be984740963916f6701a3b02": {
          "model_module": "@jupyter-widgets/controls",
          "model_name": "FloatProgressModel",
          "model_module_version": "1.5.0",
          "state": {
            "_dom_classes": [],
            "_model_module": "@jupyter-widgets/controls",
            "_model_module_version": "1.5.0",
            "_model_name": "FloatProgressModel",
            "_view_count": null,
            "_view_module": "@jupyter-widgets/controls",
            "_view_module_version": "1.5.0",
            "_view_name": "ProgressView",
            "bar_style": "success",
            "description": "",
            "description_tooltip": null,
            "layout": "IPY_MODEL_79b88702d7274944930bb492d24795b8",
            "max": 25000,
            "min": 0,
            "orientation": "horizontal",
            "style": "IPY_MODEL_6d1f4d7958aa4da193532d72cb2eadbf",
            "value": 25000
          }
        },
        "af476776f33b46a7b2806ea08f5c11dc": {
          "model_module": "@jupyter-widgets/controls",
          "model_name": "HTMLModel",
          "model_module_version": "1.5.0",
          "state": {
            "_dom_classes": [],
            "_model_module": "@jupyter-widgets/controls",
            "_model_module_version": "1.5.0",
            "_model_name": "HTMLModel",
            "_view_count": null,
            "_view_module": "@jupyter-widgets/controls",
            "_view_module_version": "1.5.0",
            "_view_name": "HTMLView",
            "description": "",
            "description_tooltip": null,
            "layout": "IPY_MODEL_7432720c6a1846e3aba4d84419da45cd",
            "placeholder": "​",
            "style": "IPY_MODEL_c2c72b23ea3c4ee2b6d5f5ecfd04c522",
            "value": " 25000/25000 [00:12&lt;00:00, 2886.16 examples/s]"
          }
        },
        "0305aa860d8841edafebecc57e8d8c3c": {
          "model_module": "@jupyter-widgets/base",
          "model_name": "LayoutModel",
          "model_module_version": "1.2.0",
          "state": {
            "_model_module": "@jupyter-widgets/base",
            "_model_module_version": "1.2.0",
            "_model_name": "LayoutModel",
            "_view_count": null,
            "_view_module": "@jupyter-widgets/base",
            "_view_module_version": "1.2.0",
            "_view_name": "LayoutView",
            "align_content": null,
            "align_items": null,
            "align_self": null,
            "border": null,
            "bottom": null,
            "display": null,
            "flex": null,
            "flex_flow": null,
            "grid_area": null,
            "grid_auto_columns": null,
            "grid_auto_flow": null,
            "grid_auto_rows": null,
            "grid_column": null,
            "grid_gap": null,
            "grid_row": null,
            "grid_template_areas": null,
            "grid_template_columns": null,
            "grid_template_rows": null,
            "height": null,
            "justify_content": null,
            "justify_items": null,
            "left": null,
            "margin": null,
            "max_height": null,
            "max_width": null,
            "min_height": null,
            "min_width": null,
            "object_fit": null,
            "object_position": null,
            "order": null,
            "overflow": null,
            "overflow_x": null,
            "overflow_y": null,
            "padding": null,
            "right": null,
            "top": null,
            "visibility": null,
            "width": null
          }
        },
        "5c4c4137c178462f8f1afeb10f0ba8c9": {
          "model_module": "@jupyter-widgets/base",
          "model_name": "LayoutModel",
          "model_module_version": "1.2.0",
          "state": {
            "_model_module": "@jupyter-widgets/base",
            "_model_module_version": "1.2.0",
            "_model_name": "LayoutModel",
            "_view_count": null,
            "_view_module": "@jupyter-widgets/base",
            "_view_module_version": "1.2.0",
            "_view_name": "LayoutView",
            "align_content": null,
            "align_items": null,
            "align_self": null,
            "border": null,
            "bottom": null,
            "display": null,
            "flex": null,
            "flex_flow": null,
            "grid_area": null,
            "grid_auto_columns": null,
            "grid_auto_flow": null,
            "grid_auto_rows": null,
            "grid_column": null,
            "grid_gap": null,
            "grid_row": null,
            "grid_template_areas": null,
            "grid_template_columns": null,
            "grid_template_rows": null,
            "height": null,
            "justify_content": null,
            "justify_items": null,
            "left": null,
            "margin": null,
            "max_height": null,
            "max_width": null,
            "min_height": null,
            "min_width": null,
            "object_fit": null,
            "object_position": null,
            "order": null,
            "overflow": null,
            "overflow_x": null,
            "overflow_y": null,
            "padding": null,
            "right": null,
            "top": null,
            "visibility": null,
            "width": null
          }
        },
        "a4336596e2cc47218e43fbe4a2008e57": {
          "model_module": "@jupyter-widgets/controls",
          "model_name": "DescriptionStyleModel",
          "model_module_version": "1.5.0",
          "state": {
            "_model_module": "@jupyter-widgets/controls",
            "_model_module_version": "1.5.0",
            "_model_name": "DescriptionStyleModel",
            "_view_count": null,
            "_view_module": "@jupyter-widgets/base",
            "_view_module_version": "1.2.0",
            "_view_name": "StyleView",
            "description_width": ""
          }
        },
        "79b88702d7274944930bb492d24795b8": {
          "model_module": "@jupyter-widgets/base",
          "model_name": "LayoutModel",
          "model_module_version": "1.2.0",
          "state": {
            "_model_module": "@jupyter-widgets/base",
            "_model_module_version": "1.2.0",
            "_model_name": "LayoutModel",
            "_view_count": null,
            "_view_module": "@jupyter-widgets/base",
            "_view_module_version": "1.2.0",
            "_view_name": "LayoutView",
            "align_content": null,
            "align_items": null,
            "align_self": null,
            "border": null,
            "bottom": null,
            "display": null,
            "flex": null,
            "flex_flow": null,
            "grid_area": null,
            "grid_auto_columns": null,
            "grid_auto_flow": null,
            "grid_auto_rows": null,
            "grid_column": null,
            "grid_gap": null,
            "grid_row": null,
            "grid_template_areas": null,
            "grid_template_columns": null,
            "grid_template_rows": null,
            "height": null,
            "justify_content": null,
            "justify_items": null,
            "left": null,
            "margin": null,
            "max_height": null,
            "max_width": null,
            "min_height": null,
            "min_width": null,
            "object_fit": null,
            "object_position": null,
            "order": null,
            "overflow": null,
            "overflow_x": null,
            "overflow_y": null,
            "padding": null,
            "right": null,
            "top": null,
            "visibility": null,
            "width": null
          }
        },
        "6d1f4d7958aa4da193532d72cb2eadbf": {
          "model_module": "@jupyter-widgets/controls",
          "model_name": "ProgressStyleModel",
          "model_module_version": "1.5.0",
          "state": {
            "_model_module": "@jupyter-widgets/controls",
            "_model_module_version": "1.5.0",
            "_model_name": "ProgressStyleModel",
            "_view_count": null,
            "_view_module": "@jupyter-widgets/base",
            "_view_module_version": "1.2.0",
            "_view_name": "StyleView",
            "bar_color": null,
            "description_width": ""
          }
        },
        "7432720c6a1846e3aba4d84419da45cd": {
          "model_module": "@jupyter-widgets/base",
          "model_name": "LayoutModel",
          "model_module_version": "1.2.0",
          "state": {
            "_model_module": "@jupyter-widgets/base",
            "_model_module_version": "1.2.0",
            "_model_name": "LayoutModel",
            "_view_count": null,
            "_view_module": "@jupyter-widgets/base",
            "_view_module_version": "1.2.0",
            "_view_name": "LayoutView",
            "align_content": null,
            "align_items": null,
            "align_self": null,
            "border": null,
            "bottom": null,
            "display": null,
            "flex": null,
            "flex_flow": null,
            "grid_area": null,
            "grid_auto_columns": null,
            "grid_auto_flow": null,
            "grid_auto_rows": null,
            "grid_column": null,
            "grid_gap": null,
            "grid_row": null,
            "grid_template_areas": null,
            "grid_template_columns": null,
            "grid_template_rows": null,
            "height": null,
            "justify_content": null,
            "justify_items": null,
            "left": null,
            "margin": null,
            "max_height": null,
            "max_width": null,
            "min_height": null,
            "min_width": null,
            "object_fit": null,
            "object_position": null,
            "order": null,
            "overflow": null,
            "overflow_x": null,
            "overflow_y": null,
            "padding": null,
            "right": null,
            "top": null,
            "visibility": null,
            "width": null
          }
        },
        "c2c72b23ea3c4ee2b6d5f5ecfd04c522": {
          "model_module": "@jupyter-widgets/controls",
          "model_name": "DescriptionStyleModel",
          "model_module_version": "1.5.0",
          "state": {
            "_model_module": "@jupyter-widgets/controls",
            "_model_module_version": "1.5.0",
            "_model_name": "DescriptionStyleModel",
            "_view_count": null,
            "_view_module": "@jupyter-widgets/base",
            "_view_module_version": "1.2.0",
            "_view_name": "StyleView",
            "description_width": ""
          }
        },
        "3cee401db8e549299078b48c6bec88e3": {
          "model_module": "@jupyter-widgets/controls",
          "model_name": "HBoxModel",
          "model_module_version": "1.5.0",
          "state": {
            "_dom_classes": [],
            "_model_module": "@jupyter-widgets/controls",
            "_model_module_version": "1.5.0",
            "_model_name": "HBoxModel",
            "_view_count": null,
            "_view_module": "@jupyter-widgets/controls",
            "_view_module_version": "1.5.0",
            "_view_name": "HBoxView",
            "box_style": "",
            "children": [
              "IPY_MODEL_4c329a8c386642ec9dc988f838a90ed4",
              "IPY_MODEL_fe9dd2e4b64f4c5fa3895afb917870e9",
              "IPY_MODEL_2b5b08a66dbe4857a96f6073b80de5c3"
            ],
            "layout": "IPY_MODEL_b28f3b67cd8e46619d3b83cdc0bce250"
          }
        },
        "4c329a8c386642ec9dc988f838a90ed4": {
          "model_module": "@jupyter-widgets/controls",
          "model_name": "HTMLModel",
          "model_module_version": "1.5.0",
          "state": {
            "_dom_classes": [],
            "_model_module": "@jupyter-widgets/controls",
            "_model_module_version": "1.5.0",
            "_model_name": "HTMLModel",
            "_view_count": null,
            "_view_module": "@jupyter-widgets/controls",
            "_view_module_version": "1.5.0",
            "_view_name": "HTMLView",
            "description": "",
            "description_tooltip": null,
            "layout": "IPY_MODEL_ea825e92eeb945d689edbc69f72ee872",
            "placeholder": "​",
            "style": "IPY_MODEL_bc1644c1080f4941ae665a615eb09de7",
            "value": "Map: 100%"
          }
        },
        "fe9dd2e4b64f4c5fa3895afb917870e9": {
          "model_module": "@jupyter-widgets/controls",
          "model_name": "FloatProgressModel",
          "model_module_version": "1.5.0",
          "state": {
            "_dom_classes": [],
            "_model_module": "@jupyter-widgets/controls",
            "_model_module_version": "1.5.0",
            "_model_name": "FloatProgressModel",
            "_view_count": null,
            "_view_module": "@jupyter-widgets/controls",
            "_view_module_version": "1.5.0",
            "_view_name": "ProgressView",
            "bar_style": "success",
            "description": "",
            "description_tooltip": null,
            "layout": "IPY_MODEL_52828a14068e47e2b1b21890e9956401",
            "max": 25000,
            "min": 0,
            "orientation": "horizontal",
            "style": "IPY_MODEL_f277b1cbe61f422ebd39fb9737361952",
            "value": 25000
          }
        },
        "2b5b08a66dbe4857a96f6073b80de5c3": {
          "model_module": "@jupyter-widgets/controls",
          "model_name": "HTMLModel",
          "model_module_version": "1.5.0",
          "state": {
            "_dom_classes": [],
            "_model_module": "@jupyter-widgets/controls",
            "_model_module_version": "1.5.0",
            "_model_name": "HTMLModel",
            "_view_count": null,
            "_view_module": "@jupyter-widgets/controls",
            "_view_module_version": "1.5.0",
            "_view_name": "HTMLView",
            "description": "",
            "description_tooltip": null,
            "layout": "IPY_MODEL_803396ef0abe4d309db666992c90e80c",
            "placeholder": "​",
            "style": "IPY_MODEL_e8dc965860054bb0aa94a06325e2bf89",
            "value": " 25000/25000 [00:09&lt;00:00, 2927.49 examples/s]"
          }
        },
        "b28f3b67cd8e46619d3b83cdc0bce250": {
          "model_module": "@jupyter-widgets/base",
          "model_name": "LayoutModel",
          "model_module_version": "1.2.0",
          "state": {
            "_model_module": "@jupyter-widgets/base",
            "_model_module_version": "1.2.0",
            "_model_name": "LayoutModel",
            "_view_count": null,
            "_view_module": "@jupyter-widgets/base",
            "_view_module_version": "1.2.0",
            "_view_name": "LayoutView",
            "align_content": null,
            "align_items": null,
            "align_self": null,
            "border": null,
            "bottom": null,
            "display": null,
            "flex": null,
            "flex_flow": null,
            "grid_area": null,
            "grid_auto_columns": null,
            "grid_auto_flow": null,
            "grid_auto_rows": null,
            "grid_column": null,
            "grid_gap": null,
            "grid_row": null,
            "grid_template_areas": null,
            "grid_template_columns": null,
            "grid_template_rows": null,
            "height": null,
            "justify_content": null,
            "justify_items": null,
            "left": null,
            "margin": null,
            "max_height": null,
            "max_width": null,
            "min_height": null,
            "min_width": null,
            "object_fit": null,
            "object_position": null,
            "order": null,
            "overflow": null,
            "overflow_x": null,
            "overflow_y": null,
            "padding": null,
            "right": null,
            "top": null,
            "visibility": null,
            "width": null
          }
        },
        "ea825e92eeb945d689edbc69f72ee872": {
          "model_module": "@jupyter-widgets/base",
          "model_name": "LayoutModel",
          "model_module_version": "1.2.0",
          "state": {
            "_model_module": "@jupyter-widgets/base",
            "_model_module_version": "1.2.0",
            "_model_name": "LayoutModel",
            "_view_count": null,
            "_view_module": "@jupyter-widgets/base",
            "_view_module_version": "1.2.0",
            "_view_name": "LayoutView",
            "align_content": null,
            "align_items": null,
            "align_self": null,
            "border": null,
            "bottom": null,
            "display": null,
            "flex": null,
            "flex_flow": null,
            "grid_area": null,
            "grid_auto_columns": null,
            "grid_auto_flow": null,
            "grid_auto_rows": null,
            "grid_column": null,
            "grid_gap": null,
            "grid_row": null,
            "grid_template_areas": null,
            "grid_template_columns": null,
            "grid_template_rows": null,
            "height": null,
            "justify_content": null,
            "justify_items": null,
            "left": null,
            "margin": null,
            "max_height": null,
            "max_width": null,
            "min_height": null,
            "min_width": null,
            "object_fit": null,
            "object_position": null,
            "order": null,
            "overflow": null,
            "overflow_x": null,
            "overflow_y": null,
            "padding": null,
            "right": null,
            "top": null,
            "visibility": null,
            "width": null
          }
        },
        "bc1644c1080f4941ae665a615eb09de7": {
          "model_module": "@jupyter-widgets/controls",
          "model_name": "DescriptionStyleModel",
          "model_module_version": "1.5.0",
          "state": {
            "_model_module": "@jupyter-widgets/controls",
            "_model_module_version": "1.5.0",
            "_model_name": "DescriptionStyleModel",
            "_view_count": null,
            "_view_module": "@jupyter-widgets/base",
            "_view_module_version": "1.2.0",
            "_view_name": "StyleView",
            "description_width": ""
          }
        },
        "52828a14068e47e2b1b21890e9956401": {
          "model_module": "@jupyter-widgets/base",
          "model_name": "LayoutModel",
          "model_module_version": "1.2.0",
          "state": {
            "_model_module": "@jupyter-widgets/base",
            "_model_module_version": "1.2.0",
            "_model_name": "LayoutModel",
            "_view_count": null,
            "_view_module": "@jupyter-widgets/base",
            "_view_module_version": "1.2.0",
            "_view_name": "LayoutView",
            "align_content": null,
            "align_items": null,
            "align_self": null,
            "border": null,
            "bottom": null,
            "display": null,
            "flex": null,
            "flex_flow": null,
            "grid_area": null,
            "grid_auto_columns": null,
            "grid_auto_flow": null,
            "grid_auto_rows": null,
            "grid_column": null,
            "grid_gap": null,
            "grid_row": null,
            "grid_template_areas": null,
            "grid_template_columns": null,
            "grid_template_rows": null,
            "height": null,
            "justify_content": null,
            "justify_items": null,
            "left": null,
            "margin": null,
            "max_height": null,
            "max_width": null,
            "min_height": null,
            "min_width": null,
            "object_fit": null,
            "object_position": null,
            "order": null,
            "overflow": null,
            "overflow_x": null,
            "overflow_y": null,
            "padding": null,
            "right": null,
            "top": null,
            "visibility": null,
            "width": null
          }
        },
        "f277b1cbe61f422ebd39fb9737361952": {
          "model_module": "@jupyter-widgets/controls",
          "model_name": "ProgressStyleModel",
          "model_module_version": "1.5.0",
          "state": {
            "_model_module": "@jupyter-widgets/controls",
            "_model_module_version": "1.5.0",
            "_model_name": "ProgressStyleModel",
            "_view_count": null,
            "_view_module": "@jupyter-widgets/base",
            "_view_module_version": "1.2.0",
            "_view_name": "StyleView",
            "bar_color": null,
            "description_width": ""
          }
        },
        "803396ef0abe4d309db666992c90e80c": {
          "model_module": "@jupyter-widgets/base",
          "model_name": "LayoutModel",
          "model_module_version": "1.2.0",
          "state": {
            "_model_module": "@jupyter-widgets/base",
            "_model_module_version": "1.2.0",
            "_model_name": "LayoutModel",
            "_view_count": null,
            "_view_module": "@jupyter-widgets/base",
            "_view_module_version": "1.2.0",
            "_view_name": "LayoutView",
            "align_content": null,
            "align_items": null,
            "align_self": null,
            "border": null,
            "bottom": null,
            "display": null,
            "flex": null,
            "flex_flow": null,
            "grid_area": null,
            "grid_auto_columns": null,
            "grid_auto_flow": null,
            "grid_auto_rows": null,
            "grid_column": null,
            "grid_gap": null,
            "grid_row": null,
            "grid_template_areas": null,
            "grid_template_columns": null,
            "grid_template_rows": null,
            "height": null,
            "justify_content": null,
            "justify_items": null,
            "left": null,
            "margin": null,
            "max_height": null,
            "max_width": null,
            "min_height": null,
            "min_width": null,
            "object_fit": null,
            "object_position": null,
            "order": null,
            "overflow": null,
            "overflow_x": null,
            "overflow_y": null,
            "padding": null,
            "right": null,
            "top": null,
            "visibility": null,
            "width": null
          }
        },
        "e8dc965860054bb0aa94a06325e2bf89": {
          "model_module": "@jupyter-widgets/controls",
          "model_name": "DescriptionStyleModel",
          "model_module_version": "1.5.0",
          "state": {
            "_model_module": "@jupyter-widgets/controls",
            "_model_module_version": "1.5.0",
            "_model_name": "DescriptionStyleModel",
            "_view_count": null,
            "_view_module": "@jupyter-widgets/base",
            "_view_module_version": "1.2.0",
            "_view_name": "StyleView",
            "description_width": ""
          }
        },
        "080454586a04486d8b09be85460c307a": {
          "model_module": "@jupyter-widgets/controls",
          "model_name": "HBoxModel",
          "model_module_version": "1.5.0",
          "state": {
            "_dom_classes": [],
            "_model_module": "@jupyter-widgets/controls",
            "_model_module_version": "1.5.0",
            "_model_name": "HBoxModel",
            "_view_count": null,
            "_view_module": "@jupyter-widgets/controls",
            "_view_module_version": "1.5.0",
            "_view_name": "HBoxView",
            "box_style": "",
            "children": [
              "IPY_MODEL_3b93d7b280a64565a07772047b863e6e",
              "IPY_MODEL_29873537221c4482995d52fdbc5e6a18",
              "IPY_MODEL_c95fef2e9d934d66b619a2835ae46297"
            ],
            "layout": "IPY_MODEL_522f6e4702e940e6bed2f5538f26ec3f"
          }
        },
        "3b93d7b280a64565a07772047b863e6e": {
          "model_module": "@jupyter-widgets/controls",
          "model_name": "HTMLModel",
          "model_module_version": "1.5.0",
          "state": {
            "_dom_classes": [],
            "_model_module": "@jupyter-widgets/controls",
            "_model_module_version": "1.5.0",
            "_model_name": "HTMLModel",
            "_view_count": null,
            "_view_module": "@jupyter-widgets/controls",
            "_view_module_version": "1.5.0",
            "_view_name": "HTMLView",
            "description": "",
            "description_tooltip": null,
            "layout": "IPY_MODEL_8ee25fe4838a488bac8204e179759774",
            "placeholder": "​",
            "style": "IPY_MODEL_b03301a291df48ae8823a5281a948912",
            "value": "Map: 100%"
          }
        },
        "29873537221c4482995d52fdbc5e6a18": {
          "model_module": "@jupyter-widgets/controls",
          "model_name": "FloatProgressModel",
          "model_module_version": "1.5.0",
          "state": {
            "_dom_classes": [],
            "_model_module": "@jupyter-widgets/controls",
            "_model_module_version": "1.5.0",
            "_model_name": "FloatProgressModel",
            "_view_count": null,
            "_view_module": "@jupyter-widgets/controls",
            "_view_module_version": "1.5.0",
            "_view_name": "ProgressView",
            "bar_style": "success",
            "description": "",
            "description_tooltip": null,
            "layout": "IPY_MODEL_aae26fa2b7ed4c61a93f8c6347c921c9",
            "max": 50000,
            "min": 0,
            "orientation": "horizontal",
            "style": "IPY_MODEL_772e3f93cb684ccc86feda646c1a5992",
            "value": 50000
          }
        },
        "c95fef2e9d934d66b619a2835ae46297": {
          "model_module": "@jupyter-widgets/controls",
          "model_name": "HTMLModel",
          "model_module_version": "1.5.0",
          "state": {
            "_dom_classes": [],
            "_model_module": "@jupyter-widgets/controls",
            "_model_module_version": "1.5.0",
            "_model_name": "HTMLModel",
            "_view_count": null,
            "_view_module": "@jupyter-widgets/controls",
            "_view_module_version": "1.5.0",
            "_view_name": "HTMLView",
            "description": "",
            "description_tooltip": null,
            "layout": "IPY_MODEL_c451d7dba86243beb14d5d2fad685d58",
            "placeholder": "​",
            "style": "IPY_MODEL_374c5251285a47eb89ad36332fe62234",
            "value": " 50000/50000 [00:17&lt;00:00, 3056.58 examples/s]"
          }
        },
        "522f6e4702e940e6bed2f5538f26ec3f": {
          "model_module": "@jupyter-widgets/base",
          "model_name": "LayoutModel",
          "model_module_version": "1.2.0",
          "state": {
            "_model_module": "@jupyter-widgets/base",
            "_model_module_version": "1.2.0",
            "_model_name": "LayoutModel",
            "_view_count": null,
            "_view_module": "@jupyter-widgets/base",
            "_view_module_version": "1.2.0",
            "_view_name": "LayoutView",
            "align_content": null,
            "align_items": null,
            "align_self": null,
            "border": null,
            "bottom": null,
            "display": null,
            "flex": null,
            "flex_flow": null,
            "grid_area": null,
            "grid_auto_columns": null,
            "grid_auto_flow": null,
            "grid_auto_rows": null,
            "grid_column": null,
            "grid_gap": null,
            "grid_row": null,
            "grid_template_areas": null,
            "grid_template_columns": null,
            "grid_template_rows": null,
            "height": null,
            "justify_content": null,
            "justify_items": null,
            "left": null,
            "margin": null,
            "max_height": null,
            "max_width": null,
            "min_height": null,
            "min_width": null,
            "object_fit": null,
            "object_position": null,
            "order": null,
            "overflow": null,
            "overflow_x": null,
            "overflow_y": null,
            "padding": null,
            "right": null,
            "top": null,
            "visibility": null,
            "width": null
          }
        },
        "8ee25fe4838a488bac8204e179759774": {
          "model_module": "@jupyter-widgets/base",
          "model_name": "LayoutModel",
          "model_module_version": "1.2.0",
          "state": {
            "_model_module": "@jupyter-widgets/base",
            "_model_module_version": "1.2.0",
            "_model_name": "LayoutModel",
            "_view_count": null,
            "_view_module": "@jupyter-widgets/base",
            "_view_module_version": "1.2.0",
            "_view_name": "LayoutView",
            "align_content": null,
            "align_items": null,
            "align_self": null,
            "border": null,
            "bottom": null,
            "display": null,
            "flex": null,
            "flex_flow": null,
            "grid_area": null,
            "grid_auto_columns": null,
            "grid_auto_flow": null,
            "grid_auto_rows": null,
            "grid_column": null,
            "grid_gap": null,
            "grid_row": null,
            "grid_template_areas": null,
            "grid_template_columns": null,
            "grid_template_rows": null,
            "height": null,
            "justify_content": null,
            "justify_items": null,
            "left": null,
            "margin": null,
            "max_height": null,
            "max_width": null,
            "min_height": null,
            "min_width": null,
            "object_fit": null,
            "object_position": null,
            "order": null,
            "overflow": null,
            "overflow_x": null,
            "overflow_y": null,
            "padding": null,
            "right": null,
            "top": null,
            "visibility": null,
            "width": null
          }
        },
        "b03301a291df48ae8823a5281a948912": {
          "model_module": "@jupyter-widgets/controls",
          "model_name": "DescriptionStyleModel",
          "model_module_version": "1.5.0",
          "state": {
            "_model_module": "@jupyter-widgets/controls",
            "_model_module_version": "1.5.0",
            "_model_name": "DescriptionStyleModel",
            "_view_count": null,
            "_view_module": "@jupyter-widgets/base",
            "_view_module_version": "1.2.0",
            "_view_name": "StyleView",
            "description_width": ""
          }
        },
        "aae26fa2b7ed4c61a93f8c6347c921c9": {
          "model_module": "@jupyter-widgets/base",
          "model_name": "LayoutModel",
          "model_module_version": "1.2.0",
          "state": {
            "_model_module": "@jupyter-widgets/base",
            "_model_module_version": "1.2.0",
            "_model_name": "LayoutModel",
            "_view_count": null,
            "_view_module": "@jupyter-widgets/base",
            "_view_module_version": "1.2.0",
            "_view_name": "LayoutView",
            "align_content": null,
            "align_items": null,
            "align_self": null,
            "border": null,
            "bottom": null,
            "display": null,
            "flex": null,
            "flex_flow": null,
            "grid_area": null,
            "grid_auto_columns": null,
            "grid_auto_flow": null,
            "grid_auto_rows": null,
            "grid_column": null,
            "grid_gap": null,
            "grid_row": null,
            "grid_template_areas": null,
            "grid_template_columns": null,
            "grid_template_rows": null,
            "height": null,
            "justify_content": null,
            "justify_items": null,
            "left": null,
            "margin": null,
            "max_height": null,
            "max_width": null,
            "min_height": null,
            "min_width": null,
            "object_fit": null,
            "object_position": null,
            "order": null,
            "overflow": null,
            "overflow_x": null,
            "overflow_y": null,
            "padding": null,
            "right": null,
            "top": null,
            "visibility": null,
            "width": null
          }
        },
        "772e3f93cb684ccc86feda646c1a5992": {
          "model_module": "@jupyter-widgets/controls",
          "model_name": "ProgressStyleModel",
          "model_module_version": "1.5.0",
          "state": {
            "_model_module": "@jupyter-widgets/controls",
            "_model_module_version": "1.5.0",
            "_model_name": "ProgressStyleModel",
            "_view_count": null,
            "_view_module": "@jupyter-widgets/base",
            "_view_module_version": "1.2.0",
            "_view_name": "StyleView",
            "bar_color": null,
            "description_width": ""
          }
        },
        "c451d7dba86243beb14d5d2fad685d58": {
          "model_module": "@jupyter-widgets/base",
          "model_name": "LayoutModel",
          "model_module_version": "1.2.0",
          "state": {
            "_model_module": "@jupyter-widgets/base",
            "_model_module_version": "1.2.0",
            "_model_name": "LayoutModel",
            "_view_count": null,
            "_view_module": "@jupyter-widgets/base",
            "_view_module_version": "1.2.0",
            "_view_name": "LayoutView",
            "align_content": null,
            "align_items": null,
            "align_self": null,
            "border": null,
            "bottom": null,
            "display": null,
            "flex": null,
            "flex_flow": null,
            "grid_area": null,
            "grid_auto_columns": null,
            "grid_auto_flow": null,
            "grid_auto_rows": null,
            "grid_column": null,
            "grid_gap": null,
            "grid_row": null,
            "grid_template_areas": null,
            "grid_template_columns": null,
            "grid_template_rows": null,
            "height": null,
            "justify_content": null,
            "justify_items": null,
            "left": null,
            "margin": null,
            "max_height": null,
            "max_width": null,
            "min_height": null,
            "min_width": null,
            "object_fit": null,
            "object_position": null,
            "order": null,
            "overflow": null,
            "overflow_x": null,
            "overflow_y": null,
            "padding": null,
            "right": null,
            "top": null,
            "visibility": null,
            "width": null
          }
        },
        "374c5251285a47eb89ad36332fe62234": {
          "model_module": "@jupyter-widgets/controls",
          "model_name": "DescriptionStyleModel",
          "model_module_version": "1.5.0",
          "state": {
            "_model_module": "@jupyter-widgets/controls",
            "_model_module_version": "1.5.0",
            "_model_name": "DescriptionStyleModel",
            "_view_count": null,
            "_view_module": "@jupyter-widgets/base",
            "_view_module_version": "1.2.0",
            "_view_name": "StyleView",
            "description_width": ""
          }
        },
        "f9da5ca2c9914291bd0b10775a084969": {
          "model_module": "@jupyter-widgets/controls",
          "model_name": "HBoxModel",
          "model_module_version": "1.5.0",
          "state": {
            "_dom_classes": [],
            "_model_module": "@jupyter-widgets/controls",
            "_model_module_version": "1.5.0",
            "_model_name": "HBoxModel",
            "_view_count": null,
            "_view_module": "@jupyter-widgets/controls",
            "_view_module_version": "1.5.0",
            "_view_name": "HBoxView",
            "box_style": "",
            "children": [
              "IPY_MODEL_22a15001a4c54146a64be591f46303ed",
              "IPY_MODEL_d4554f0679ca4516949f2ebedd970ed9",
              "IPY_MODEL_e2decdaf1b414737930913c0ee78a979"
            ],
            "layout": "IPY_MODEL_6a39fdbe2ac24e5eaa08cd5717f46d67"
          }
        },
        "22a15001a4c54146a64be591f46303ed": {
          "model_module": "@jupyter-widgets/controls",
          "model_name": "HTMLModel",
          "model_module_version": "1.5.0",
          "state": {
            "_dom_classes": [],
            "_model_module": "@jupyter-widgets/controls",
            "_model_module_version": "1.5.0",
            "_model_name": "HTMLModel",
            "_view_count": null,
            "_view_module": "@jupyter-widgets/controls",
            "_view_module_version": "1.5.0",
            "_view_name": "HTMLView",
            "description": "",
            "description_tooltip": null,
            "layout": "IPY_MODEL_b76ce23a4ed74cff8c5ad6764502bec5",
            "placeholder": "​",
            "style": "IPY_MODEL_c739b1664dd24e749477c4733a6ddb88",
            "value": "Map: 100%"
          }
        },
        "d4554f0679ca4516949f2ebedd970ed9": {
          "model_module": "@jupyter-widgets/controls",
          "model_name": "FloatProgressModel",
          "model_module_version": "1.5.0",
          "state": {
            "_dom_classes": [],
            "_model_module": "@jupyter-widgets/controls",
            "_model_module_version": "1.5.0",
            "_model_name": "FloatProgressModel",
            "_view_count": null,
            "_view_module": "@jupyter-widgets/controls",
            "_view_module_version": "1.5.0",
            "_view_name": "ProgressView",
            "bar_style": "success",
            "description": "",
            "description_tooltip": null,
            "layout": "IPY_MODEL_eae1b503655442b281ecaace0784941a",
            "max": 25000,
            "min": 0,
            "orientation": "horizontal",
            "style": "IPY_MODEL_2945af88062d44ea8bb42591a2d4052f",
            "value": 25000
          }
        },
        "e2decdaf1b414737930913c0ee78a979": {
          "model_module": "@jupyter-widgets/controls",
          "model_name": "HTMLModel",
          "model_module_version": "1.5.0",
          "state": {
            "_dom_classes": [],
            "_model_module": "@jupyter-widgets/controls",
            "_model_module_version": "1.5.0",
            "_model_name": "HTMLModel",
            "_view_count": null,
            "_view_module": "@jupyter-widgets/controls",
            "_view_module_version": "1.5.0",
            "_view_name": "HTMLView",
            "description": "",
            "description_tooltip": null,
            "layout": "IPY_MODEL_656b02282fd14b848bb500ffdb105d9c",
            "placeholder": "​",
            "style": "IPY_MODEL_c113114fff7047b6866c3e19566682a3",
            "value": " 25000/25000 [01:57&lt;00:00, 226.02 examples/s]"
          }
        },
        "6a39fdbe2ac24e5eaa08cd5717f46d67": {
          "model_module": "@jupyter-widgets/base",
          "model_name": "LayoutModel",
          "model_module_version": "1.2.0",
          "state": {
            "_model_module": "@jupyter-widgets/base",
            "_model_module_version": "1.2.0",
            "_model_name": "LayoutModel",
            "_view_count": null,
            "_view_module": "@jupyter-widgets/base",
            "_view_module_version": "1.2.0",
            "_view_name": "LayoutView",
            "align_content": null,
            "align_items": null,
            "align_self": null,
            "border": null,
            "bottom": null,
            "display": null,
            "flex": null,
            "flex_flow": null,
            "grid_area": null,
            "grid_auto_columns": null,
            "grid_auto_flow": null,
            "grid_auto_rows": null,
            "grid_column": null,
            "grid_gap": null,
            "grid_row": null,
            "grid_template_areas": null,
            "grid_template_columns": null,
            "grid_template_rows": null,
            "height": null,
            "justify_content": null,
            "justify_items": null,
            "left": null,
            "margin": null,
            "max_height": null,
            "max_width": null,
            "min_height": null,
            "min_width": null,
            "object_fit": null,
            "object_position": null,
            "order": null,
            "overflow": null,
            "overflow_x": null,
            "overflow_y": null,
            "padding": null,
            "right": null,
            "top": null,
            "visibility": null,
            "width": null
          }
        },
        "b76ce23a4ed74cff8c5ad6764502bec5": {
          "model_module": "@jupyter-widgets/base",
          "model_name": "LayoutModel",
          "model_module_version": "1.2.0",
          "state": {
            "_model_module": "@jupyter-widgets/base",
            "_model_module_version": "1.2.0",
            "_model_name": "LayoutModel",
            "_view_count": null,
            "_view_module": "@jupyter-widgets/base",
            "_view_module_version": "1.2.0",
            "_view_name": "LayoutView",
            "align_content": null,
            "align_items": null,
            "align_self": null,
            "border": null,
            "bottom": null,
            "display": null,
            "flex": null,
            "flex_flow": null,
            "grid_area": null,
            "grid_auto_columns": null,
            "grid_auto_flow": null,
            "grid_auto_rows": null,
            "grid_column": null,
            "grid_gap": null,
            "grid_row": null,
            "grid_template_areas": null,
            "grid_template_columns": null,
            "grid_template_rows": null,
            "height": null,
            "justify_content": null,
            "justify_items": null,
            "left": null,
            "margin": null,
            "max_height": null,
            "max_width": null,
            "min_height": null,
            "min_width": null,
            "object_fit": null,
            "object_position": null,
            "order": null,
            "overflow": null,
            "overflow_x": null,
            "overflow_y": null,
            "padding": null,
            "right": null,
            "top": null,
            "visibility": null,
            "width": null
          }
        },
        "c739b1664dd24e749477c4733a6ddb88": {
          "model_module": "@jupyter-widgets/controls",
          "model_name": "DescriptionStyleModel",
          "model_module_version": "1.5.0",
          "state": {
            "_model_module": "@jupyter-widgets/controls",
            "_model_module_version": "1.5.0",
            "_model_name": "DescriptionStyleModel",
            "_view_count": null,
            "_view_module": "@jupyter-widgets/base",
            "_view_module_version": "1.2.0",
            "_view_name": "StyleView",
            "description_width": ""
          }
        },
        "eae1b503655442b281ecaace0784941a": {
          "model_module": "@jupyter-widgets/base",
          "model_name": "LayoutModel",
          "model_module_version": "1.2.0",
          "state": {
            "_model_module": "@jupyter-widgets/base",
            "_model_module_version": "1.2.0",
            "_model_name": "LayoutModel",
            "_view_count": null,
            "_view_module": "@jupyter-widgets/base",
            "_view_module_version": "1.2.0",
            "_view_name": "LayoutView",
            "align_content": null,
            "align_items": null,
            "align_self": null,
            "border": null,
            "bottom": null,
            "display": null,
            "flex": null,
            "flex_flow": null,
            "grid_area": null,
            "grid_auto_columns": null,
            "grid_auto_flow": null,
            "grid_auto_rows": null,
            "grid_column": null,
            "grid_gap": null,
            "grid_row": null,
            "grid_template_areas": null,
            "grid_template_columns": null,
            "grid_template_rows": null,
            "height": null,
            "justify_content": null,
            "justify_items": null,
            "left": null,
            "margin": null,
            "max_height": null,
            "max_width": null,
            "min_height": null,
            "min_width": null,
            "object_fit": null,
            "object_position": null,
            "order": null,
            "overflow": null,
            "overflow_x": null,
            "overflow_y": null,
            "padding": null,
            "right": null,
            "top": null,
            "visibility": null,
            "width": null
          }
        },
        "2945af88062d44ea8bb42591a2d4052f": {
          "model_module": "@jupyter-widgets/controls",
          "model_name": "ProgressStyleModel",
          "model_module_version": "1.5.0",
          "state": {
            "_model_module": "@jupyter-widgets/controls",
            "_model_module_version": "1.5.0",
            "_model_name": "ProgressStyleModel",
            "_view_count": null,
            "_view_module": "@jupyter-widgets/base",
            "_view_module_version": "1.2.0",
            "_view_name": "StyleView",
            "bar_color": null,
            "description_width": ""
          }
        },
        "656b02282fd14b848bb500ffdb105d9c": {
          "model_module": "@jupyter-widgets/base",
          "model_name": "LayoutModel",
          "model_module_version": "1.2.0",
          "state": {
            "_model_module": "@jupyter-widgets/base",
            "_model_module_version": "1.2.0",
            "_model_name": "LayoutModel",
            "_view_count": null,
            "_view_module": "@jupyter-widgets/base",
            "_view_module_version": "1.2.0",
            "_view_name": "LayoutView",
            "align_content": null,
            "align_items": null,
            "align_self": null,
            "border": null,
            "bottom": null,
            "display": null,
            "flex": null,
            "flex_flow": null,
            "grid_area": null,
            "grid_auto_columns": null,
            "grid_auto_flow": null,
            "grid_auto_rows": null,
            "grid_column": null,
            "grid_gap": null,
            "grid_row": null,
            "grid_template_areas": null,
            "grid_template_columns": null,
            "grid_template_rows": null,
            "height": null,
            "justify_content": null,
            "justify_items": null,
            "left": null,
            "margin": null,
            "max_height": null,
            "max_width": null,
            "min_height": null,
            "min_width": null,
            "object_fit": null,
            "object_position": null,
            "order": null,
            "overflow": null,
            "overflow_x": null,
            "overflow_y": null,
            "padding": null,
            "right": null,
            "top": null,
            "visibility": null,
            "width": null
          }
        },
        "c113114fff7047b6866c3e19566682a3": {
          "model_module": "@jupyter-widgets/controls",
          "model_name": "DescriptionStyleModel",
          "model_module_version": "1.5.0",
          "state": {
            "_model_module": "@jupyter-widgets/controls",
            "_model_module_version": "1.5.0",
            "_model_name": "DescriptionStyleModel",
            "_view_count": null,
            "_view_module": "@jupyter-widgets/base",
            "_view_module_version": "1.2.0",
            "_view_name": "StyleView",
            "description_width": ""
          }
        },
        "602f332a2a5e4e349fa24f3eac0cc25f": {
          "model_module": "@jupyter-widgets/controls",
          "model_name": "HBoxModel",
          "model_module_version": "1.5.0",
          "state": {
            "_dom_classes": [],
            "_model_module": "@jupyter-widgets/controls",
            "_model_module_version": "1.5.0",
            "_model_name": "HBoxModel",
            "_view_count": null,
            "_view_module": "@jupyter-widgets/controls",
            "_view_module_version": "1.5.0",
            "_view_name": "HBoxView",
            "box_style": "",
            "children": [
              "IPY_MODEL_838b85b7463241e5a43e95465e9f4293",
              "IPY_MODEL_eac0cb38d2ea4541b0735052d08ee8c9",
              "IPY_MODEL_1b30fa471728419a8fcc854b3be0aff3"
            ],
            "layout": "IPY_MODEL_74c6f5b9650f488d999b4664ae708653"
          }
        },
        "838b85b7463241e5a43e95465e9f4293": {
          "model_module": "@jupyter-widgets/controls",
          "model_name": "HTMLModel",
          "model_module_version": "1.5.0",
          "state": {
            "_dom_classes": [],
            "_model_module": "@jupyter-widgets/controls",
            "_model_module_version": "1.5.0",
            "_model_name": "HTMLModel",
            "_view_count": null,
            "_view_module": "@jupyter-widgets/controls",
            "_view_module_version": "1.5.0",
            "_view_name": "HTMLView",
            "description": "",
            "description_tooltip": null,
            "layout": "IPY_MODEL_087f9ac27c0e4290a1da137fdfa0d982",
            "placeholder": "​",
            "style": "IPY_MODEL_e017dd4be8514e43ae815588ebf04028",
            "value": "Map: 100%"
          }
        },
        "eac0cb38d2ea4541b0735052d08ee8c9": {
          "model_module": "@jupyter-widgets/controls",
          "model_name": "FloatProgressModel",
          "model_module_version": "1.5.0",
          "state": {
            "_dom_classes": [],
            "_model_module": "@jupyter-widgets/controls",
            "_model_module_version": "1.5.0",
            "_model_name": "FloatProgressModel",
            "_view_count": null,
            "_view_module": "@jupyter-widgets/controls",
            "_view_module_version": "1.5.0",
            "_view_name": "ProgressView",
            "bar_style": "success",
            "description": "",
            "description_tooltip": null,
            "layout": "IPY_MODEL_cdf011f66b7a48a297df089d4c06c638",
            "max": 25000,
            "min": 0,
            "orientation": "horizontal",
            "style": "IPY_MODEL_82a5f9e5f23b46a092bce547c2c2adad",
            "value": 25000
          }
        },
        "1b30fa471728419a8fcc854b3be0aff3": {
          "model_module": "@jupyter-widgets/controls",
          "model_name": "HTMLModel",
          "model_module_version": "1.5.0",
          "state": {
            "_dom_classes": [],
            "_model_module": "@jupyter-widgets/controls",
            "_model_module_version": "1.5.0",
            "_model_name": "HTMLModel",
            "_view_count": null,
            "_view_module": "@jupyter-widgets/controls",
            "_view_module_version": "1.5.0",
            "_view_name": "HTMLView",
            "description": "",
            "description_tooltip": null,
            "layout": "IPY_MODEL_52920d3a903449d5a56994574bfa5630",
            "placeholder": "​",
            "style": "IPY_MODEL_9b6150b9d04941c7900aa1c4fce4be4c",
            "value": " 25000/25000 [01:46&lt;00:00, 221.51 examples/s]"
          }
        },
        "74c6f5b9650f488d999b4664ae708653": {
          "model_module": "@jupyter-widgets/base",
          "model_name": "LayoutModel",
          "model_module_version": "1.2.0",
          "state": {
            "_model_module": "@jupyter-widgets/base",
            "_model_module_version": "1.2.0",
            "_model_name": "LayoutModel",
            "_view_count": null,
            "_view_module": "@jupyter-widgets/base",
            "_view_module_version": "1.2.0",
            "_view_name": "LayoutView",
            "align_content": null,
            "align_items": null,
            "align_self": null,
            "border": null,
            "bottom": null,
            "display": null,
            "flex": null,
            "flex_flow": null,
            "grid_area": null,
            "grid_auto_columns": null,
            "grid_auto_flow": null,
            "grid_auto_rows": null,
            "grid_column": null,
            "grid_gap": null,
            "grid_row": null,
            "grid_template_areas": null,
            "grid_template_columns": null,
            "grid_template_rows": null,
            "height": null,
            "justify_content": null,
            "justify_items": null,
            "left": null,
            "margin": null,
            "max_height": null,
            "max_width": null,
            "min_height": null,
            "min_width": null,
            "object_fit": null,
            "object_position": null,
            "order": null,
            "overflow": null,
            "overflow_x": null,
            "overflow_y": null,
            "padding": null,
            "right": null,
            "top": null,
            "visibility": null,
            "width": null
          }
        },
        "087f9ac27c0e4290a1da137fdfa0d982": {
          "model_module": "@jupyter-widgets/base",
          "model_name": "LayoutModel",
          "model_module_version": "1.2.0",
          "state": {
            "_model_module": "@jupyter-widgets/base",
            "_model_module_version": "1.2.0",
            "_model_name": "LayoutModel",
            "_view_count": null,
            "_view_module": "@jupyter-widgets/base",
            "_view_module_version": "1.2.0",
            "_view_name": "LayoutView",
            "align_content": null,
            "align_items": null,
            "align_self": null,
            "border": null,
            "bottom": null,
            "display": null,
            "flex": null,
            "flex_flow": null,
            "grid_area": null,
            "grid_auto_columns": null,
            "grid_auto_flow": null,
            "grid_auto_rows": null,
            "grid_column": null,
            "grid_gap": null,
            "grid_row": null,
            "grid_template_areas": null,
            "grid_template_columns": null,
            "grid_template_rows": null,
            "height": null,
            "justify_content": null,
            "justify_items": null,
            "left": null,
            "margin": null,
            "max_height": null,
            "max_width": null,
            "min_height": null,
            "min_width": null,
            "object_fit": null,
            "object_position": null,
            "order": null,
            "overflow": null,
            "overflow_x": null,
            "overflow_y": null,
            "padding": null,
            "right": null,
            "top": null,
            "visibility": null,
            "width": null
          }
        },
        "e017dd4be8514e43ae815588ebf04028": {
          "model_module": "@jupyter-widgets/controls",
          "model_name": "DescriptionStyleModel",
          "model_module_version": "1.5.0",
          "state": {
            "_model_module": "@jupyter-widgets/controls",
            "_model_module_version": "1.5.0",
            "_model_name": "DescriptionStyleModel",
            "_view_count": null,
            "_view_module": "@jupyter-widgets/base",
            "_view_module_version": "1.2.0",
            "_view_name": "StyleView",
            "description_width": ""
          }
        },
        "cdf011f66b7a48a297df089d4c06c638": {
          "model_module": "@jupyter-widgets/base",
          "model_name": "LayoutModel",
          "model_module_version": "1.2.0",
          "state": {
            "_model_module": "@jupyter-widgets/base",
            "_model_module_version": "1.2.0",
            "_model_name": "LayoutModel",
            "_view_count": null,
            "_view_module": "@jupyter-widgets/base",
            "_view_module_version": "1.2.0",
            "_view_name": "LayoutView",
            "align_content": null,
            "align_items": null,
            "align_self": null,
            "border": null,
            "bottom": null,
            "display": null,
            "flex": null,
            "flex_flow": null,
            "grid_area": null,
            "grid_auto_columns": null,
            "grid_auto_flow": null,
            "grid_auto_rows": null,
            "grid_column": null,
            "grid_gap": null,
            "grid_row": null,
            "grid_template_areas": null,
            "grid_template_columns": null,
            "grid_template_rows": null,
            "height": null,
            "justify_content": null,
            "justify_items": null,
            "left": null,
            "margin": null,
            "max_height": null,
            "max_width": null,
            "min_height": null,
            "min_width": null,
            "object_fit": null,
            "object_position": null,
            "order": null,
            "overflow": null,
            "overflow_x": null,
            "overflow_y": null,
            "padding": null,
            "right": null,
            "top": null,
            "visibility": null,
            "width": null
          }
        },
        "82a5f9e5f23b46a092bce547c2c2adad": {
          "model_module": "@jupyter-widgets/controls",
          "model_name": "ProgressStyleModel",
          "model_module_version": "1.5.0",
          "state": {
            "_model_module": "@jupyter-widgets/controls",
            "_model_module_version": "1.5.0",
            "_model_name": "ProgressStyleModel",
            "_view_count": null,
            "_view_module": "@jupyter-widgets/base",
            "_view_module_version": "1.2.0",
            "_view_name": "StyleView",
            "bar_color": null,
            "description_width": ""
          }
        },
        "52920d3a903449d5a56994574bfa5630": {
          "model_module": "@jupyter-widgets/base",
          "model_name": "LayoutModel",
          "model_module_version": "1.2.0",
          "state": {
            "_model_module": "@jupyter-widgets/base",
            "_model_module_version": "1.2.0",
            "_model_name": "LayoutModel",
            "_view_count": null,
            "_view_module": "@jupyter-widgets/base",
            "_view_module_version": "1.2.0",
            "_view_name": "LayoutView",
            "align_content": null,
            "align_items": null,
            "align_self": null,
            "border": null,
            "bottom": null,
            "display": null,
            "flex": null,
            "flex_flow": null,
            "grid_area": null,
            "grid_auto_columns": null,
            "grid_auto_flow": null,
            "grid_auto_rows": null,
            "grid_column": null,
            "grid_gap": null,
            "grid_row": null,
            "grid_template_areas": null,
            "grid_template_columns": null,
            "grid_template_rows": null,
            "height": null,
            "justify_content": null,
            "justify_items": null,
            "left": null,
            "margin": null,
            "max_height": null,
            "max_width": null,
            "min_height": null,
            "min_width": null,
            "object_fit": null,
            "object_position": null,
            "order": null,
            "overflow": null,
            "overflow_x": null,
            "overflow_y": null,
            "padding": null,
            "right": null,
            "top": null,
            "visibility": null,
            "width": null
          }
        },
        "9b6150b9d04941c7900aa1c4fce4be4c": {
          "model_module": "@jupyter-widgets/controls",
          "model_name": "DescriptionStyleModel",
          "model_module_version": "1.5.0",
          "state": {
            "_model_module": "@jupyter-widgets/controls",
            "_model_module_version": "1.5.0",
            "_model_name": "DescriptionStyleModel",
            "_view_count": null,
            "_view_module": "@jupyter-widgets/base",
            "_view_module_version": "1.2.0",
            "_view_name": "StyleView",
            "description_width": ""
          }
        }
      }
    }
  },
  "nbformat": 4,
  "nbformat_minor": 0
}